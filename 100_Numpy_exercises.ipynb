{
 "cells": [
  {
   "cell_type": "markdown",
   "id": "d46e26d4",
   "metadata": {},
   "source": [
    "# 100 numpy exercises\n",
    "\n",
    "This is a collection of exercises that have been collected in the numpy mailing list, on stack overflow\n",
    "and in the numpy documentation. The goal of this collection is to offer a quick reference for both old\n",
    "and new users but also to provide a set of exercises for those who teach.\n",
    "\n",
    "\n",
    "If you find an error or think you've a better way to solve some of them, feel\n",
    "free to open an issue at <https://github.com/rougier/numpy-100>."
   ]
  },
  {
   "cell_type": "markdown",
   "id": "1ce7c53f",
   "metadata": {},
   "source": [
    "Run the `initialize.py` module, then for each question you can query the\n",
    "answer or an hint with `hint(n)` or `answer(n)` for `n` question number."
   ]
  },
  {
   "cell_type": "markdown",
   "id": "dcc6b1ac",
   "metadata": {},
   "source": [
    "#### 1. Import the numpy package under the name `np` (★☆☆)"
   ]
  },
  {
   "cell_type": "code",
   "execution_count": 1,
   "id": "6c52078e",
   "metadata": {},
   "outputs": [],
   "source": [
    "import numpy as np"
   ]
  },
  {
   "cell_type": "markdown",
   "id": "118ded29",
   "metadata": {},
   "source": [
    "#### 2. Print the numpy version and the configuration (★☆☆)"
   ]
  },
  {
   "cell_type": "code",
   "execution_count": 2,
   "id": "023a2c52",
   "metadata": {},
   "outputs": [
    {
     "name": "stdout",
     "output_type": "stream",
     "text": [
      "1.26.3\n"
     ]
    }
   ],
   "source": [
    "print(np.__version__)"
   ]
  },
  {
   "cell_type": "markdown",
   "id": "172b913a",
   "metadata": {},
   "source": [
    "#### 3. Create a null vector of size 10 (★☆☆)"
   ]
  },
  {
   "cell_type": "code",
   "execution_count": 3,
   "id": "df54025a",
   "metadata": {},
   "outputs": [
    {
     "data": {
      "text/plain": [
       "array([0., 0., 0., 0., 0., 0., 0., 0., 0., 0.])"
      ]
     },
     "execution_count": 3,
     "metadata": {},
     "output_type": "execute_result"
    }
   ],
   "source": [
    "np.zeros(10)"
   ]
  },
  {
   "cell_type": "markdown",
   "id": "95ee9e07",
   "metadata": {},
   "source": [
    "#### 4. How to find the memory size of any array (★☆☆)"
   ]
  },
  {
   "cell_type": "code",
   "execution_count": 4,
   "id": "5c5b0950",
   "metadata": {},
   "outputs": [
    {
     "name": "stdout",
     "output_type": "stream",
     "text": [
      "Memory size of the array: 80 bytes\n"
     ]
    }
   ],
   "source": [
    "array = np.zeros(10)\n",
    "print(f\"Memory size of the array: {array.nbytes} bytes\")"
   ]
  },
  {
   "cell_type": "markdown",
   "id": "45fca154",
   "metadata": {},
   "source": [
    "#### 5. How to get the documentation of the numpy add function from the command line? (★☆☆)"
   ]
  },
  {
   "cell_type": "code",
   "execution_count": 5,
   "id": "fcb1248a",
   "metadata": {},
   "outputs": [
    {
     "name": "stdout",
     "output_type": "stream",
     "text": [
      "Help on ufunc:\n",
      "\n",
      "add = <ufunc 'add'>\n",
      "    add(x1, x2, /, out=None, *, where=True, casting='same_kind', order='K', dtype=None, subok=True[, signature, extobj])\n",
      "\n",
      "    Add arguments element-wise.\n",
      "\n",
      "    Parameters\n",
      "    ----------\n",
      "    x1, x2 : array_like\n",
      "        The arrays to be added.\n",
      "        If ``x1.shape != x2.shape``, they must be broadcastable to a common\n",
      "        shape (which becomes the shape of the output).\n",
      "    out : ndarray, None, or tuple of ndarray and None, optional\n",
      "        A location into which the result is stored. If provided, it must have\n",
      "        a shape that the inputs broadcast to. If not provided or None,\n",
      "        a freshly-allocated array is returned. A tuple (possible only as a\n",
      "        keyword argument) must have length equal to the number of outputs.\n",
      "    where : array_like, optional\n",
      "        This condition is broadcast over the input. At locations where the\n",
      "        condition is True, the `out` array will be set to the ufunc result.\n",
      "        Elsewhere, the `out` array will retain its original value.\n",
      "        Note that if an uninitialized `out` array is created via the default\n",
      "        ``out=None``, locations within it where the condition is False will\n",
      "        remain uninitialized.\n",
      "    **kwargs\n",
      "        For other keyword-only arguments, see the\n",
      "        :ref:`ufunc docs <ufuncs.kwargs>`.\n",
      "\n",
      "    Returns\n",
      "    -------\n",
      "    add : ndarray or scalar\n",
      "        The sum of `x1` and `x2`, element-wise.\n",
      "        This is a scalar if both `x1` and `x2` are scalars.\n",
      "\n",
      "    Notes\n",
      "    -----\n",
      "    Equivalent to `x1` + `x2` in terms of array broadcasting.\n",
      "\n",
      "    Examples\n",
      "    --------\n",
      "    >>> np.add(1.0, 4.0)\n",
      "    5.0\n",
      "    >>> x1 = np.arange(9.0).reshape((3, 3))\n",
      "    >>> x2 = np.arange(3.0)\n",
      "    >>> np.add(x1, x2)\n",
      "    array([[  0.,   2.,   4.],\n",
      "           [  3.,   5.,   7.],\n",
      "           [  6.,   8.,  10.]])\n",
      "\n",
      "    The ``+`` operator can be used as a shorthand for ``np.add`` on ndarrays.\n",
      "\n",
      "    >>> x1 = np.arange(9.0).reshape((3, 3))\n",
      "    >>> x2 = np.arange(3.0)\n",
      "    >>> x1 + x2\n",
      "    array([[ 0.,  2.,  4.],\n",
      "           [ 3.,  5.,  7.],\n",
      "           [ 6.,  8., 10.]])\n",
      "\n"
     ]
    }
   ],
   "source": [
    "!python -c \"import numpy as np; help(np.add)\""
   ]
  },
  {
   "cell_type": "markdown",
   "id": "674e8019",
   "metadata": {},
   "source": [
    "#### 6. Create a null vector of size 10 but the fifth value which is 1 (★☆☆)"
   ]
  },
  {
   "cell_type": "code",
   "execution_count": 6,
   "id": "452df2a7",
   "metadata": {},
   "outputs": [
    {
     "name": "stdout",
     "output_type": "stream",
     "text": [
      "[0. 0. 0. 0. 1. 0. 0. 0. 0. 0.]\n"
     ]
    }
   ],
   "source": [
    "array[4] = 1\n",
    "print(array)"
   ]
  },
  {
   "cell_type": "markdown",
   "id": "7685e337",
   "metadata": {},
   "source": [
    "#### 7. Create a vector with values ranging from 10 to 49 (★☆☆)"
   ]
  },
  {
   "cell_type": "code",
   "execution_count": 7,
   "id": "10847d11",
   "metadata": {},
   "outputs": [
    {
     "name": "stdout",
     "output_type": "stream",
     "text": [
      "[10 11 12 13 14 15 16 17 18 19 20 21 22 23 24 25 26 27 28 29 30 31 32 33\n",
      " 34 35 36 37 38 39 40 41 42 43 44 45 46 47 48 49]\n"
     ]
    }
   ],
   "source": [
    "vector = np.arange(10, 50)\n",
    "print(vector)"
   ]
  },
  {
   "cell_type": "markdown",
   "id": "54c913ba",
   "metadata": {},
   "source": [
    "#### 8. Reverse a vector (first element becomes last) (★☆☆)"
   ]
  },
  {
   "cell_type": "code",
   "execution_count": 8,
   "id": "34722e83",
   "metadata": {},
   "outputs": [
    {
     "name": "stdout",
     "output_type": "stream",
     "text": [
      "[49 48 47 46 45 44 43 42 41 40 39 38 37 36 35 34 33 32 31 30 29 28 27 26\n",
      " 25 24 23 22 21 20 19 18 17 16 15 14 13 12 11 10]\n"
     ]
    }
   ],
   "source": [
    "reversed_vector = vector[::-1]\n",
    "print(reversed_vector)"
   ]
  },
  {
   "cell_type": "markdown",
   "id": "8e72fd08",
   "metadata": {},
   "source": [
    "#### 9. Create a 3x3 matrix with values ranging from 0 to 8 (★☆☆)"
   ]
  },
  {
   "cell_type": "code",
   "execution_count": 9,
   "id": "e18eef56",
   "metadata": {},
   "outputs": [
    {
     "name": "stdout",
     "output_type": "stream",
     "text": [
      "[[0 1 2]\n",
      " [3 4 5]\n",
      " [6 7 8]]\n"
     ]
    }
   ],
   "source": [
    "matrix1 = np.arange(9).reshape(3, 3)\n",
    "print(matrix1)"
   ]
  },
  {
   "cell_type": "markdown",
   "id": "088424fc",
   "metadata": {},
   "source": [
    "#### 10. Find indices of non-zero elements from [1,2,0,0,4,0] (★☆☆)"
   ]
  },
  {
   "cell_type": "code",
   "execution_count": 10,
   "id": "9a402d06",
   "metadata": {},
   "outputs": [
    {
     "name": "stdout",
     "output_type": "stream",
     "text": [
      "(array([0, 1, 4], dtype=int64),)\n"
     ]
    }
   ],
   "source": [
    "a = np.array([1, 2, 0, 0, 4, 0])\n",
    "b = np.nonzero(a)\n",
    "print(b)"
   ]
  },
  {
   "cell_type": "markdown",
   "id": "3f347de9",
   "metadata": {},
   "source": [
    "#### 11. Create a 3x3 identity matrix (★☆☆)"
   ]
  },
  {
   "cell_type": "code",
   "execution_count": 11,
   "id": "e38459c2",
   "metadata": {},
   "outputs": [
    {
     "name": "stdout",
     "output_type": "stream",
     "text": [
      "[[1. 0. 0.]\n",
      " [0. 1. 0.]\n",
      " [0. 0. 1.]]\n"
     ]
    }
   ],
   "source": [
    "identity_matrix = np.eye(3)\n",
    "print(identity_matrix)"
   ]
  },
  {
   "cell_type": "markdown",
   "id": "24e98f25",
   "metadata": {},
   "source": [
    "#### 12. Create a 3x3x3 array with random values (★☆☆)"
   ]
  },
  {
   "cell_type": "code",
   "execution_count": 12,
   "id": "94752bb3",
   "metadata": {},
   "outputs": [
    {
     "name": "stdout",
     "output_type": "stream",
     "text": [
      "[[[0.85050077 0.77875418 0.6801064 ]\n",
      "  [0.4461076  0.65189056 0.56972738]\n",
      "  [0.92342383 0.3944157  0.12596806]]\n",
      "\n",
      " [[0.61810882 0.71479816 0.51159683]\n",
      "  [0.45749471 0.30210751 0.82225042]\n",
      "  [0.03847752 0.14361112 0.08893805]]\n",
      "\n",
      " [[0.23448913 0.85932606 0.89484101]\n",
      "  [0.54684006 0.22066123 0.87936288]\n",
      "  [0.16527094 0.95918205 0.55467131]]]\n"
     ]
    }
   ],
   "source": [
    "random_3x3x3 = np.random.random((3, 3, 3))\n",
    "print(random_3x3x3)"
   ]
  },
  {
   "cell_type": "markdown",
   "id": "7cbca2cc",
   "metadata": {},
   "source": [
    "#### 13. Create a 10x10 array with random values and find the minimum and maximum values (★☆☆)"
   ]
  },
  {
   "cell_type": "code",
   "execution_count": 13,
   "id": "c0643b1f",
   "metadata": {},
   "outputs": [
    {
     "name": "stdout",
     "output_type": "stream",
     "text": [
      "Minimum value: 0.028761902028352715\n",
      "Maximum value: 0.9936046249546272\n"
     ]
    }
   ],
   "source": [
    "random_10x10 = np.random.random((10, 10))\n",
    "min_value = random_10x10.min()\n",
    "max_value = random_10x10.max()\n",
    "print(\"Minimum value:\",min_value)\n",
    "print(\"Maximum value:\", max_value)"
   ]
  },
  {
   "cell_type": "markdown",
   "id": "6cab4cbb",
   "metadata": {},
   "source": [
    "#### 14. Create a random vector of size 30 and find the mean value (★☆☆)"
   ]
  },
  {
   "cell_type": "code",
   "execution_count": 14,
   "id": "e922a524",
   "metadata": {},
   "outputs": [
    {
     "name": "stdout",
     "output_type": "stream",
     "text": [
      "Random vector: [0.90009221 0.26766822 0.56935373 0.42594737 0.52956413 0.65626278\n",
      " 0.34015147 0.36279394 0.05526738 0.81256618 0.33082657 0.61146518\n",
      " 0.97796801 0.66581513 0.67702217 0.78141997 0.18583739 0.77487891\n",
      " 0.91397835 0.33436504 0.06260297 0.71229057 0.1033675  0.79293573\n",
      " 0.5731698  0.18378614 0.34775641 0.34281217 0.18465546 0.2084961 ]\n",
      "Mean value: 0.4895038996089962\n"
     ]
    }
   ],
   "source": [
    "random_vector = np.random.random(30)\n",
    "mean_value = random_vector.mean()\n",
    "print(\"Random vector:\", random_vector)\n",
    "print(\"Mean value:\", mean_value)"
   ]
  },
  {
   "cell_type": "markdown",
   "id": "72053be8",
   "metadata": {},
   "source": [
    "#### 15. Create a 2d array with 1 on the border and 0 inside (★☆☆)"
   ]
  },
  {
   "cell_type": "code",
   "execution_count": 15,
   "id": "6bc84dfe",
   "metadata": {},
   "outputs": [
    {
     "name": "stdout",
     "output_type": "stream",
     "text": [
      "[[1. 1. 1. 1.]\n",
      " [1. 0. 0. 1.]\n",
      " [1. 0. 0. 1.]\n",
      " [1. 1. 1. 1.]]\n"
     ]
    }
   ],
   "source": [
    "array = np.ones((4, 4))\n",
    "array[1:-1, 1:-1] = 0\n",
    "print(array)"
   ]
  },
  {
   "cell_type": "markdown",
   "id": "86b0206b",
   "metadata": {},
   "source": [
    "#### 16. How to add a border (filled with 0's) around an existing array? (★☆☆)"
   ]
  },
  {
   "cell_type": "code",
   "execution_count": 16,
   "id": "41e66e3e",
   "metadata": {},
   "outputs": [
    {
     "name": "stdout",
     "output_type": "stream",
     "text": [
      "[[0. 0. 0. 0. 0. 0.]\n",
      " [0. 1. 1. 1. 1. 0.]\n",
      " [0. 1. 0. 0. 1. 0.]\n",
      " [0. 1. 0. 0. 1. 0.]\n",
      " [0. 1. 1. 1. 1. 0.]\n",
      " [0. 0. 0. 0. 0. 0.]]\n"
     ]
    }
   ],
   "source": [
    "array_with_border = np.pad(array, pad_width=1, mode='constant', constant_values=0)\n",
    "print(array_with_border)"
   ]
  },
  {
   "cell_type": "markdown",
   "id": "98a45574",
   "metadata": {},
   "source": [
    "#### 17. What is the result of the following expression? (★☆☆)\n",
    "```python\n",
    "0 * np.nan\n",
    "np.nan == np.nan\n",
    "np.inf > np.nan\n",
    "np.nan - np.nan\n",
    "np.nan in set([np.nan])\n",
    "0.3 == 3 * 0.1\n",
    "```"
   ]
  },
  {
   "cell_type": "code",
   "execution_count": 17,
   "id": "7eb533d5",
   "metadata": {},
   "outputs": [
    {
     "data": {
      "text/plain": [
       "False"
      ]
     },
     "execution_count": 17,
     "metadata": {},
     "output_type": "execute_result"
    }
   ],
   "source": [
    "0 * np.nan\n",
    "np.nan == np.nan\n",
    "np.inf > np.nan\n",
    "np.nan - np.nan\n",
    "np.nan in set([np.nan])\n",
    "0.3 == 3 * 0.1\n"
   ]
  },
  {
   "cell_type": "markdown",
   "id": "1486619a",
   "metadata": {},
   "source": [
    "#### 18. Create a 5x5 matrix with values 1,2,3,4 just below the diagonal (★☆☆)"
   ]
  },
  {
   "cell_type": "code",
   "execution_count": 18,
   "id": "2b9fb59c",
   "metadata": {},
   "outputs": [
    {
     "data": {
      "text/plain": [
       "array([[0, 0, 0, 0, 0],\n",
       "       [1, 0, 0, 0, 0],\n",
       "       [0, 2, 0, 0, 0],\n",
       "       [0, 0, 3, 0, 0],\n",
       "       [0, 0, 0, 4, 0]])"
      ]
     },
     "execution_count": 18,
     "metadata": {},
     "output_type": "execute_result"
    }
   ],
   "source": [
    "np.diag(np.arange(1, 5), k=-1)"
   ]
  },
  {
   "cell_type": "markdown",
   "id": "319287fd",
   "metadata": {},
   "source": [
    "#### 19. Create a 8x8 matrix and fill it with a checkerboard pattern (★☆☆)"
   ]
  },
  {
   "cell_type": "code",
   "execution_count": 19,
   "id": "299f5e60",
   "metadata": {},
   "outputs": [
    {
     "name": "stdout",
     "output_type": "stream",
     "text": [
      "[[0 1 0 1 0 1 0 1]\n",
      " [1 0 1 0 1 0 1 0]\n",
      " [0 1 0 1 0 1 0 1]\n",
      " [1 0 1 0 1 0 1 0]\n",
      " [0 1 0 1 0 1 0 1]\n",
      " [1 0 1 0 1 0 1 0]\n",
      " [0 1 0 1 0 1 0 1]\n",
      " [1 0 1 0 1 0 1 0]]\n"
     ]
    }
   ],
   "source": [
    "checkerboard = np.zeros((8, 8), dtype=int)\n",
    "checkerboard[1::2, ::2] = 1\n",
    "checkerboard[::2, 1::2] = 1\n",
    "print(checkerboard)"
   ]
  },
  {
   "cell_type": "markdown",
   "id": "fb1686ed",
   "metadata": {},
   "source": [
    "#### 20. Consider a (6,7,8) shape array, what is the index (x,y,z) of the 100th element? (★☆☆)"
   ]
  },
  {
   "cell_type": "code",
   "execution_count": 20,
   "id": "22888cc4",
   "metadata": {},
   "outputs": [
    {
     "name": "stdout",
     "output_type": "stream",
     "text": [
      "(1, 5, 4)\n"
     ]
    }
   ],
   "source": [
    "index = np.unravel_index(100, (6, 7, 8))\n",
    "print(index)"
   ]
  },
  {
   "cell_type": "markdown",
   "id": "137ea278",
   "metadata": {},
   "source": [
    "#### 21. Create a checkerboard 8x8 matrix using the tile function (★☆☆)"
   ]
  },
  {
   "cell_type": "code",
   "execution_count": 21,
   "id": "9cb81fe1",
   "metadata": {},
   "outputs": [
    {
     "name": "stdout",
     "output_type": "stream",
     "text": [
      "[[0 1 0 1 0 1 0 1]\n",
      " [1 0 1 0 1 0 1 0]\n",
      " [0 1 0 1 0 1 0 1]\n",
      " [1 0 1 0 1 0 1 0]\n",
      " [0 1 0 1 0 1 0 1]\n",
      " [1 0 1 0 1 0 1 0]\n",
      " [0 1 0 1 0 1 0 1]\n",
      " [1 0 1 0 1 0 1 0]]\n"
     ]
    }
   ],
   "source": [
    "checkerboard_tile = np.tile([[0, 1], [1, 0]], (4, 4))\n",
    "print(checkerboard_tile)"
   ]
  },
  {
   "cell_type": "markdown",
   "id": "9319f5a1",
   "metadata": {},
   "source": [
    "#### 22. Normalize a 5x5 random matrix (★☆☆)"
   ]
  },
  {
   "cell_type": "code",
   "execution_count": 22,
   "id": "fcdc0459",
   "metadata": {},
   "outputs": [
    {
     "name": "stdout",
     "output_type": "stream",
     "text": [
      "Random matrix:\n",
      " [[0.25877987 0.53131735 0.94107617 0.74135793 0.02653141]\n",
      " [0.87010215 0.25953003 0.76877841 0.53374751 0.66383523]\n",
      " [0.80709428 0.78835138 0.69817816 0.2653101  0.7284582 ]\n",
      " [0.90418064 0.02001465 0.45634223 0.4809847  0.10042697]\n",
      " [0.72834063 0.66756413 0.50430142 0.17560482 0.7673446 ]]\n",
      "Normalized matrix:\n",
      " [[0.25922831 0.55512329 1.         0.78316515 0.00707527]\n",
      " [0.92294324 0.26004276 0.81293567 0.55776172 0.69899846]\n",
      " [0.85453535 0.83418612 0.73628471 0.26631821 0.76915986]\n",
      " [0.95994239 0.         0.47372251 0.50047694 0.08730396]\n",
      " [0.76903222 0.70304694 0.52579199 0.16892484 0.81137897]]\n"
     ]
    }
   ],
   "source": [
    "random_matrix = np.random.random((5, 5))\n",
    "normalized_matrix = (random_matrix - random_matrix.min()) / (random_matrix.max() - random_matrix.min())\n",
    "print(\"Random matrix:\\n\", random_matrix)\n",
    "print(\"Normalized matrix:\\n\", normalized_matrix)"
   ]
  },
  {
   "cell_type": "markdown",
   "id": "f1902fef",
   "metadata": {},
   "source": [
    "#### 23. Create a custom dtype that describes a color as four unsigned bytes (RGBA) (★☆☆)"
   ]
  },
  {
   "cell_type": "code",
   "execution_count": 23,
   "id": "7445cb2d",
   "metadata": {},
   "outputs": [
    {
     "name": "stdout",
     "output_type": "stream",
     "text": [
      "[('r', 'u1'), ('g', 'u1'), ('b', 'u1'), ('a', 'u1')]\n"
     ]
    }
   ],
   "source": [
    "color_dtype = np.dtype([('r', np.ubyte), ('g', np.ubyte), ('b', np.ubyte), ('a', np.ubyte)])\n",
    "print(color_dtype)"
   ]
  },
  {
   "cell_type": "markdown",
   "id": "3f34bd2a",
   "metadata": {},
   "source": [
    "#### 24. Multiply a 5x3 matrix by a 3x2 matrix (real matrix product) (★☆☆)"
   ]
  },
  {
   "cell_type": "code",
   "execution_count": 24,
   "id": "ec8bd6da",
   "metadata": {},
   "outputs": [
    {
     "name": "stdout",
     "output_type": "stream",
     "text": [
      "5x3 Matrix:\n",
      " [[0.85790016 0.06277621 0.51551341]\n",
      " [0.14134341 0.45879621 0.71153644]\n",
      " [0.41261666 0.97286142 0.9913452 ]\n",
      " [0.39428558 0.09202165 0.10798218]\n",
      " [0.44120847 0.30495796 0.02397527]]\n",
      "3x2 Matrix:\n",
      " [[0.1930559  0.98402615]\n",
      " [0.90228862 0.19043225]\n",
      " [0.5127043  0.74748516]]\n",
      "Resultant Matrix:\n",
      " [[0.48657089 1.24148943]\n",
      " [0.80606158 0.75831813]\n",
      " [1.46572683 1.3323056 ]\n",
      " [0.21451218 0.48622629]\n",
      " [0.37263022 0.51015567]]\n"
     ]
    }
   ],
   "source": [
    "matrix_5x3 = np.random.random((5, 3))\n",
    "matrix_3x2 = np.random.random((3, 2))\n",
    "result = matrix_5x3 @ matrix_3x2\n",
    "print(\"5x3 Matrix:\\n\", matrix_5x3)\n",
    "print(\"3x2 Matrix:\\n\", matrix_3x2)\n",
    "print(\"Resultant Matrix:\\n\", result)"
   ]
  },
  {
   "cell_type": "markdown",
   "id": "b1919ba3",
   "metadata": {},
   "source": [
    "#### 25. Given a 1D array, negate all elements which are between 3 and 8, in place. (★☆☆)"
   ]
  },
  {
   "cell_type": "code",
   "execution_count": 25,
   "id": "5b63b63b",
   "metadata": {},
   "outputs": [
    {
     "name": "stdout",
     "output_type": "stream",
     "text": [
      "[ 0  1  2  3 -4 -5 -6 -7  8  9 10]\n"
     ]
    }
   ],
   "source": [
    "Z = np.arange(11)\n",
    "Z[(Z > 3) & (Z < 8)] *= -1\n",
    "print(Z)"
   ]
  },
  {
   "cell_type": "markdown",
   "id": "fb1daa27",
   "metadata": {},
   "source": [
    "#### 26. What is the output of the following script? (★☆☆)\n",
    "```python\n",
    "# Author: Jake VanderPlas\n",
    "\n",
    "print(sum(range(5),-1))\n",
    "from numpy import *\n",
    "print(sum(range(5),-1))\n",
    "```"
   ]
  },
  {
   "cell_type": "code",
   "execution_count": 26,
   "id": "52a34d3d",
   "metadata": {},
   "outputs": [
    {
     "name": "stdout",
     "output_type": "stream",
     "text": [
      "9\n",
      "10\n"
     ]
    }
   ],
   "source": [
    "print(sum(range(5),-1))\n",
    "from numpy import *\n",
    "print(sum(range(5),-1))"
   ]
  },
  {
   "cell_type": "markdown",
   "id": "89b7e7a7",
   "metadata": {},
   "source": [
    "#### 27. Consider an integer vector Z, which of these expressions are legal? (★☆☆)\n",
    "```python\n",
    "Z**Z\n",
    "2 << Z >> 2\n",
    "Z <- Z\n",
    "1j*Z\n",
    "Z/1/1\n",
    "Z<Z>Z\n",
    "```"
   ]
  },
  {
   "cell_type": "code",
   "execution_count": 27,
   "id": "451181cf",
   "metadata": {},
   "outputs": [
    {
     "name": "stdout",
     "output_type": "stream",
     "text": [
      "Z**Z: Error - Integers to negative integer powers are not allowed.\n",
      "2 << Z >> 2: [  0   1   2   4   0   0   0   0 128 256 512]\n",
      "legal\n",
      "Z <- Z: [False False False False  True  True  True  True False False False]\n",
      "legal\n",
      "1j*Z: [ 0. +0.j  0. +1.j  0. +2.j  0. +3.j -0. -4.j -0. -5.j -0. -6.j -0. -7.j\n",
      "  0. +8.j  0. +9.j  0.+10.j]\n",
      "legal\n",
      "Z/1/1: [ 0.  1.  2.  3. -4. -5. -6. -7.  8.  9. 10.]\n",
      "legal\n",
      "Z<Z>Z: Error - The truth value of an array with more than one element is ambiguous. Use a.any() or a.all()\n"
     ]
    }
   ],
   "source": [
    "try:\n",
    "    print(\"Z**Z:\", Z**Z)\n",
    "    print(\"legal\")\n",
    "except Exception as e:\n",
    "    print(\"Z**Z: Error -\", e)\n",
    "\n",
    "try:\n",
    "    print(\"2 << Z >> 2:\", 2 << Z >> 2)\n",
    "    print(\"legal\")\n",
    "except Exception as e:\n",
    "    print(\"2 << Z >> 2: Error -\", e)\n",
    "\n",
    "try:\n",
    "    print(\"Z <- Z:\", Z <- Z)\n",
    "    print(\"legal\")\n",
    "except Exception as e:\n",
    "    print(\"Z <- Z: Error -\", e)\n",
    "\n",
    "try:\n",
    "    print(\"1j*Z:\", 1j*Z)\n",
    "    print(\"legal\")\n",
    "except Exception as e:\n",
    "    print(\"1j*Z: Error -\", e)\n",
    "\n",
    "try:\n",
    "    print(\"Z/1/1:\", Z/1/1)\n",
    "    print(\"legal\")\n",
    "except Exception as e:\n",
    "    print(\"Z/1/1: Error -\", e)\n",
    "\n",
    "try:\n",
    "    print(\"Z<Z>Z:\", Z<Z>Z)\n",
    "    print(\"legal\")\n",
    "except Exception as e:\n",
    "    print(\"Z<Z>Z: Error -\", e)"
   ]
  },
  {
   "cell_type": "markdown",
   "id": "8c7601c6",
   "metadata": {},
   "source": [
    "#### 28. What are the result of the following expressions? (★☆☆)\n",
    "```python\n",
    "np.array(0) / np.array(0)\n",
    "np.array(0) // np.array(0)\n",
    "np.array([np.nan]).astype(int).astype(float)\n",
    "```"
   ]
  },
  {
   "cell_type": "code",
   "execution_count": 28,
   "id": "52983a0b",
   "metadata": {},
   "outputs": [
    {
     "name": "stdout",
     "output_type": "stream",
     "text": [
      "nan\n",
      "0\n",
      "[-2.14748365e+09]\n"
     ]
    },
    {
     "name": "stderr",
     "output_type": "stream",
     "text": [
      "C:\\Users\\197as\\AppData\\Local\\Temp\\ipykernel_18496\\1833778177.py:1: RuntimeWarning: invalid value encountered in divide\n",
      "  print(np.array(0) / np.array(0))\n",
      "C:\\Users\\197as\\AppData\\Local\\Temp\\ipykernel_18496\\1833778177.py:2: RuntimeWarning: divide by zero encountered in floor_divide\n",
      "  print(np.array(0) // np.array(0))\n",
      "C:\\Users\\197as\\AppData\\Local\\Temp\\ipykernel_18496\\1833778177.py:3: RuntimeWarning: invalid value encountered in cast\n",
      "  print(np.array([np.nan]).astype(int).astype(float))\n"
     ]
    }
   ],
   "source": [
    "print(np.array(0) / np.array(0))  \n",
    "print(np.array(0) // np.array(0)) \n",
    "print(np.array([np.nan]).astype(int).astype(float)) "
   ]
  },
  {
   "cell_type": "markdown",
   "id": "06c9164d",
   "metadata": {},
   "source": [
    "#### 29. How to round away from zero a float array ? (★☆☆)"
   ]
  },
  {
   "cell_type": "code",
   "execution_count": 29,
   "id": "4cce0af8",
   "metadata": {},
   "outputs": [
    {
     "name": "stdout",
     "output_type": "stream",
     "text": [
      "Original array: [-0.49342273 -6.22199143 -7.99040463 -4.92338045  2.93010122 -5.44175736\n",
      " -0.71023316 -5.77895578  4.5735873  -5.94748844]\n",
      "Rounded array: [-1. -7. -8. -5.  3. -6. -1. -6.  5. -6.]\n"
     ]
    }
   ],
   "source": [
    "float_array = np.random.uniform(-10, 10, 10)\n",
    "rounded_array = np.copysign(np.ceil(np.abs(float_array)), float_array)\n",
    "print(\"Original array:\", float_array)\n",
    "print(\"Rounded array:\", rounded_array)"
   ]
  },
  {
   "cell_type": "markdown",
   "id": "52235994",
   "metadata": {},
   "source": [
    "#### 30. How to find common values between two arrays? (★☆☆)"
   ]
  },
  {
   "cell_type": "code",
   "execution_count": 30,
   "id": "27eff6b1",
   "metadata": {},
   "outputs": [
    {
     "name": "stdout",
     "output_type": "stream",
     "text": [
      "Common values: [3 4 5]\n"
     ]
    }
   ],
   "source": [
    "array1 = np.array([1, 2, 3, 4, 5])\n",
    "array2 = np.array([3, 4, 5, 6, 7])\n",
    "common_values = np.intersect1d(array1, array2)\n",
    "print(\"Common values:\", common_values)"
   ]
  },
  {
   "cell_type": "markdown",
   "id": "7e6f7d78",
   "metadata": {},
   "source": [
    "#### 31. How to ignore all numpy warnings (not recommended)? (★☆☆)"
   ]
  },
  {
   "cell_type": "code",
   "execution_count": 31,
   "id": "1bdde6e1",
   "metadata": {},
   "outputs": [
    {
     "name": "stdout",
     "output_type": "stream",
     "text": [
      "nan\n"
     ]
    }
   ],
   "source": [
    "np.seterr(all='ignore')\n",
    "print(np.sqrt(-1))"
   ]
  },
  {
   "cell_type": "markdown",
   "id": "b001277e",
   "metadata": {},
   "source": [
    "#### 32. Is the following expressions true? (★☆☆)\n",
    "```python\n",
    "np.sqrt(-1) == np.emath.sqrt(-1)\n",
    "```"
   ]
  },
  {
   "cell_type": "code",
   "execution_count": 32,
   "id": "d8673bdf",
   "metadata": {},
   "outputs": [
    {
     "name": "stdout",
     "output_type": "stream",
     "text": [
      "False\n"
     ]
    }
   ],
   "source": [
    "result = np.sqrt(-1) == np.emath.sqrt(-1)\n",
    "print(result)"
   ]
  },
  {
   "cell_type": "markdown",
   "id": "b9a5ff84",
   "metadata": {},
   "source": [
    "#### 33. How to get the dates of yesterday, today and tomorrow? (★☆☆)"
   ]
  },
  {
   "cell_type": "code",
   "execution_count": 33,
   "id": "f33f9cc2",
   "metadata": {},
   "outputs": [
    {
     "name": "stdout",
     "output_type": "stream",
     "text": [
      "Yesterday: 2025-04-21\n",
      "Today: 2025-04-22\n",
      "Tomorrow: 2025-04-23\n"
     ]
    }
   ],
   "source": [
    "today = np.datetime64('today', 'D')\n",
    "yesterday = today - np.timedelta64(1, 'D')\n",
    "tomorrow = today + np.timedelta64(1, 'D')\n",
    "\n",
    "print(\"Yesterday:\", yesterday)\n",
    "print(\"Today:\", today)\n",
    "print(\"Tomorrow:\", tomorrow)"
   ]
  },
  {
   "cell_type": "markdown",
   "id": "f8e96e58",
   "metadata": {},
   "source": [
    "#### 34. How to get all the dates corresponding to the month of July 2016? (★★☆)"
   ]
  },
  {
   "cell_type": "code",
   "execution_count": 34,
   "id": "3927a8e8",
   "metadata": {},
   "outputs": [
    {
     "name": "stdout",
     "output_type": "stream",
     "text": [
      "['2016-07-01' '2016-07-02' '2016-07-03' '2016-07-04' '2016-07-05'\n",
      " '2016-07-06' '2016-07-07' '2016-07-08' '2016-07-09' '2016-07-10'\n",
      " '2016-07-11' '2016-07-12' '2016-07-13' '2016-07-14' '2016-07-15'\n",
      " '2016-07-16' '2016-07-17' '2016-07-18' '2016-07-19' '2016-07-20'\n",
      " '2016-07-21' '2016-07-22' '2016-07-23' '2016-07-24' '2016-07-25'\n",
      " '2016-07-26' '2016-07-27' '2016-07-28' '2016-07-29' '2016-07-30'\n",
      " '2016-07-31']\n"
     ]
    }
   ],
   "source": [
    "july_2016 = np.arange('2016-07', '2016-08', dtype='datetime64[D]')\n",
    "print(july_2016)"
   ]
  },
  {
   "cell_type": "markdown",
   "id": "557c163e",
   "metadata": {},
   "source": [
    "#### 35. How to compute ((A+B)*(-A/2)) in place (without copy)? (★★☆)"
   ]
  },
  {
   "cell_type": "code",
   "execution_count": 35,
   "id": "3c2f59ac",
   "metadata": {},
   "outputs": [
    {
     "name": "stdout",
     "output_type": "stream",
     "text": [
      "[-1.5 -1.5 -1.5]\n"
     ]
    }
   ],
   "source": [
    "A = np.ones(3)  \n",
    "B = np.ones(3) * 2  \n",
    "\n",
    "A += B  \n",
    "A *= -0.5  \n",
    "\n",
    "print(A)"
   ]
  },
  {
   "cell_type": "markdown",
   "id": "14c05852",
   "metadata": {},
   "source": [
    "#### 36. Extract the integer part of a random array of positive numbers using 4 different methods (★★☆)"
   ]
  },
  {
   "cell_type": "code",
   "execution_count": 36,
   "id": "8b7d2937",
   "metadata": {},
   "outputs": [
    {
     "name": "stdout",
     "output_type": "stream",
     "text": [
      "Original array: [8.91069761 0.28028296 1.29406822 9.48057243 1.00487145 4.40526164\n",
      " 0.51209269 5.61071427 7.47411542 1.06729087]\n",
      "Integer part (Method 1 - floor): [8. 0. 1. 9. 1. 4. 0. 5. 7. 1.]\n",
      "Integer part (Method 2 - trunc): [8. 0. 1. 9. 1. 4. 0. 5. 7. 1.]\n",
      "Integer part (Method 3 - astype): [8 0 1 9 1 4 0 5 7 1]\n",
      "Integer part (Method 4 - vectorize): [8 0 1 9 1 4 0 5 7 1]\n"
     ]
    }
   ],
   "source": [
    "random_array = np.random.uniform(0, 10, 10)\n",
    "\n",
    "integer_part_1 = np.floor(random_array)\n",
    "\n",
    "integer_part_2 = np.trunc(random_array)\n",
    "\n",
    "integer_part_3 = random_array.astype(int)\n",
    "\n",
    "integer_part_4 = np.vectorize(int)(random_array)\n",
    "\n",
    "print(\"Original array:\", random_array)\n",
    "print(\"Integer part (Method 1 - floor):\", integer_part_1)\n",
    "print(\"Integer part (Method 2 - trunc):\", integer_part_2)\n",
    "print(\"Integer part (Method 3 - astype):\", integer_part_3)\n",
    "print(\"Integer part (Method 4 - vectorize):\", integer_part_4)"
   ]
  },
  {
   "cell_type": "markdown",
   "id": "003b8721",
   "metadata": {},
   "source": [
    "#### 37. Create a 5x5 matrix with row values ranging from 0 to 4 (★★☆)"
   ]
  },
  {
   "cell_type": "code",
   "execution_count": 37,
   "id": "6461d226",
   "metadata": {},
   "outputs": [
    {
     "name": "stdout",
     "output_type": "stream",
     "text": [
      "[[0 1 2 3 4]\n",
      " [0 1 2 3 4]\n",
      " [0 1 2 3 4]\n",
      " [0 1 2 3 4]\n",
      " [0 1 2 3 4]]\n"
     ]
    }
   ],
   "source": [
    "matrix = np.arange(5).reshape(1, -1) * np.ones((5, 1), dtype=int)\n",
    "print(matrix)\n"
   ]
  },
  {
   "cell_type": "markdown",
   "id": "8e71dc21",
   "metadata": {},
   "source": [
    "#### 38. Consider a generator function that generates 10 integers and use it to build an array (★☆☆)"
   ]
  },
  {
   "cell_type": "code",
   "execution_count": 38,
   "id": "f6aefd94",
   "metadata": {},
   "outputs": [
    {
     "name": "stdout",
     "output_type": "stream",
     "text": [
      "[0 1 2 3 4 5 6 7 8 9]\n"
     ]
    }
   ],
   "source": [
    "matrix = np.array(list(range(10)))\n",
    "print(matrix)"
   ]
  },
  {
   "cell_type": "markdown",
   "id": "b7f03449",
   "metadata": {},
   "source": [
    "#### 39. Create a vector of size 10 with values ranging from 0 to 1, both excluded (★★☆)"
   ]
  },
  {
   "cell_type": "code",
   "execution_count": 39,
   "id": "a27cd904",
   "metadata": {},
   "outputs": [
    {
     "name": "stdout",
     "output_type": "stream",
     "text": [
      "[0.09090909 0.18181818 0.27272727 0.36363636 0.45454545 0.54545455\n",
      " 0.63636364 0.72727273 0.81818182 0.90909091]\n"
     ]
    }
   ],
   "source": [
    "vector = np.linspace(0, 1, 12)[1:-1]\n",
    "print(vector)"
   ]
  },
  {
   "cell_type": "markdown",
   "id": "043156c5",
   "metadata": {},
   "source": [
    "#### 40. Create a random vector of size 10 and sort it (★★☆)"
   ]
  },
  {
   "cell_type": "code",
   "execution_count": 40,
   "id": "6ae5eb58",
   "metadata": {},
   "outputs": [
    {
     "name": "stdout",
     "output_type": "stream",
     "text": [
      "Random vector: [0.07981081 0.55328718 0.22181875 0.29801649 0.24055403 0.70770479\n",
      " 0.38246732 0.25933962 0.20012999 0.81143209]\n",
      "Sorted vector: [0.07981081 0.20012999 0.22181875 0.24055403 0.25933962 0.29801649\n",
      " 0.38246732 0.55328718 0.70770479 0.81143209]\n"
     ]
    }
   ],
   "source": [
    "random_vector = np.random.random(10)\n",
    "sorted_vector = np.sort(random_vector)\n",
    "print(\"Random vector:\", random_vector)\n",
    "print(\"Sorted vector:\", sorted_vector)"
   ]
  },
  {
   "cell_type": "markdown",
   "id": "4f7e8f3f",
   "metadata": {},
   "source": [
    "#### 41. How to sum a small array faster than np.sum? (★★☆)"
   ]
  },
  {
   "cell_type": "code",
   "execution_count": 41,
   "id": "88790af3",
   "metadata": {},
   "outputs": [
    {
     "name": "stdout",
     "output_type": "stream",
     "text": [
      "Sum of the array: 15\n"
     ]
    }
   ],
   "source": [
    "small_array = np.array([1, 2, 3, 4, 5])\n",
    "result = sum(small_array)\n",
    "print(\"Sum of the array:\", result)"
   ]
  },
  {
   "cell_type": "markdown",
   "id": "13d1ca52",
   "metadata": {},
   "source": [
    "#### 42. Consider two random array A and B, check if they are equal (★★☆)"
   ]
  },
  {
   "cell_type": "code",
   "execution_count": 42,
   "id": "ca6dd579",
   "metadata": {},
   "outputs": [
    {
     "name": "stdout",
     "output_type": "stream",
     "text": [
      "Array A: [0.93443082 0.81250295 0.96688136 0.65723724 0.87658019]\n",
      "Array B: [0.51810839 0.2809836  0.92072823 0.09225792 0.586608  ]\n",
      "Are A and B equal? False\n"
     ]
    }
   ],
   "source": [
    "import numpy as np\n",
    "\n",
    "A = np.random.rand(5)  \n",
    "B = np.random.rand(5)\n",
    "\n",
    "are_equal = np.array_equal(A, B)\n",
    "\n",
    "print(\"Array A:\", A)\n",
    "print(\"Array B:\", B)\n",
    "print(\"Are A and B equal?\", are_equal)"
   ]
  },
  {
   "cell_type": "markdown",
   "id": "cf7cca6d",
   "metadata": {},
   "source": [
    "#### 43. Make an array immutable (read-only) (★★☆)"
   ]
  },
  {
   "cell_type": "code",
   "execution_count": 43,
   "id": "643c4cd2",
   "metadata": {},
   "outputs": [
    {
     "name": "stdout",
     "output_type": "stream",
     "text": [
      "Array A: [0.33202862 0.93606847 0.50484846 0.75221175 0.95801523]\n",
      "Error: assignment destination is read-only\n"
     ]
    }
   ],
   "source": [
    "import numpy as np\n",
    "A = np.random.rand(5)\n",
    "A.flags.writeable = False\n",
    "print(\"Array A:\", A)\n",
    "try:\n",
    "    A[0] = 10\n",
    "except ValueError as e:\n",
    "    print(\"Error:\", e)"
   ]
  },
  {
   "cell_type": "markdown",
   "id": "37b0828f",
   "metadata": {},
   "source": [
    "#### 44. Consider a random 10x2 matrix representing cartesian coordinates, convert them to polar coordinates (★★☆)"
   ]
  },
  {
   "cell_type": "code",
   "execution_count": 44,
   "id": "a89969af",
   "metadata": {},
   "outputs": [
    {
     "name": "stdout",
     "output_type": "stream",
     "text": [
      "Array A: [0.43821714 0.73464836 0.6371777  0.77912282 0.92685233]\n",
      "Error: assignment destination is read-only\n"
     ]
    }
   ],
   "source": [
    "import numpy as np\n",
    "A = np.random.rand(5)\n",
    "A.flags.writeable = False\n",
    "print(\"Array A:\", A)\n",
    "try:\n",
    "    A[0] = 10\n",
    "except ValueError as e:\n",
    "    print(\"Error:\", e)"
   ]
  },
  {
   "cell_type": "markdown",
   "id": "b7d7dd80",
   "metadata": {},
   "source": [
    "#### 45. Create random vector of size 10 and replace the maximum value by 0 (★★☆)"
   ]
  },
  {
   "cell_type": "code",
   "execution_count": 45,
   "id": "8403a440",
   "metadata": {},
   "outputs": [
    {
     "name": "stdout",
     "output_type": "stream",
     "text": [
      "Modified vector: [0.914008   0.52468987 0.62559684 0.43751713 0.07321696 0.\n",
      " 0.84708063 0.13026195 0.82171195 0.71460156]\n"
     ]
    }
   ],
   "source": [
    "import numpy as np\n",
    "vector = np.random.rand(10)\n",
    "max_index = np.argmax(vector)\n",
    "vector[max_index] = 0\n",
    "\n",
    "print(\"Modified vector:\", vector)"
   ]
  },
  {
   "cell_type": "markdown",
   "id": "b47e5837",
   "metadata": {},
   "source": [
    "#### 46. Create a structured array with `x` and `y` coordinates covering the [0,1]x[0,1] area (★★☆)"
   ]
  },
  {
   "cell_type": "code",
   "execution_count": 46,
   "id": "42c72e94",
   "metadata": {},
   "outputs": [
    {
     "name": "stdout",
     "output_type": "stream",
     "text": [
      "Structured array with x and y coordinates:\n",
      "[[(0.  , 0.  ) (0.25, 0.  ) (0.5 , 0.  ) (0.75, 0.  ) (1.  , 0.  )]\n",
      " [(0.  , 0.25) (0.25, 0.25) (0.5 , 0.25) (0.75, 0.25) (1.  , 0.25)]\n",
      " [(0.  , 0.5 ) (0.25, 0.5 ) (0.5 , 0.5 ) (0.75, 0.5 ) (1.  , 0.5 )]\n",
      " [(0.  , 0.75) (0.25, 0.75) (0.5 , 0.75) (0.75, 0.75) (1.  , 0.75)]\n",
      " [(0.  , 1.  ) (0.25, 1.  ) (0.5 , 1.  ) (0.75, 1.  ) (1.  , 1.  )]]\n"
     ]
    }
   ],
   "source": [
    "import numpy as np\n",
    "grid_size = 5  \n",
    "structured_array = np.zeros((grid_size, grid_size), dtype=[('x', float), ('y', float)])\n",
    "structured_array['x'], structured_array['y'] = np.meshgrid(\n",
    "    np.linspace(0, 1, grid_size), \n",
    "    np.linspace(0, 1, grid_size)\n",
    ")\n",
    "\n",
    "print(\"Structured array with x and y coordinates:\")\n",
    "print(structured_array)"
   ]
  },
  {
   "cell_type": "markdown",
   "id": "8c7946ee",
   "metadata": {},
   "source": [
    "#### 47. Given two arrays, X and Y, construct the Cauchy matrix C (Cij =1/(xi - yj)) (★★☆)"
   ]
  },
  {
   "cell_type": "code",
   "execution_count": 47,
   "id": "26b93f06",
   "metadata": {},
   "outputs": [
    {
     "name": "stdout",
     "output_type": "stream",
     "text": [
      "Array X: [0.32909904 0.08783643 0.05510831 0.99980769 0.05004334]\n",
      "Array Y: [0.32942481 0.91360435 0.50535522 0.23493411 0.36671033]\n",
      "Cauchy Matrix C:\n",
      "[[-3.06963213e+03 -1.71084844e+00 -5.67355985e+00  1.06196649e+01\n",
      "  -2.65877641e+01]\n",
      " [-4.13927189e+00 -1.21099400e+00 -2.39510177e+00 -6.79820373e+00\n",
      "  -3.58585014e+00]\n",
      " [-3.64542420e+00 -1.16482774e+00 -2.22100359e+00 -5.56093744e+00\n",
      "  -3.20922190e+00]\n",
      " [ 1.49168488e+00  1.16004792e+01  2.02243910e+00  1.30740560e+00\n",
      "   1.57953588e+00]\n",
      " [-3.57933543e+00 -1.15799577e+00 -2.19629673e+00 -5.40859882e+00\n",
      "  -3.15789155e+00]]\n"
     ]
    }
   ],
   "source": [
    "import numpy as np\n",
    "\n",
    "X = np.random.rand(5)  \n",
    "Y = np.random.rand(5)  \n",
    "\n",
    "C = 1.0 / (X[:, None] - Y[None, :])\n",
    "\n",
    "print(\"Array X:\", X)\n",
    "print(\"Array Y:\", Y)\n",
    "print(\"Cauchy Matrix C:\")\n",
    "print(C)"
   ]
  },
  {
   "cell_type": "markdown",
   "id": "3e898e5f",
   "metadata": {},
   "source": [
    "#### 48. Print the minimum and maximum representable value for each numpy scalar type (★★☆)"
   ]
  },
  {
   "cell_type": "code",
   "execution_count": 48,
   "id": "afd1ae18",
   "metadata": {},
   "outputs": [
    {
     "name": "stdout",
     "output_type": "stream",
     "text": [
      "int8:\n",
      "  Min: -128\n",
      "  Max: 127\n",
      "int16:\n",
      "  Min: -32768\n",
      "  Max: 32767\n",
      "int32:\n",
      "  Min: -2147483648\n",
      "  Max: 2147483647\n",
      "int64:\n",
      "  Min: -9223372036854775808\n",
      "  Max: 9223372036854775807\n",
      "uint8:\n",
      "  Min: 0\n",
      "  Max: 255\n",
      "uint16:\n",
      "  Min: 0\n",
      "  Max: 65535\n",
      "uint32:\n",
      "  Min: 0\n",
      "  Max: 4294967295\n",
      "uint64:\n",
      "  Min: 0\n",
      "  Max: 18446744073709551615\n",
      "float16:\n",
      "  Min: -65504.0\n",
      "  Max: 65504.0\n",
      "float32:\n",
      "  Min: -3.4028234663852886e+38\n",
      "  Max: 3.4028234663852886e+38\n",
      "float64:\n",
      "  Min: -1.7976931348623157e+308\n",
      "  Max: 1.7976931348623157e+308\n"
     ]
    }
   ],
   "source": [
    "import numpy as np\n",
    "\n",
    "# List of NumPy scalar types\n",
    "scalar_types = [np.int8, np.int16, np.int32, np.int64, \n",
    "                np.uint8, np.uint16, np.uint32, np.uint64, \n",
    "                np.float16, np.float32, np.float64]\n",
    "\n",
    "# Print the minimum and maximum representable values for each type\n",
    "for scalar in scalar_types:\n",
    "    print(f\"{scalar.__name__}:\")\n",
    "    print(f\"  Min: {np.iinfo(scalar).min if np.issubdtype(scalar, np.integer) else np.finfo(scalar).min}\")\n",
    "    print(f\"  Max: {np.iinfo(scalar).max if np.issubdtype(scalar, np.integer) else np.finfo(scalar).max}\")"
   ]
  },
  {
   "cell_type": "markdown",
   "id": "6fe6133b",
   "metadata": {},
   "source": [
    "#### 49. How to print all the values of an array? (★★☆)"
   ]
  },
  {
   "cell_type": "code",
   "execution_count": 49,
   "id": "5764ec92",
   "metadata": {},
   "outputs": [
    {
     "name": "stdout",
     "output_type": "stream",
     "text": [
      "[[   0    1    2    3    4    5    6    7    8    9   10   11   12   13\n",
      "    14   15   16   17   18   19   20   21   22   23   24   25   26   27\n",
      "    28   29   30   31   32   33   34   35   36   37   38   39   40   41\n",
      "    42   43   44   45   46   47   48   49   50   51   52   53   54   55\n",
      "    56   57   58   59   60   61   62   63   64   65   66   67   68   69\n",
      "    70   71   72   73   74   75   76   77   78   79   80   81   82   83\n",
      "    84   85   86   87   88   89   90   91   92   93   94   95   96   97\n",
      "    98   99]\n",
      " [ 100  101  102  103  104  105  106  107  108  109  110  111  112  113\n",
      "   114  115  116  117  118  119  120  121  122  123  124  125  126  127\n",
      "   128  129  130  131  132  133  134  135  136  137  138  139  140  141\n",
      "   142  143  144  145  146  147  148  149  150  151  152  153  154  155\n",
      "   156  157  158  159  160  161  162  163  164  165  166  167  168  169\n",
      "   170  171  172  173  174  175  176  177  178  179  180  181  182  183\n",
      "   184  185  186  187  188  189  190  191  192  193  194  195  196  197\n",
      "   198  199]\n",
      " [ 200  201  202  203  204  205  206  207  208  209  210  211  212  213\n",
      "   214  215  216  217  218  219  220  221  222  223  224  225  226  227\n",
      "   228  229  230  231  232  233  234  235  236  237  238  239  240  241\n",
      "   242  243  244  245  246  247  248  249  250  251  252  253  254  255\n",
      "   256  257  258  259  260  261  262  263  264  265  266  267  268  269\n",
      "   270  271  272  273  274  275  276  277  278  279  280  281  282  283\n",
      "   284  285  286  287  288  289  290  291  292  293  294  295  296  297\n",
      "   298  299]\n",
      " [ 300  301  302  303  304  305  306  307  308  309  310  311  312  313\n",
      "   314  315  316  317  318  319  320  321  322  323  324  325  326  327\n",
      "   328  329  330  331  332  333  334  335  336  337  338  339  340  341\n",
      "   342  343  344  345  346  347  348  349  350  351  352  353  354  355\n",
      "   356  357  358  359  360  361  362  363  364  365  366  367  368  369\n",
      "   370  371  372  373  374  375  376  377  378  379  380  381  382  383\n",
      "   384  385  386  387  388  389  390  391  392  393  394  395  396  397\n",
      "   398  399]\n",
      " [ 400  401  402  403  404  405  406  407  408  409  410  411  412  413\n",
      "   414  415  416  417  418  419  420  421  422  423  424  425  426  427\n",
      "   428  429  430  431  432  433  434  435  436  437  438  439  440  441\n",
      "   442  443  444  445  446  447  448  449  450  451  452  453  454  455\n",
      "   456  457  458  459  460  461  462  463  464  465  466  467  468  469\n",
      "   470  471  472  473  474  475  476  477  478  479  480  481  482  483\n",
      "   484  485  486  487  488  489  490  491  492  493  494  495  496  497\n",
      "   498  499]\n",
      " [ 500  501  502  503  504  505  506  507  508  509  510  511  512  513\n",
      "   514  515  516  517  518  519  520  521  522  523  524  525  526  527\n",
      "   528  529  530  531  532  533  534  535  536  537  538  539  540  541\n",
      "   542  543  544  545  546  547  548  549  550  551  552  553  554  555\n",
      "   556  557  558  559  560  561  562  563  564  565  566  567  568  569\n",
      "   570  571  572  573  574  575  576  577  578  579  580  581  582  583\n",
      "   584  585  586  587  588  589  590  591  592  593  594  595  596  597\n",
      "   598  599]\n",
      " [ 600  601  602  603  604  605  606  607  608  609  610  611  612  613\n",
      "   614  615  616  617  618  619  620  621  622  623  624  625  626  627\n",
      "   628  629  630  631  632  633  634  635  636  637  638  639  640  641\n",
      "   642  643  644  645  646  647  648  649  650  651  652  653  654  655\n",
      "   656  657  658  659  660  661  662  663  664  665  666  667  668  669\n",
      "   670  671  672  673  674  675  676  677  678  679  680  681  682  683\n",
      "   684  685  686  687  688  689  690  691  692  693  694  695  696  697\n",
      "   698  699]\n",
      " [ 700  701  702  703  704  705  706  707  708  709  710  711  712  713\n",
      "   714  715  716  717  718  719  720  721  722  723  724  725  726  727\n",
      "   728  729  730  731  732  733  734  735  736  737  738  739  740  741\n",
      "   742  743  744  745  746  747  748  749  750  751  752  753  754  755\n",
      "   756  757  758  759  760  761  762  763  764  765  766  767  768  769\n",
      "   770  771  772  773  774  775  776  777  778  779  780  781  782  783\n",
      "   784  785  786  787  788  789  790  791  792  793  794  795  796  797\n",
      "   798  799]\n",
      " [ 800  801  802  803  804  805  806  807  808  809  810  811  812  813\n",
      "   814  815  816  817  818  819  820  821  822  823  824  825  826  827\n",
      "   828  829  830  831  832  833  834  835  836  837  838  839  840  841\n",
      "   842  843  844  845  846  847  848  849  850  851  852  853  854  855\n",
      "   856  857  858  859  860  861  862  863  864  865  866  867  868  869\n",
      "   870  871  872  873  874  875  876  877  878  879  880  881  882  883\n",
      "   884  885  886  887  888  889  890  891  892  893  894  895  896  897\n",
      "   898  899]\n",
      " [ 900  901  902  903  904  905  906  907  908  909  910  911  912  913\n",
      "   914  915  916  917  918  919  920  921  922  923  924  925  926  927\n",
      "   928  929  930  931  932  933  934  935  936  937  938  939  940  941\n",
      "   942  943  944  945  946  947  948  949  950  951  952  953  954  955\n",
      "   956  957  958  959  960  961  962  963  964  965  966  967  968  969\n",
      "   970  971  972  973  974  975  976  977  978  979  980  981  982  983\n",
      "   984  985  986  987  988  989  990  991  992  993  994  995  996  997\n",
      "   998  999]\n",
      " [1000 1001 1002 1003 1004 1005 1006 1007 1008 1009 1010 1011 1012 1013\n",
      "  1014 1015 1016 1017 1018 1019 1020 1021 1022 1023 1024 1025 1026 1027\n",
      "  1028 1029 1030 1031 1032 1033 1034 1035 1036 1037 1038 1039 1040 1041\n",
      "  1042 1043 1044 1045 1046 1047 1048 1049 1050 1051 1052 1053 1054 1055\n",
      "  1056 1057 1058 1059 1060 1061 1062 1063 1064 1065 1066 1067 1068 1069\n",
      "  1070 1071 1072 1073 1074 1075 1076 1077 1078 1079 1080 1081 1082 1083\n",
      "  1084 1085 1086 1087 1088 1089 1090 1091 1092 1093 1094 1095 1096 1097\n",
      "  1098 1099]\n",
      " [1100 1101 1102 1103 1104 1105 1106 1107 1108 1109 1110 1111 1112 1113\n",
      "  1114 1115 1116 1117 1118 1119 1120 1121 1122 1123 1124 1125 1126 1127\n",
      "  1128 1129 1130 1131 1132 1133 1134 1135 1136 1137 1138 1139 1140 1141\n",
      "  1142 1143 1144 1145 1146 1147 1148 1149 1150 1151 1152 1153 1154 1155\n",
      "  1156 1157 1158 1159 1160 1161 1162 1163 1164 1165 1166 1167 1168 1169\n",
      "  1170 1171 1172 1173 1174 1175 1176 1177 1178 1179 1180 1181 1182 1183\n",
      "  1184 1185 1186 1187 1188 1189 1190 1191 1192 1193 1194 1195 1196 1197\n",
      "  1198 1199]\n",
      " [1200 1201 1202 1203 1204 1205 1206 1207 1208 1209 1210 1211 1212 1213\n",
      "  1214 1215 1216 1217 1218 1219 1220 1221 1222 1223 1224 1225 1226 1227\n",
      "  1228 1229 1230 1231 1232 1233 1234 1235 1236 1237 1238 1239 1240 1241\n",
      "  1242 1243 1244 1245 1246 1247 1248 1249 1250 1251 1252 1253 1254 1255\n",
      "  1256 1257 1258 1259 1260 1261 1262 1263 1264 1265 1266 1267 1268 1269\n",
      "  1270 1271 1272 1273 1274 1275 1276 1277 1278 1279 1280 1281 1282 1283\n",
      "  1284 1285 1286 1287 1288 1289 1290 1291 1292 1293 1294 1295 1296 1297\n",
      "  1298 1299]\n",
      " [1300 1301 1302 1303 1304 1305 1306 1307 1308 1309 1310 1311 1312 1313\n",
      "  1314 1315 1316 1317 1318 1319 1320 1321 1322 1323 1324 1325 1326 1327\n",
      "  1328 1329 1330 1331 1332 1333 1334 1335 1336 1337 1338 1339 1340 1341\n",
      "  1342 1343 1344 1345 1346 1347 1348 1349 1350 1351 1352 1353 1354 1355\n",
      "  1356 1357 1358 1359 1360 1361 1362 1363 1364 1365 1366 1367 1368 1369\n",
      "  1370 1371 1372 1373 1374 1375 1376 1377 1378 1379 1380 1381 1382 1383\n",
      "  1384 1385 1386 1387 1388 1389 1390 1391 1392 1393 1394 1395 1396 1397\n",
      "  1398 1399]\n",
      " [1400 1401 1402 1403 1404 1405 1406 1407 1408 1409 1410 1411 1412 1413\n",
      "  1414 1415 1416 1417 1418 1419 1420 1421 1422 1423 1424 1425 1426 1427\n",
      "  1428 1429 1430 1431 1432 1433 1434 1435 1436 1437 1438 1439 1440 1441\n",
      "  1442 1443 1444 1445 1446 1447 1448 1449 1450 1451 1452 1453 1454 1455\n",
      "  1456 1457 1458 1459 1460 1461 1462 1463 1464 1465 1466 1467 1468 1469\n",
      "  1470 1471 1472 1473 1474 1475 1476 1477 1478 1479 1480 1481 1482 1483\n",
      "  1484 1485 1486 1487 1488 1489 1490 1491 1492 1493 1494 1495 1496 1497\n",
      "  1498 1499]\n",
      " [1500 1501 1502 1503 1504 1505 1506 1507 1508 1509 1510 1511 1512 1513\n",
      "  1514 1515 1516 1517 1518 1519 1520 1521 1522 1523 1524 1525 1526 1527\n",
      "  1528 1529 1530 1531 1532 1533 1534 1535 1536 1537 1538 1539 1540 1541\n",
      "  1542 1543 1544 1545 1546 1547 1548 1549 1550 1551 1552 1553 1554 1555\n",
      "  1556 1557 1558 1559 1560 1561 1562 1563 1564 1565 1566 1567 1568 1569\n",
      "  1570 1571 1572 1573 1574 1575 1576 1577 1578 1579 1580 1581 1582 1583\n",
      "  1584 1585 1586 1587 1588 1589 1590 1591 1592 1593 1594 1595 1596 1597\n",
      "  1598 1599]\n",
      " [1600 1601 1602 1603 1604 1605 1606 1607 1608 1609 1610 1611 1612 1613\n",
      "  1614 1615 1616 1617 1618 1619 1620 1621 1622 1623 1624 1625 1626 1627\n",
      "  1628 1629 1630 1631 1632 1633 1634 1635 1636 1637 1638 1639 1640 1641\n",
      "  1642 1643 1644 1645 1646 1647 1648 1649 1650 1651 1652 1653 1654 1655\n",
      "  1656 1657 1658 1659 1660 1661 1662 1663 1664 1665 1666 1667 1668 1669\n",
      "  1670 1671 1672 1673 1674 1675 1676 1677 1678 1679 1680 1681 1682 1683\n",
      "  1684 1685 1686 1687 1688 1689 1690 1691 1692 1693 1694 1695 1696 1697\n",
      "  1698 1699]\n",
      " [1700 1701 1702 1703 1704 1705 1706 1707 1708 1709 1710 1711 1712 1713\n",
      "  1714 1715 1716 1717 1718 1719 1720 1721 1722 1723 1724 1725 1726 1727\n",
      "  1728 1729 1730 1731 1732 1733 1734 1735 1736 1737 1738 1739 1740 1741\n",
      "  1742 1743 1744 1745 1746 1747 1748 1749 1750 1751 1752 1753 1754 1755\n",
      "  1756 1757 1758 1759 1760 1761 1762 1763 1764 1765 1766 1767 1768 1769\n",
      "  1770 1771 1772 1773 1774 1775 1776 1777 1778 1779 1780 1781 1782 1783\n",
      "  1784 1785 1786 1787 1788 1789 1790 1791 1792 1793 1794 1795 1796 1797\n",
      "  1798 1799]\n",
      " [1800 1801 1802 1803 1804 1805 1806 1807 1808 1809 1810 1811 1812 1813\n",
      "  1814 1815 1816 1817 1818 1819 1820 1821 1822 1823 1824 1825 1826 1827\n",
      "  1828 1829 1830 1831 1832 1833 1834 1835 1836 1837 1838 1839 1840 1841\n",
      "  1842 1843 1844 1845 1846 1847 1848 1849 1850 1851 1852 1853 1854 1855\n",
      "  1856 1857 1858 1859 1860 1861 1862 1863 1864 1865 1866 1867 1868 1869\n",
      "  1870 1871 1872 1873 1874 1875 1876 1877 1878 1879 1880 1881 1882 1883\n",
      "  1884 1885 1886 1887 1888 1889 1890 1891 1892 1893 1894 1895 1896 1897\n",
      "  1898 1899]\n",
      " [1900 1901 1902 1903 1904 1905 1906 1907 1908 1909 1910 1911 1912 1913\n",
      "  1914 1915 1916 1917 1918 1919 1920 1921 1922 1923 1924 1925 1926 1927\n",
      "  1928 1929 1930 1931 1932 1933 1934 1935 1936 1937 1938 1939 1940 1941\n",
      "  1942 1943 1944 1945 1946 1947 1948 1949 1950 1951 1952 1953 1954 1955\n",
      "  1956 1957 1958 1959 1960 1961 1962 1963 1964 1965 1966 1967 1968 1969\n",
      "  1970 1971 1972 1973 1974 1975 1976 1977 1978 1979 1980 1981 1982 1983\n",
      "  1984 1985 1986 1987 1988 1989 1990 1991 1992 1993 1994 1995 1996 1997\n",
      "  1998 1999]\n",
      " [2000 2001 2002 2003 2004 2005 2006 2007 2008 2009 2010 2011 2012 2013\n",
      "  2014 2015 2016 2017 2018 2019 2020 2021 2022 2023 2024 2025 2026 2027\n",
      "  2028 2029 2030 2031 2032 2033 2034 2035 2036 2037 2038 2039 2040 2041\n",
      "  2042 2043 2044 2045 2046 2047 2048 2049 2050 2051 2052 2053 2054 2055\n",
      "  2056 2057 2058 2059 2060 2061 2062 2063 2064 2065 2066 2067 2068 2069\n",
      "  2070 2071 2072 2073 2074 2075 2076 2077 2078 2079 2080 2081 2082 2083\n",
      "  2084 2085 2086 2087 2088 2089 2090 2091 2092 2093 2094 2095 2096 2097\n",
      "  2098 2099]\n",
      " [2100 2101 2102 2103 2104 2105 2106 2107 2108 2109 2110 2111 2112 2113\n",
      "  2114 2115 2116 2117 2118 2119 2120 2121 2122 2123 2124 2125 2126 2127\n",
      "  2128 2129 2130 2131 2132 2133 2134 2135 2136 2137 2138 2139 2140 2141\n",
      "  2142 2143 2144 2145 2146 2147 2148 2149 2150 2151 2152 2153 2154 2155\n",
      "  2156 2157 2158 2159 2160 2161 2162 2163 2164 2165 2166 2167 2168 2169\n",
      "  2170 2171 2172 2173 2174 2175 2176 2177 2178 2179 2180 2181 2182 2183\n",
      "  2184 2185 2186 2187 2188 2189 2190 2191 2192 2193 2194 2195 2196 2197\n",
      "  2198 2199]\n",
      " [2200 2201 2202 2203 2204 2205 2206 2207 2208 2209 2210 2211 2212 2213\n",
      "  2214 2215 2216 2217 2218 2219 2220 2221 2222 2223 2224 2225 2226 2227\n",
      "  2228 2229 2230 2231 2232 2233 2234 2235 2236 2237 2238 2239 2240 2241\n",
      "  2242 2243 2244 2245 2246 2247 2248 2249 2250 2251 2252 2253 2254 2255\n",
      "  2256 2257 2258 2259 2260 2261 2262 2263 2264 2265 2266 2267 2268 2269\n",
      "  2270 2271 2272 2273 2274 2275 2276 2277 2278 2279 2280 2281 2282 2283\n",
      "  2284 2285 2286 2287 2288 2289 2290 2291 2292 2293 2294 2295 2296 2297\n",
      "  2298 2299]\n",
      " [2300 2301 2302 2303 2304 2305 2306 2307 2308 2309 2310 2311 2312 2313\n",
      "  2314 2315 2316 2317 2318 2319 2320 2321 2322 2323 2324 2325 2326 2327\n",
      "  2328 2329 2330 2331 2332 2333 2334 2335 2336 2337 2338 2339 2340 2341\n",
      "  2342 2343 2344 2345 2346 2347 2348 2349 2350 2351 2352 2353 2354 2355\n",
      "  2356 2357 2358 2359 2360 2361 2362 2363 2364 2365 2366 2367 2368 2369\n",
      "  2370 2371 2372 2373 2374 2375 2376 2377 2378 2379 2380 2381 2382 2383\n",
      "  2384 2385 2386 2387 2388 2389 2390 2391 2392 2393 2394 2395 2396 2397\n",
      "  2398 2399]\n",
      " [2400 2401 2402 2403 2404 2405 2406 2407 2408 2409 2410 2411 2412 2413\n",
      "  2414 2415 2416 2417 2418 2419 2420 2421 2422 2423 2424 2425 2426 2427\n",
      "  2428 2429 2430 2431 2432 2433 2434 2435 2436 2437 2438 2439 2440 2441\n",
      "  2442 2443 2444 2445 2446 2447 2448 2449 2450 2451 2452 2453 2454 2455\n",
      "  2456 2457 2458 2459 2460 2461 2462 2463 2464 2465 2466 2467 2468 2469\n",
      "  2470 2471 2472 2473 2474 2475 2476 2477 2478 2479 2480 2481 2482 2483\n",
      "  2484 2485 2486 2487 2488 2489 2490 2491 2492 2493 2494 2495 2496 2497\n",
      "  2498 2499]\n",
      " [2500 2501 2502 2503 2504 2505 2506 2507 2508 2509 2510 2511 2512 2513\n",
      "  2514 2515 2516 2517 2518 2519 2520 2521 2522 2523 2524 2525 2526 2527\n",
      "  2528 2529 2530 2531 2532 2533 2534 2535 2536 2537 2538 2539 2540 2541\n",
      "  2542 2543 2544 2545 2546 2547 2548 2549 2550 2551 2552 2553 2554 2555\n",
      "  2556 2557 2558 2559 2560 2561 2562 2563 2564 2565 2566 2567 2568 2569\n",
      "  2570 2571 2572 2573 2574 2575 2576 2577 2578 2579 2580 2581 2582 2583\n",
      "  2584 2585 2586 2587 2588 2589 2590 2591 2592 2593 2594 2595 2596 2597\n",
      "  2598 2599]\n",
      " [2600 2601 2602 2603 2604 2605 2606 2607 2608 2609 2610 2611 2612 2613\n",
      "  2614 2615 2616 2617 2618 2619 2620 2621 2622 2623 2624 2625 2626 2627\n",
      "  2628 2629 2630 2631 2632 2633 2634 2635 2636 2637 2638 2639 2640 2641\n",
      "  2642 2643 2644 2645 2646 2647 2648 2649 2650 2651 2652 2653 2654 2655\n",
      "  2656 2657 2658 2659 2660 2661 2662 2663 2664 2665 2666 2667 2668 2669\n",
      "  2670 2671 2672 2673 2674 2675 2676 2677 2678 2679 2680 2681 2682 2683\n",
      "  2684 2685 2686 2687 2688 2689 2690 2691 2692 2693 2694 2695 2696 2697\n",
      "  2698 2699]\n",
      " [2700 2701 2702 2703 2704 2705 2706 2707 2708 2709 2710 2711 2712 2713\n",
      "  2714 2715 2716 2717 2718 2719 2720 2721 2722 2723 2724 2725 2726 2727\n",
      "  2728 2729 2730 2731 2732 2733 2734 2735 2736 2737 2738 2739 2740 2741\n",
      "  2742 2743 2744 2745 2746 2747 2748 2749 2750 2751 2752 2753 2754 2755\n",
      "  2756 2757 2758 2759 2760 2761 2762 2763 2764 2765 2766 2767 2768 2769\n",
      "  2770 2771 2772 2773 2774 2775 2776 2777 2778 2779 2780 2781 2782 2783\n",
      "  2784 2785 2786 2787 2788 2789 2790 2791 2792 2793 2794 2795 2796 2797\n",
      "  2798 2799]\n",
      " [2800 2801 2802 2803 2804 2805 2806 2807 2808 2809 2810 2811 2812 2813\n",
      "  2814 2815 2816 2817 2818 2819 2820 2821 2822 2823 2824 2825 2826 2827\n",
      "  2828 2829 2830 2831 2832 2833 2834 2835 2836 2837 2838 2839 2840 2841\n",
      "  2842 2843 2844 2845 2846 2847 2848 2849 2850 2851 2852 2853 2854 2855\n",
      "  2856 2857 2858 2859 2860 2861 2862 2863 2864 2865 2866 2867 2868 2869\n",
      "  2870 2871 2872 2873 2874 2875 2876 2877 2878 2879 2880 2881 2882 2883\n",
      "  2884 2885 2886 2887 2888 2889 2890 2891 2892 2893 2894 2895 2896 2897\n",
      "  2898 2899]\n",
      " [2900 2901 2902 2903 2904 2905 2906 2907 2908 2909 2910 2911 2912 2913\n",
      "  2914 2915 2916 2917 2918 2919 2920 2921 2922 2923 2924 2925 2926 2927\n",
      "  2928 2929 2930 2931 2932 2933 2934 2935 2936 2937 2938 2939 2940 2941\n",
      "  2942 2943 2944 2945 2946 2947 2948 2949 2950 2951 2952 2953 2954 2955\n",
      "  2956 2957 2958 2959 2960 2961 2962 2963 2964 2965 2966 2967 2968 2969\n",
      "  2970 2971 2972 2973 2974 2975 2976 2977 2978 2979 2980 2981 2982 2983\n",
      "  2984 2985 2986 2987 2988 2989 2990 2991 2992 2993 2994 2995 2996 2997\n",
      "  2998 2999]\n",
      " [3000 3001 3002 3003 3004 3005 3006 3007 3008 3009 3010 3011 3012 3013\n",
      "  3014 3015 3016 3017 3018 3019 3020 3021 3022 3023 3024 3025 3026 3027\n",
      "  3028 3029 3030 3031 3032 3033 3034 3035 3036 3037 3038 3039 3040 3041\n",
      "  3042 3043 3044 3045 3046 3047 3048 3049 3050 3051 3052 3053 3054 3055\n",
      "  3056 3057 3058 3059 3060 3061 3062 3063 3064 3065 3066 3067 3068 3069\n",
      "  3070 3071 3072 3073 3074 3075 3076 3077 3078 3079 3080 3081 3082 3083\n",
      "  3084 3085 3086 3087 3088 3089 3090 3091 3092 3093 3094 3095 3096 3097\n",
      "  3098 3099]\n",
      " [3100 3101 3102 3103 3104 3105 3106 3107 3108 3109 3110 3111 3112 3113\n",
      "  3114 3115 3116 3117 3118 3119 3120 3121 3122 3123 3124 3125 3126 3127\n",
      "  3128 3129 3130 3131 3132 3133 3134 3135 3136 3137 3138 3139 3140 3141\n",
      "  3142 3143 3144 3145 3146 3147 3148 3149 3150 3151 3152 3153 3154 3155\n",
      "  3156 3157 3158 3159 3160 3161 3162 3163 3164 3165 3166 3167 3168 3169\n",
      "  3170 3171 3172 3173 3174 3175 3176 3177 3178 3179 3180 3181 3182 3183\n",
      "  3184 3185 3186 3187 3188 3189 3190 3191 3192 3193 3194 3195 3196 3197\n",
      "  3198 3199]\n",
      " [3200 3201 3202 3203 3204 3205 3206 3207 3208 3209 3210 3211 3212 3213\n",
      "  3214 3215 3216 3217 3218 3219 3220 3221 3222 3223 3224 3225 3226 3227\n",
      "  3228 3229 3230 3231 3232 3233 3234 3235 3236 3237 3238 3239 3240 3241\n",
      "  3242 3243 3244 3245 3246 3247 3248 3249 3250 3251 3252 3253 3254 3255\n",
      "  3256 3257 3258 3259 3260 3261 3262 3263 3264 3265 3266 3267 3268 3269\n",
      "  3270 3271 3272 3273 3274 3275 3276 3277 3278 3279 3280 3281 3282 3283\n",
      "  3284 3285 3286 3287 3288 3289 3290 3291 3292 3293 3294 3295 3296 3297\n",
      "  3298 3299]\n",
      " [3300 3301 3302 3303 3304 3305 3306 3307 3308 3309 3310 3311 3312 3313\n",
      "  3314 3315 3316 3317 3318 3319 3320 3321 3322 3323 3324 3325 3326 3327\n",
      "  3328 3329 3330 3331 3332 3333 3334 3335 3336 3337 3338 3339 3340 3341\n",
      "  3342 3343 3344 3345 3346 3347 3348 3349 3350 3351 3352 3353 3354 3355\n",
      "  3356 3357 3358 3359 3360 3361 3362 3363 3364 3365 3366 3367 3368 3369\n",
      "  3370 3371 3372 3373 3374 3375 3376 3377 3378 3379 3380 3381 3382 3383\n",
      "  3384 3385 3386 3387 3388 3389 3390 3391 3392 3393 3394 3395 3396 3397\n",
      "  3398 3399]\n",
      " [3400 3401 3402 3403 3404 3405 3406 3407 3408 3409 3410 3411 3412 3413\n",
      "  3414 3415 3416 3417 3418 3419 3420 3421 3422 3423 3424 3425 3426 3427\n",
      "  3428 3429 3430 3431 3432 3433 3434 3435 3436 3437 3438 3439 3440 3441\n",
      "  3442 3443 3444 3445 3446 3447 3448 3449 3450 3451 3452 3453 3454 3455\n",
      "  3456 3457 3458 3459 3460 3461 3462 3463 3464 3465 3466 3467 3468 3469\n",
      "  3470 3471 3472 3473 3474 3475 3476 3477 3478 3479 3480 3481 3482 3483\n",
      "  3484 3485 3486 3487 3488 3489 3490 3491 3492 3493 3494 3495 3496 3497\n",
      "  3498 3499]\n",
      " [3500 3501 3502 3503 3504 3505 3506 3507 3508 3509 3510 3511 3512 3513\n",
      "  3514 3515 3516 3517 3518 3519 3520 3521 3522 3523 3524 3525 3526 3527\n",
      "  3528 3529 3530 3531 3532 3533 3534 3535 3536 3537 3538 3539 3540 3541\n",
      "  3542 3543 3544 3545 3546 3547 3548 3549 3550 3551 3552 3553 3554 3555\n",
      "  3556 3557 3558 3559 3560 3561 3562 3563 3564 3565 3566 3567 3568 3569\n",
      "  3570 3571 3572 3573 3574 3575 3576 3577 3578 3579 3580 3581 3582 3583\n",
      "  3584 3585 3586 3587 3588 3589 3590 3591 3592 3593 3594 3595 3596 3597\n",
      "  3598 3599]\n",
      " [3600 3601 3602 3603 3604 3605 3606 3607 3608 3609 3610 3611 3612 3613\n",
      "  3614 3615 3616 3617 3618 3619 3620 3621 3622 3623 3624 3625 3626 3627\n",
      "  3628 3629 3630 3631 3632 3633 3634 3635 3636 3637 3638 3639 3640 3641\n",
      "  3642 3643 3644 3645 3646 3647 3648 3649 3650 3651 3652 3653 3654 3655\n",
      "  3656 3657 3658 3659 3660 3661 3662 3663 3664 3665 3666 3667 3668 3669\n",
      "  3670 3671 3672 3673 3674 3675 3676 3677 3678 3679 3680 3681 3682 3683\n",
      "  3684 3685 3686 3687 3688 3689 3690 3691 3692 3693 3694 3695 3696 3697\n",
      "  3698 3699]\n",
      " [3700 3701 3702 3703 3704 3705 3706 3707 3708 3709 3710 3711 3712 3713\n",
      "  3714 3715 3716 3717 3718 3719 3720 3721 3722 3723 3724 3725 3726 3727\n",
      "  3728 3729 3730 3731 3732 3733 3734 3735 3736 3737 3738 3739 3740 3741\n",
      "  3742 3743 3744 3745 3746 3747 3748 3749 3750 3751 3752 3753 3754 3755\n",
      "  3756 3757 3758 3759 3760 3761 3762 3763 3764 3765 3766 3767 3768 3769\n",
      "  3770 3771 3772 3773 3774 3775 3776 3777 3778 3779 3780 3781 3782 3783\n",
      "  3784 3785 3786 3787 3788 3789 3790 3791 3792 3793 3794 3795 3796 3797\n",
      "  3798 3799]\n",
      " [3800 3801 3802 3803 3804 3805 3806 3807 3808 3809 3810 3811 3812 3813\n",
      "  3814 3815 3816 3817 3818 3819 3820 3821 3822 3823 3824 3825 3826 3827\n",
      "  3828 3829 3830 3831 3832 3833 3834 3835 3836 3837 3838 3839 3840 3841\n",
      "  3842 3843 3844 3845 3846 3847 3848 3849 3850 3851 3852 3853 3854 3855\n",
      "  3856 3857 3858 3859 3860 3861 3862 3863 3864 3865 3866 3867 3868 3869\n",
      "  3870 3871 3872 3873 3874 3875 3876 3877 3878 3879 3880 3881 3882 3883\n",
      "  3884 3885 3886 3887 3888 3889 3890 3891 3892 3893 3894 3895 3896 3897\n",
      "  3898 3899]\n",
      " [3900 3901 3902 3903 3904 3905 3906 3907 3908 3909 3910 3911 3912 3913\n",
      "  3914 3915 3916 3917 3918 3919 3920 3921 3922 3923 3924 3925 3926 3927\n",
      "  3928 3929 3930 3931 3932 3933 3934 3935 3936 3937 3938 3939 3940 3941\n",
      "  3942 3943 3944 3945 3946 3947 3948 3949 3950 3951 3952 3953 3954 3955\n",
      "  3956 3957 3958 3959 3960 3961 3962 3963 3964 3965 3966 3967 3968 3969\n",
      "  3970 3971 3972 3973 3974 3975 3976 3977 3978 3979 3980 3981 3982 3983\n",
      "  3984 3985 3986 3987 3988 3989 3990 3991 3992 3993 3994 3995 3996 3997\n",
      "  3998 3999]\n",
      " [4000 4001 4002 4003 4004 4005 4006 4007 4008 4009 4010 4011 4012 4013\n",
      "  4014 4015 4016 4017 4018 4019 4020 4021 4022 4023 4024 4025 4026 4027\n",
      "  4028 4029 4030 4031 4032 4033 4034 4035 4036 4037 4038 4039 4040 4041\n",
      "  4042 4043 4044 4045 4046 4047 4048 4049 4050 4051 4052 4053 4054 4055\n",
      "  4056 4057 4058 4059 4060 4061 4062 4063 4064 4065 4066 4067 4068 4069\n",
      "  4070 4071 4072 4073 4074 4075 4076 4077 4078 4079 4080 4081 4082 4083\n",
      "  4084 4085 4086 4087 4088 4089 4090 4091 4092 4093 4094 4095 4096 4097\n",
      "  4098 4099]\n",
      " [4100 4101 4102 4103 4104 4105 4106 4107 4108 4109 4110 4111 4112 4113\n",
      "  4114 4115 4116 4117 4118 4119 4120 4121 4122 4123 4124 4125 4126 4127\n",
      "  4128 4129 4130 4131 4132 4133 4134 4135 4136 4137 4138 4139 4140 4141\n",
      "  4142 4143 4144 4145 4146 4147 4148 4149 4150 4151 4152 4153 4154 4155\n",
      "  4156 4157 4158 4159 4160 4161 4162 4163 4164 4165 4166 4167 4168 4169\n",
      "  4170 4171 4172 4173 4174 4175 4176 4177 4178 4179 4180 4181 4182 4183\n",
      "  4184 4185 4186 4187 4188 4189 4190 4191 4192 4193 4194 4195 4196 4197\n",
      "  4198 4199]\n",
      " [4200 4201 4202 4203 4204 4205 4206 4207 4208 4209 4210 4211 4212 4213\n",
      "  4214 4215 4216 4217 4218 4219 4220 4221 4222 4223 4224 4225 4226 4227\n",
      "  4228 4229 4230 4231 4232 4233 4234 4235 4236 4237 4238 4239 4240 4241\n",
      "  4242 4243 4244 4245 4246 4247 4248 4249 4250 4251 4252 4253 4254 4255\n",
      "  4256 4257 4258 4259 4260 4261 4262 4263 4264 4265 4266 4267 4268 4269\n",
      "  4270 4271 4272 4273 4274 4275 4276 4277 4278 4279 4280 4281 4282 4283\n",
      "  4284 4285 4286 4287 4288 4289 4290 4291 4292 4293 4294 4295 4296 4297\n",
      "  4298 4299]\n",
      " [4300 4301 4302 4303 4304 4305 4306 4307 4308 4309 4310 4311 4312 4313\n",
      "  4314 4315 4316 4317 4318 4319 4320 4321 4322 4323 4324 4325 4326 4327\n",
      "  4328 4329 4330 4331 4332 4333 4334 4335 4336 4337 4338 4339 4340 4341\n",
      "  4342 4343 4344 4345 4346 4347 4348 4349 4350 4351 4352 4353 4354 4355\n",
      "  4356 4357 4358 4359 4360 4361 4362 4363 4364 4365 4366 4367 4368 4369\n",
      "  4370 4371 4372 4373 4374 4375 4376 4377 4378 4379 4380 4381 4382 4383\n",
      "  4384 4385 4386 4387 4388 4389 4390 4391 4392 4393 4394 4395 4396 4397\n",
      "  4398 4399]\n",
      " [4400 4401 4402 4403 4404 4405 4406 4407 4408 4409 4410 4411 4412 4413\n",
      "  4414 4415 4416 4417 4418 4419 4420 4421 4422 4423 4424 4425 4426 4427\n",
      "  4428 4429 4430 4431 4432 4433 4434 4435 4436 4437 4438 4439 4440 4441\n",
      "  4442 4443 4444 4445 4446 4447 4448 4449 4450 4451 4452 4453 4454 4455\n",
      "  4456 4457 4458 4459 4460 4461 4462 4463 4464 4465 4466 4467 4468 4469\n",
      "  4470 4471 4472 4473 4474 4475 4476 4477 4478 4479 4480 4481 4482 4483\n",
      "  4484 4485 4486 4487 4488 4489 4490 4491 4492 4493 4494 4495 4496 4497\n",
      "  4498 4499]\n",
      " [4500 4501 4502 4503 4504 4505 4506 4507 4508 4509 4510 4511 4512 4513\n",
      "  4514 4515 4516 4517 4518 4519 4520 4521 4522 4523 4524 4525 4526 4527\n",
      "  4528 4529 4530 4531 4532 4533 4534 4535 4536 4537 4538 4539 4540 4541\n",
      "  4542 4543 4544 4545 4546 4547 4548 4549 4550 4551 4552 4553 4554 4555\n",
      "  4556 4557 4558 4559 4560 4561 4562 4563 4564 4565 4566 4567 4568 4569\n",
      "  4570 4571 4572 4573 4574 4575 4576 4577 4578 4579 4580 4581 4582 4583\n",
      "  4584 4585 4586 4587 4588 4589 4590 4591 4592 4593 4594 4595 4596 4597\n",
      "  4598 4599]\n",
      " [4600 4601 4602 4603 4604 4605 4606 4607 4608 4609 4610 4611 4612 4613\n",
      "  4614 4615 4616 4617 4618 4619 4620 4621 4622 4623 4624 4625 4626 4627\n",
      "  4628 4629 4630 4631 4632 4633 4634 4635 4636 4637 4638 4639 4640 4641\n",
      "  4642 4643 4644 4645 4646 4647 4648 4649 4650 4651 4652 4653 4654 4655\n",
      "  4656 4657 4658 4659 4660 4661 4662 4663 4664 4665 4666 4667 4668 4669\n",
      "  4670 4671 4672 4673 4674 4675 4676 4677 4678 4679 4680 4681 4682 4683\n",
      "  4684 4685 4686 4687 4688 4689 4690 4691 4692 4693 4694 4695 4696 4697\n",
      "  4698 4699]\n",
      " [4700 4701 4702 4703 4704 4705 4706 4707 4708 4709 4710 4711 4712 4713\n",
      "  4714 4715 4716 4717 4718 4719 4720 4721 4722 4723 4724 4725 4726 4727\n",
      "  4728 4729 4730 4731 4732 4733 4734 4735 4736 4737 4738 4739 4740 4741\n",
      "  4742 4743 4744 4745 4746 4747 4748 4749 4750 4751 4752 4753 4754 4755\n",
      "  4756 4757 4758 4759 4760 4761 4762 4763 4764 4765 4766 4767 4768 4769\n",
      "  4770 4771 4772 4773 4774 4775 4776 4777 4778 4779 4780 4781 4782 4783\n",
      "  4784 4785 4786 4787 4788 4789 4790 4791 4792 4793 4794 4795 4796 4797\n",
      "  4798 4799]\n",
      " [4800 4801 4802 4803 4804 4805 4806 4807 4808 4809 4810 4811 4812 4813\n",
      "  4814 4815 4816 4817 4818 4819 4820 4821 4822 4823 4824 4825 4826 4827\n",
      "  4828 4829 4830 4831 4832 4833 4834 4835 4836 4837 4838 4839 4840 4841\n",
      "  4842 4843 4844 4845 4846 4847 4848 4849 4850 4851 4852 4853 4854 4855\n",
      "  4856 4857 4858 4859 4860 4861 4862 4863 4864 4865 4866 4867 4868 4869\n",
      "  4870 4871 4872 4873 4874 4875 4876 4877 4878 4879 4880 4881 4882 4883\n",
      "  4884 4885 4886 4887 4888 4889 4890 4891 4892 4893 4894 4895 4896 4897\n",
      "  4898 4899]\n",
      " [4900 4901 4902 4903 4904 4905 4906 4907 4908 4909 4910 4911 4912 4913\n",
      "  4914 4915 4916 4917 4918 4919 4920 4921 4922 4923 4924 4925 4926 4927\n",
      "  4928 4929 4930 4931 4932 4933 4934 4935 4936 4937 4938 4939 4940 4941\n",
      "  4942 4943 4944 4945 4946 4947 4948 4949 4950 4951 4952 4953 4954 4955\n",
      "  4956 4957 4958 4959 4960 4961 4962 4963 4964 4965 4966 4967 4968 4969\n",
      "  4970 4971 4972 4973 4974 4975 4976 4977 4978 4979 4980 4981 4982 4983\n",
      "  4984 4985 4986 4987 4988 4989 4990 4991 4992 4993 4994 4995 4996 4997\n",
      "  4998 4999]\n",
      " [5000 5001 5002 5003 5004 5005 5006 5007 5008 5009 5010 5011 5012 5013\n",
      "  5014 5015 5016 5017 5018 5019 5020 5021 5022 5023 5024 5025 5026 5027\n",
      "  5028 5029 5030 5031 5032 5033 5034 5035 5036 5037 5038 5039 5040 5041\n",
      "  5042 5043 5044 5045 5046 5047 5048 5049 5050 5051 5052 5053 5054 5055\n",
      "  5056 5057 5058 5059 5060 5061 5062 5063 5064 5065 5066 5067 5068 5069\n",
      "  5070 5071 5072 5073 5074 5075 5076 5077 5078 5079 5080 5081 5082 5083\n",
      "  5084 5085 5086 5087 5088 5089 5090 5091 5092 5093 5094 5095 5096 5097\n",
      "  5098 5099]\n",
      " [5100 5101 5102 5103 5104 5105 5106 5107 5108 5109 5110 5111 5112 5113\n",
      "  5114 5115 5116 5117 5118 5119 5120 5121 5122 5123 5124 5125 5126 5127\n",
      "  5128 5129 5130 5131 5132 5133 5134 5135 5136 5137 5138 5139 5140 5141\n",
      "  5142 5143 5144 5145 5146 5147 5148 5149 5150 5151 5152 5153 5154 5155\n",
      "  5156 5157 5158 5159 5160 5161 5162 5163 5164 5165 5166 5167 5168 5169\n",
      "  5170 5171 5172 5173 5174 5175 5176 5177 5178 5179 5180 5181 5182 5183\n",
      "  5184 5185 5186 5187 5188 5189 5190 5191 5192 5193 5194 5195 5196 5197\n",
      "  5198 5199]\n",
      " [5200 5201 5202 5203 5204 5205 5206 5207 5208 5209 5210 5211 5212 5213\n",
      "  5214 5215 5216 5217 5218 5219 5220 5221 5222 5223 5224 5225 5226 5227\n",
      "  5228 5229 5230 5231 5232 5233 5234 5235 5236 5237 5238 5239 5240 5241\n",
      "  5242 5243 5244 5245 5246 5247 5248 5249 5250 5251 5252 5253 5254 5255\n",
      "  5256 5257 5258 5259 5260 5261 5262 5263 5264 5265 5266 5267 5268 5269\n",
      "  5270 5271 5272 5273 5274 5275 5276 5277 5278 5279 5280 5281 5282 5283\n",
      "  5284 5285 5286 5287 5288 5289 5290 5291 5292 5293 5294 5295 5296 5297\n",
      "  5298 5299]\n",
      " [5300 5301 5302 5303 5304 5305 5306 5307 5308 5309 5310 5311 5312 5313\n",
      "  5314 5315 5316 5317 5318 5319 5320 5321 5322 5323 5324 5325 5326 5327\n",
      "  5328 5329 5330 5331 5332 5333 5334 5335 5336 5337 5338 5339 5340 5341\n",
      "  5342 5343 5344 5345 5346 5347 5348 5349 5350 5351 5352 5353 5354 5355\n",
      "  5356 5357 5358 5359 5360 5361 5362 5363 5364 5365 5366 5367 5368 5369\n",
      "  5370 5371 5372 5373 5374 5375 5376 5377 5378 5379 5380 5381 5382 5383\n",
      "  5384 5385 5386 5387 5388 5389 5390 5391 5392 5393 5394 5395 5396 5397\n",
      "  5398 5399]\n",
      " [5400 5401 5402 5403 5404 5405 5406 5407 5408 5409 5410 5411 5412 5413\n",
      "  5414 5415 5416 5417 5418 5419 5420 5421 5422 5423 5424 5425 5426 5427\n",
      "  5428 5429 5430 5431 5432 5433 5434 5435 5436 5437 5438 5439 5440 5441\n",
      "  5442 5443 5444 5445 5446 5447 5448 5449 5450 5451 5452 5453 5454 5455\n",
      "  5456 5457 5458 5459 5460 5461 5462 5463 5464 5465 5466 5467 5468 5469\n",
      "  5470 5471 5472 5473 5474 5475 5476 5477 5478 5479 5480 5481 5482 5483\n",
      "  5484 5485 5486 5487 5488 5489 5490 5491 5492 5493 5494 5495 5496 5497\n",
      "  5498 5499]\n",
      " [5500 5501 5502 5503 5504 5505 5506 5507 5508 5509 5510 5511 5512 5513\n",
      "  5514 5515 5516 5517 5518 5519 5520 5521 5522 5523 5524 5525 5526 5527\n",
      "  5528 5529 5530 5531 5532 5533 5534 5535 5536 5537 5538 5539 5540 5541\n",
      "  5542 5543 5544 5545 5546 5547 5548 5549 5550 5551 5552 5553 5554 5555\n",
      "  5556 5557 5558 5559 5560 5561 5562 5563 5564 5565 5566 5567 5568 5569\n",
      "  5570 5571 5572 5573 5574 5575 5576 5577 5578 5579 5580 5581 5582 5583\n",
      "  5584 5585 5586 5587 5588 5589 5590 5591 5592 5593 5594 5595 5596 5597\n",
      "  5598 5599]\n",
      " [5600 5601 5602 5603 5604 5605 5606 5607 5608 5609 5610 5611 5612 5613\n",
      "  5614 5615 5616 5617 5618 5619 5620 5621 5622 5623 5624 5625 5626 5627\n",
      "  5628 5629 5630 5631 5632 5633 5634 5635 5636 5637 5638 5639 5640 5641\n",
      "  5642 5643 5644 5645 5646 5647 5648 5649 5650 5651 5652 5653 5654 5655\n",
      "  5656 5657 5658 5659 5660 5661 5662 5663 5664 5665 5666 5667 5668 5669\n",
      "  5670 5671 5672 5673 5674 5675 5676 5677 5678 5679 5680 5681 5682 5683\n",
      "  5684 5685 5686 5687 5688 5689 5690 5691 5692 5693 5694 5695 5696 5697\n",
      "  5698 5699]\n",
      " [5700 5701 5702 5703 5704 5705 5706 5707 5708 5709 5710 5711 5712 5713\n",
      "  5714 5715 5716 5717 5718 5719 5720 5721 5722 5723 5724 5725 5726 5727\n",
      "  5728 5729 5730 5731 5732 5733 5734 5735 5736 5737 5738 5739 5740 5741\n",
      "  5742 5743 5744 5745 5746 5747 5748 5749 5750 5751 5752 5753 5754 5755\n",
      "  5756 5757 5758 5759 5760 5761 5762 5763 5764 5765 5766 5767 5768 5769\n",
      "  5770 5771 5772 5773 5774 5775 5776 5777 5778 5779 5780 5781 5782 5783\n",
      "  5784 5785 5786 5787 5788 5789 5790 5791 5792 5793 5794 5795 5796 5797\n",
      "  5798 5799]\n",
      " [5800 5801 5802 5803 5804 5805 5806 5807 5808 5809 5810 5811 5812 5813\n",
      "  5814 5815 5816 5817 5818 5819 5820 5821 5822 5823 5824 5825 5826 5827\n",
      "  5828 5829 5830 5831 5832 5833 5834 5835 5836 5837 5838 5839 5840 5841\n",
      "  5842 5843 5844 5845 5846 5847 5848 5849 5850 5851 5852 5853 5854 5855\n",
      "  5856 5857 5858 5859 5860 5861 5862 5863 5864 5865 5866 5867 5868 5869\n",
      "  5870 5871 5872 5873 5874 5875 5876 5877 5878 5879 5880 5881 5882 5883\n",
      "  5884 5885 5886 5887 5888 5889 5890 5891 5892 5893 5894 5895 5896 5897\n",
      "  5898 5899]\n",
      " [5900 5901 5902 5903 5904 5905 5906 5907 5908 5909 5910 5911 5912 5913\n",
      "  5914 5915 5916 5917 5918 5919 5920 5921 5922 5923 5924 5925 5926 5927\n",
      "  5928 5929 5930 5931 5932 5933 5934 5935 5936 5937 5938 5939 5940 5941\n",
      "  5942 5943 5944 5945 5946 5947 5948 5949 5950 5951 5952 5953 5954 5955\n",
      "  5956 5957 5958 5959 5960 5961 5962 5963 5964 5965 5966 5967 5968 5969\n",
      "  5970 5971 5972 5973 5974 5975 5976 5977 5978 5979 5980 5981 5982 5983\n",
      "  5984 5985 5986 5987 5988 5989 5990 5991 5992 5993 5994 5995 5996 5997\n",
      "  5998 5999]\n",
      " [6000 6001 6002 6003 6004 6005 6006 6007 6008 6009 6010 6011 6012 6013\n",
      "  6014 6015 6016 6017 6018 6019 6020 6021 6022 6023 6024 6025 6026 6027\n",
      "  6028 6029 6030 6031 6032 6033 6034 6035 6036 6037 6038 6039 6040 6041\n",
      "  6042 6043 6044 6045 6046 6047 6048 6049 6050 6051 6052 6053 6054 6055\n",
      "  6056 6057 6058 6059 6060 6061 6062 6063 6064 6065 6066 6067 6068 6069\n",
      "  6070 6071 6072 6073 6074 6075 6076 6077 6078 6079 6080 6081 6082 6083\n",
      "  6084 6085 6086 6087 6088 6089 6090 6091 6092 6093 6094 6095 6096 6097\n",
      "  6098 6099]\n",
      " [6100 6101 6102 6103 6104 6105 6106 6107 6108 6109 6110 6111 6112 6113\n",
      "  6114 6115 6116 6117 6118 6119 6120 6121 6122 6123 6124 6125 6126 6127\n",
      "  6128 6129 6130 6131 6132 6133 6134 6135 6136 6137 6138 6139 6140 6141\n",
      "  6142 6143 6144 6145 6146 6147 6148 6149 6150 6151 6152 6153 6154 6155\n",
      "  6156 6157 6158 6159 6160 6161 6162 6163 6164 6165 6166 6167 6168 6169\n",
      "  6170 6171 6172 6173 6174 6175 6176 6177 6178 6179 6180 6181 6182 6183\n",
      "  6184 6185 6186 6187 6188 6189 6190 6191 6192 6193 6194 6195 6196 6197\n",
      "  6198 6199]\n",
      " [6200 6201 6202 6203 6204 6205 6206 6207 6208 6209 6210 6211 6212 6213\n",
      "  6214 6215 6216 6217 6218 6219 6220 6221 6222 6223 6224 6225 6226 6227\n",
      "  6228 6229 6230 6231 6232 6233 6234 6235 6236 6237 6238 6239 6240 6241\n",
      "  6242 6243 6244 6245 6246 6247 6248 6249 6250 6251 6252 6253 6254 6255\n",
      "  6256 6257 6258 6259 6260 6261 6262 6263 6264 6265 6266 6267 6268 6269\n",
      "  6270 6271 6272 6273 6274 6275 6276 6277 6278 6279 6280 6281 6282 6283\n",
      "  6284 6285 6286 6287 6288 6289 6290 6291 6292 6293 6294 6295 6296 6297\n",
      "  6298 6299]\n",
      " [6300 6301 6302 6303 6304 6305 6306 6307 6308 6309 6310 6311 6312 6313\n",
      "  6314 6315 6316 6317 6318 6319 6320 6321 6322 6323 6324 6325 6326 6327\n",
      "  6328 6329 6330 6331 6332 6333 6334 6335 6336 6337 6338 6339 6340 6341\n",
      "  6342 6343 6344 6345 6346 6347 6348 6349 6350 6351 6352 6353 6354 6355\n",
      "  6356 6357 6358 6359 6360 6361 6362 6363 6364 6365 6366 6367 6368 6369\n",
      "  6370 6371 6372 6373 6374 6375 6376 6377 6378 6379 6380 6381 6382 6383\n",
      "  6384 6385 6386 6387 6388 6389 6390 6391 6392 6393 6394 6395 6396 6397\n",
      "  6398 6399]\n",
      " [6400 6401 6402 6403 6404 6405 6406 6407 6408 6409 6410 6411 6412 6413\n",
      "  6414 6415 6416 6417 6418 6419 6420 6421 6422 6423 6424 6425 6426 6427\n",
      "  6428 6429 6430 6431 6432 6433 6434 6435 6436 6437 6438 6439 6440 6441\n",
      "  6442 6443 6444 6445 6446 6447 6448 6449 6450 6451 6452 6453 6454 6455\n",
      "  6456 6457 6458 6459 6460 6461 6462 6463 6464 6465 6466 6467 6468 6469\n",
      "  6470 6471 6472 6473 6474 6475 6476 6477 6478 6479 6480 6481 6482 6483\n",
      "  6484 6485 6486 6487 6488 6489 6490 6491 6492 6493 6494 6495 6496 6497\n",
      "  6498 6499]\n",
      " [6500 6501 6502 6503 6504 6505 6506 6507 6508 6509 6510 6511 6512 6513\n",
      "  6514 6515 6516 6517 6518 6519 6520 6521 6522 6523 6524 6525 6526 6527\n",
      "  6528 6529 6530 6531 6532 6533 6534 6535 6536 6537 6538 6539 6540 6541\n",
      "  6542 6543 6544 6545 6546 6547 6548 6549 6550 6551 6552 6553 6554 6555\n",
      "  6556 6557 6558 6559 6560 6561 6562 6563 6564 6565 6566 6567 6568 6569\n",
      "  6570 6571 6572 6573 6574 6575 6576 6577 6578 6579 6580 6581 6582 6583\n",
      "  6584 6585 6586 6587 6588 6589 6590 6591 6592 6593 6594 6595 6596 6597\n",
      "  6598 6599]\n",
      " [6600 6601 6602 6603 6604 6605 6606 6607 6608 6609 6610 6611 6612 6613\n",
      "  6614 6615 6616 6617 6618 6619 6620 6621 6622 6623 6624 6625 6626 6627\n",
      "  6628 6629 6630 6631 6632 6633 6634 6635 6636 6637 6638 6639 6640 6641\n",
      "  6642 6643 6644 6645 6646 6647 6648 6649 6650 6651 6652 6653 6654 6655\n",
      "  6656 6657 6658 6659 6660 6661 6662 6663 6664 6665 6666 6667 6668 6669\n",
      "  6670 6671 6672 6673 6674 6675 6676 6677 6678 6679 6680 6681 6682 6683\n",
      "  6684 6685 6686 6687 6688 6689 6690 6691 6692 6693 6694 6695 6696 6697\n",
      "  6698 6699]\n",
      " [6700 6701 6702 6703 6704 6705 6706 6707 6708 6709 6710 6711 6712 6713\n",
      "  6714 6715 6716 6717 6718 6719 6720 6721 6722 6723 6724 6725 6726 6727\n",
      "  6728 6729 6730 6731 6732 6733 6734 6735 6736 6737 6738 6739 6740 6741\n",
      "  6742 6743 6744 6745 6746 6747 6748 6749 6750 6751 6752 6753 6754 6755\n",
      "  6756 6757 6758 6759 6760 6761 6762 6763 6764 6765 6766 6767 6768 6769\n",
      "  6770 6771 6772 6773 6774 6775 6776 6777 6778 6779 6780 6781 6782 6783\n",
      "  6784 6785 6786 6787 6788 6789 6790 6791 6792 6793 6794 6795 6796 6797\n",
      "  6798 6799]\n",
      " [6800 6801 6802 6803 6804 6805 6806 6807 6808 6809 6810 6811 6812 6813\n",
      "  6814 6815 6816 6817 6818 6819 6820 6821 6822 6823 6824 6825 6826 6827\n",
      "  6828 6829 6830 6831 6832 6833 6834 6835 6836 6837 6838 6839 6840 6841\n",
      "  6842 6843 6844 6845 6846 6847 6848 6849 6850 6851 6852 6853 6854 6855\n",
      "  6856 6857 6858 6859 6860 6861 6862 6863 6864 6865 6866 6867 6868 6869\n",
      "  6870 6871 6872 6873 6874 6875 6876 6877 6878 6879 6880 6881 6882 6883\n",
      "  6884 6885 6886 6887 6888 6889 6890 6891 6892 6893 6894 6895 6896 6897\n",
      "  6898 6899]\n",
      " [6900 6901 6902 6903 6904 6905 6906 6907 6908 6909 6910 6911 6912 6913\n",
      "  6914 6915 6916 6917 6918 6919 6920 6921 6922 6923 6924 6925 6926 6927\n",
      "  6928 6929 6930 6931 6932 6933 6934 6935 6936 6937 6938 6939 6940 6941\n",
      "  6942 6943 6944 6945 6946 6947 6948 6949 6950 6951 6952 6953 6954 6955\n",
      "  6956 6957 6958 6959 6960 6961 6962 6963 6964 6965 6966 6967 6968 6969\n",
      "  6970 6971 6972 6973 6974 6975 6976 6977 6978 6979 6980 6981 6982 6983\n",
      "  6984 6985 6986 6987 6988 6989 6990 6991 6992 6993 6994 6995 6996 6997\n",
      "  6998 6999]\n",
      " [7000 7001 7002 7003 7004 7005 7006 7007 7008 7009 7010 7011 7012 7013\n",
      "  7014 7015 7016 7017 7018 7019 7020 7021 7022 7023 7024 7025 7026 7027\n",
      "  7028 7029 7030 7031 7032 7033 7034 7035 7036 7037 7038 7039 7040 7041\n",
      "  7042 7043 7044 7045 7046 7047 7048 7049 7050 7051 7052 7053 7054 7055\n",
      "  7056 7057 7058 7059 7060 7061 7062 7063 7064 7065 7066 7067 7068 7069\n",
      "  7070 7071 7072 7073 7074 7075 7076 7077 7078 7079 7080 7081 7082 7083\n",
      "  7084 7085 7086 7087 7088 7089 7090 7091 7092 7093 7094 7095 7096 7097\n",
      "  7098 7099]\n",
      " [7100 7101 7102 7103 7104 7105 7106 7107 7108 7109 7110 7111 7112 7113\n",
      "  7114 7115 7116 7117 7118 7119 7120 7121 7122 7123 7124 7125 7126 7127\n",
      "  7128 7129 7130 7131 7132 7133 7134 7135 7136 7137 7138 7139 7140 7141\n",
      "  7142 7143 7144 7145 7146 7147 7148 7149 7150 7151 7152 7153 7154 7155\n",
      "  7156 7157 7158 7159 7160 7161 7162 7163 7164 7165 7166 7167 7168 7169\n",
      "  7170 7171 7172 7173 7174 7175 7176 7177 7178 7179 7180 7181 7182 7183\n",
      "  7184 7185 7186 7187 7188 7189 7190 7191 7192 7193 7194 7195 7196 7197\n",
      "  7198 7199]\n",
      " [7200 7201 7202 7203 7204 7205 7206 7207 7208 7209 7210 7211 7212 7213\n",
      "  7214 7215 7216 7217 7218 7219 7220 7221 7222 7223 7224 7225 7226 7227\n",
      "  7228 7229 7230 7231 7232 7233 7234 7235 7236 7237 7238 7239 7240 7241\n",
      "  7242 7243 7244 7245 7246 7247 7248 7249 7250 7251 7252 7253 7254 7255\n",
      "  7256 7257 7258 7259 7260 7261 7262 7263 7264 7265 7266 7267 7268 7269\n",
      "  7270 7271 7272 7273 7274 7275 7276 7277 7278 7279 7280 7281 7282 7283\n",
      "  7284 7285 7286 7287 7288 7289 7290 7291 7292 7293 7294 7295 7296 7297\n",
      "  7298 7299]\n",
      " [7300 7301 7302 7303 7304 7305 7306 7307 7308 7309 7310 7311 7312 7313\n",
      "  7314 7315 7316 7317 7318 7319 7320 7321 7322 7323 7324 7325 7326 7327\n",
      "  7328 7329 7330 7331 7332 7333 7334 7335 7336 7337 7338 7339 7340 7341\n",
      "  7342 7343 7344 7345 7346 7347 7348 7349 7350 7351 7352 7353 7354 7355\n",
      "  7356 7357 7358 7359 7360 7361 7362 7363 7364 7365 7366 7367 7368 7369\n",
      "  7370 7371 7372 7373 7374 7375 7376 7377 7378 7379 7380 7381 7382 7383\n",
      "  7384 7385 7386 7387 7388 7389 7390 7391 7392 7393 7394 7395 7396 7397\n",
      "  7398 7399]\n",
      " [7400 7401 7402 7403 7404 7405 7406 7407 7408 7409 7410 7411 7412 7413\n",
      "  7414 7415 7416 7417 7418 7419 7420 7421 7422 7423 7424 7425 7426 7427\n",
      "  7428 7429 7430 7431 7432 7433 7434 7435 7436 7437 7438 7439 7440 7441\n",
      "  7442 7443 7444 7445 7446 7447 7448 7449 7450 7451 7452 7453 7454 7455\n",
      "  7456 7457 7458 7459 7460 7461 7462 7463 7464 7465 7466 7467 7468 7469\n",
      "  7470 7471 7472 7473 7474 7475 7476 7477 7478 7479 7480 7481 7482 7483\n",
      "  7484 7485 7486 7487 7488 7489 7490 7491 7492 7493 7494 7495 7496 7497\n",
      "  7498 7499]\n",
      " [7500 7501 7502 7503 7504 7505 7506 7507 7508 7509 7510 7511 7512 7513\n",
      "  7514 7515 7516 7517 7518 7519 7520 7521 7522 7523 7524 7525 7526 7527\n",
      "  7528 7529 7530 7531 7532 7533 7534 7535 7536 7537 7538 7539 7540 7541\n",
      "  7542 7543 7544 7545 7546 7547 7548 7549 7550 7551 7552 7553 7554 7555\n",
      "  7556 7557 7558 7559 7560 7561 7562 7563 7564 7565 7566 7567 7568 7569\n",
      "  7570 7571 7572 7573 7574 7575 7576 7577 7578 7579 7580 7581 7582 7583\n",
      "  7584 7585 7586 7587 7588 7589 7590 7591 7592 7593 7594 7595 7596 7597\n",
      "  7598 7599]\n",
      " [7600 7601 7602 7603 7604 7605 7606 7607 7608 7609 7610 7611 7612 7613\n",
      "  7614 7615 7616 7617 7618 7619 7620 7621 7622 7623 7624 7625 7626 7627\n",
      "  7628 7629 7630 7631 7632 7633 7634 7635 7636 7637 7638 7639 7640 7641\n",
      "  7642 7643 7644 7645 7646 7647 7648 7649 7650 7651 7652 7653 7654 7655\n",
      "  7656 7657 7658 7659 7660 7661 7662 7663 7664 7665 7666 7667 7668 7669\n",
      "  7670 7671 7672 7673 7674 7675 7676 7677 7678 7679 7680 7681 7682 7683\n",
      "  7684 7685 7686 7687 7688 7689 7690 7691 7692 7693 7694 7695 7696 7697\n",
      "  7698 7699]\n",
      " [7700 7701 7702 7703 7704 7705 7706 7707 7708 7709 7710 7711 7712 7713\n",
      "  7714 7715 7716 7717 7718 7719 7720 7721 7722 7723 7724 7725 7726 7727\n",
      "  7728 7729 7730 7731 7732 7733 7734 7735 7736 7737 7738 7739 7740 7741\n",
      "  7742 7743 7744 7745 7746 7747 7748 7749 7750 7751 7752 7753 7754 7755\n",
      "  7756 7757 7758 7759 7760 7761 7762 7763 7764 7765 7766 7767 7768 7769\n",
      "  7770 7771 7772 7773 7774 7775 7776 7777 7778 7779 7780 7781 7782 7783\n",
      "  7784 7785 7786 7787 7788 7789 7790 7791 7792 7793 7794 7795 7796 7797\n",
      "  7798 7799]\n",
      " [7800 7801 7802 7803 7804 7805 7806 7807 7808 7809 7810 7811 7812 7813\n",
      "  7814 7815 7816 7817 7818 7819 7820 7821 7822 7823 7824 7825 7826 7827\n",
      "  7828 7829 7830 7831 7832 7833 7834 7835 7836 7837 7838 7839 7840 7841\n",
      "  7842 7843 7844 7845 7846 7847 7848 7849 7850 7851 7852 7853 7854 7855\n",
      "  7856 7857 7858 7859 7860 7861 7862 7863 7864 7865 7866 7867 7868 7869\n",
      "  7870 7871 7872 7873 7874 7875 7876 7877 7878 7879 7880 7881 7882 7883\n",
      "  7884 7885 7886 7887 7888 7889 7890 7891 7892 7893 7894 7895 7896 7897\n",
      "  7898 7899]\n",
      " [7900 7901 7902 7903 7904 7905 7906 7907 7908 7909 7910 7911 7912 7913\n",
      "  7914 7915 7916 7917 7918 7919 7920 7921 7922 7923 7924 7925 7926 7927\n",
      "  7928 7929 7930 7931 7932 7933 7934 7935 7936 7937 7938 7939 7940 7941\n",
      "  7942 7943 7944 7945 7946 7947 7948 7949 7950 7951 7952 7953 7954 7955\n",
      "  7956 7957 7958 7959 7960 7961 7962 7963 7964 7965 7966 7967 7968 7969\n",
      "  7970 7971 7972 7973 7974 7975 7976 7977 7978 7979 7980 7981 7982 7983\n",
      "  7984 7985 7986 7987 7988 7989 7990 7991 7992 7993 7994 7995 7996 7997\n",
      "  7998 7999]\n",
      " [8000 8001 8002 8003 8004 8005 8006 8007 8008 8009 8010 8011 8012 8013\n",
      "  8014 8015 8016 8017 8018 8019 8020 8021 8022 8023 8024 8025 8026 8027\n",
      "  8028 8029 8030 8031 8032 8033 8034 8035 8036 8037 8038 8039 8040 8041\n",
      "  8042 8043 8044 8045 8046 8047 8048 8049 8050 8051 8052 8053 8054 8055\n",
      "  8056 8057 8058 8059 8060 8061 8062 8063 8064 8065 8066 8067 8068 8069\n",
      "  8070 8071 8072 8073 8074 8075 8076 8077 8078 8079 8080 8081 8082 8083\n",
      "  8084 8085 8086 8087 8088 8089 8090 8091 8092 8093 8094 8095 8096 8097\n",
      "  8098 8099]\n",
      " [8100 8101 8102 8103 8104 8105 8106 8107 8108 8109 8110 8111 8112 8113\n",
      "  8114 8115 8116 8117 8118 8119 8120 8121 8122 8123 8124 8125 8126 8127\n",
      "  8128 8129 8130 8131 8132 8133 8134 8135 8136 8137 8138 8139 8140 8141\n",
      "  8142 8143 8144 8145 8146 8147 8148 8149 8150 8151 8152 8153 8154 8155\n",
      "  8156 8157 8158 8159 8160 8161 8162 8163 8164 8165 8166 8167 8168 8169\n",
      "  8170 8171 8172 8173 8174 8175 8176 8177 8178 8179 8180 8181 8182 8183\n",
      "  8184 8185 8186 8187 8188 8189 8190 8191 8192 8193 8194 8195 8196 8197\n",
      "  8198 8199]\n",
      " [8200 8201 8202 8203 8204 8205 8206 8207 8208 8209 8210 8211 8212 8213\n",
      "  8214 8215 8216 8217 8218 8219 8220 8221 8222 8223 8224 8225 8226 8227\n",
      "  8228 8229 8230 8231 8232 8233 8234 8235 8236 8237 8238 8239 8240 8241\n",
      "  8242 8243 8244 8245 8246 8247 8248 8249 8250 8251 8252 8253 8254 8255\n",
      "  8256 8257 8258 8259 8260 8261 8262 8263 8264 8265 8266 8267 8268 8269\n",
      "  8270 8271 8272 8273 8274 8275 8276 8277 8278 8279 8280 8281 8282 8283\n",
      "  8284 8285 8286 8287 8288 8289 8290 8291 8292 8293 8294 8295 8296 8297\n",
      "  8298 8299]\n",
      " [8300 8301 8302 8303 8304 8305 8306 8307 8308 8309 8310 8311 8312 8313\n",
      "  8314 8315 8316 8317 8318 8319 8320 8321 8322 8323 8324 8325 8326 8327\n",
      "  8328 8329 8330 8331 8332 8333 8334 8335 8336 8337 8338 8339 8340 8341\n",
      "  8342 8343 8344 8345 8346 8347 8348 8349 8350 8351 8352 8353 8354 8355\n",
      "  8356 8357 8358 8359 8360 8361 8362 8363 8364 8365 8366 8367 8368 8369\n",
      "  8370 8371 8372 8373 8374 8375 8376 8377 8378 8379 8380 8381 8382 8383\n",
      "  8384 8385 8386 8387 8388 8389 8390 8391 8392 8393 8394 8395 8396 8397\n",
      "  8398 8399]\n",
      " [8400 8401 8402 8403 8404 8405 8406 8407 8408 8409 8410 8411 8412 8413\n",
      "  8414 8415 8416 8417 8418 8419 8420 8421 8422 8423 8424 8425 8426 8427\n",
      "  8428 8429 8430 8431 8432 8433 8434 8435 8436 8437 8438 8439 8440 8441\n",
      "  8442 8443 8444 8445 8446 8447 8448 8449 8450 8451 8452 8453 8454 8455\n",
      "  8456 8457 8458 8459 8460 8461 8462 8463 8464 8465 8466 8467 8468 8469\n",
      "  8470 8471 8472 8473 8474 8475 8476 8477 8478 8479 8480 8481 8482 8483\n",
      "  8484 8485 8486 8487 8488 8489 8490 8491 8492 8493 8494 8495 8496 8497\n",
      "  8498 8499]\n",
      " [8500 8501 8502 8503 8504 8505 8506 8507 8508 8509 8510 8511 8512 8513\n",
      "  8514 8515 8516 8517 8518 8519 8520 8521 8522 8523 8524 8525 8526 8527\n",
      "  8528 8529 8530 8531 8532 8533 8534 8535 8536 8537 8538 8539 8540 8541\n",
      "  8542 8543 8544 8545 8546 8547 8548 8549 8550 8551 8552 8553 8554 8555\n",
      "  8556 8557 8558 8559 8560 8561 8562 8563 8564 8565 8566 8567 8568 8569\n",
      "  8570 8571 8572 8573 8574 8575 8576 8577 8578 8579 8580 8581 8582 8583\n",
      "  8584 8585 8586 8587 8588 8589 8590 8591 8592 8593 8594 8595 8596 8597\n",
      "  8598 8599]\n",
      " [8600 8601 8602 8603 8604 8605 8606 8607 8608 8609 8610 8611 8612 8613\n",
      "  8614 8615 8616 8617 8618 8619 8620 8621 8622 8623 8624 8625 8626 8627\n",
      "  8628 8629 8630 8631 8632 8633 8634 8635 8636 8637 8638 8639 8640 8641\n",
      "  8642 8643 8644 8645 8646 8647 8648 8649 8650 8651 8652 8653 8654 8655\n",
      "  8656 8657 8658 8659 8660 8661 8662 8663 8664 8665 8666 8667 8668 8669\n",
      "  8670 8671 8672 8673 8674 8675 8676 8677 8678 8679 8680 8681 8682 8683\n",
      "  8684 8685 8686 8687 8688 8689 8690 8691 8692 8693 8694 8695 8696 8697\n",
      "  8698 8699]\n",
      " [8700 8701 8702 8703 8704 8705 8706 8707 8708 8709 8710 8711 8712 8713\n",
      "  8714 8715 8716 8717 8718 8719 8720 8721 8722 8723 8724 8725 8726 8727\n",
      "  8728 8729 8730 8731 8732 8733 8734 8735 8736 8737 8738 8739 8740 8741\n",
      "  8742 8743 8744 8745 8746 8747 8748 8749 8750 8751 8752 8753 8754 8755\n",
      "  8756 8757 8758 8759 8760 8761 8762 8763 8764 8765 8766 8767 8768 8769\n",
      "  8770 8771 8772 8773 8774 8775 8776 8777 8778 8779 8780 8781 8782 8783\n",
      "  8784 8785 8786 8787 8788 8789 8790 8791 8792 8793 8794 8795 8796 8797\n",
      "  8798 8799]\n",
      " [8800 8801 8802 8803 8804 8805 8806 8807 8808 8809 8810 8811 8812 8813\n",
      "  8814 8815 8816 8817 8818 8819 8820 8821 8822 8823 8824 8825 8826 8827\n",
      "  8828 8829 8830 8831 8832 8833 8834 8835 8836 8837 8838 8839 8840 8841\n",
      "  8842 8843 8844 8845 8846 8847 8848 8849 8850 8851 8852 8853 8854 8855\n",
      "  8856 8857 8858 8859 8860 8861 8862 8863 8864 8865 8866 8867 8868 8869\n",
      "  8870 8871 8872 8873 8874 8875 8876 8877 8878 8879 8880 8881 8882 8883\n",
      "  8884 8885 8886 8887 8888 8889 8890 8891 8892 8893 8894 8895 8896 8897\n",
      "  8898 8899]\n",
      " [8900 8901 8902 8903 8904 8905 8906 8907 8908 8909 8910 8911 8912 8913\n",
      "  8914 8915 8916 8917 8918 8919 8920 8921 8922 8923 8924 8925 8926 8927\n",
      "  8928 8929 8930 8931 8932 8933 8934 8935 8936 8937 8938 8939 8940 8941\n",
      "  8942 8943 8944 8945 8946 8947 8948 8949 8950 8951 8952 8953 8954 8955\n",
      "  8956 8957 8958 8959 8960 8961 8962 8963 8964 8965 8966 8967 8968 8969\n",
      "  8970 8971 8972 8973 8974 8975 8976 8977 8978 8979 8980 8981 8982 8983\n",
      "  8984 8985 8986 8987 8988 8989 8990 8991 8992 8993 8994 8995 8996 8997\n",
      "  8998 8999]\n",
      " [9000 9001 9002 9003 9004 9005 9006 9007 9008 9009 9010 9011 9012 9013\n",
      "  9014 9015 9016 9017 9018 9019 9020 9021 9022 9023 9024 9025 9026 9027\n",
      "  9028 9029 9030 9031 9032 9033 9034 9035 9036 9037 9038 9039 9040 9041\n",
      "  9042 9043 9044 9045 9046 9047 9048 9049 9050 9051 9052 9053 9054 9055\n",
      "  9056 9057 9058 9059 9060 9061 9062 9063 9064 9065 9066 9067 9068 9069\n",
      "  9070 9071 9072 9073 9074 9075 9076 9077 9078 9079 9080 9081 9082 9083\n",
      "  9084 9085 9086 9087 9088 9089 9090 9091 9092 9093 9094 9095 9096 9097\n",
      "  9098 9099]\n",
      " [9100 9101 9102 9103 9104 9105 9106 9107 9108 9109 9110 9111 9112 9113\n",
      "  9114 9115 9116 9117 9118 9119 9120 9121 9122 9123 9124 9125 9126 9127\n",
      "  9128 9129 9130 9131 9132 9133 9134 9135 9136 9137 9138 9139 9140 9141\n",
      "  9142 9143 9144 9145 9146 9147 9148 9149 9150 9151 9152 9153 9154 9155\n",
      "  9156 9157 9158 9159 9160 9161 9162 9163 9164 9165 9166 9167 9168 9169\n",
      "  9170 9171 9172 9173 9174 9175 9176 9177 9178 9179 9180 9181 9182 9183\n",
      "  9184 9185 9186 9187 9188 9189 9190 9191 9192 9193 9194 9195 9196 9197\n",
      "  9198 9199]\n",
      " [9200 9201 9202 9203 9204 9205 9206 9207 9208 9209 9210 9211 9212 9213\n",
      "  9214 9215 9216 9217 9218 9219 9220 9221 9222 9223 9224 9225 9226 9227\n",
      "  9228 9229 9230 9231 9232 9233 9234 9235 9236 9237 9238 9239 9240 9241\n",
      "  9242 9243 9244 9245 9246 9247 9248 9249 9250 9251 9252 9253 9254 9255\n",
      "  9256 9257 9258 9259 9260 9261 9262 9263 9264 9265 9266 9267 9268 9269\n",
      "  9270 9271 9272 9273 9274 9275 9276 9277 9278 9279 9280 9281 9282 9283\n",
      "  9284 9285 9286 9287 9288 9289 9290 9291 9292 9293 9294 9295 9296 9297\n",
      "  9298 9299]\n",
      " [9300 9301 9302 9303 9304 9305 9306 9307 9308 9309 9310 9311 9312 9313\n",
      "  9314 9315 9316 9317 9318 9319 9320 9321 9322 9323 9324 9325 9326 9327\n",
      "  9328 9329 9330 9331 9332 9333 9334 9335 9336 9337 9338 9339 9340 9341\n",
      "  9342 9343 9344 9345 9346 9347 9348 9349 9350 9351 9352 9353 9354 9355\n",
      "  9356 9357 9358 9359 9360 9361 9362 9363 9364 9365 9366 9367 9368 9369\n",
      "  9370 9371 9372 9373 9374 9375 9376 9377 9378 9379 9380 9381 9382 9383\n",
      "  9384 9385 9386 9387 9388 9389 9390 9391 9392 9393 9394 9395 9396 9397\n",
      "  9398 9399]\n",
      " [9400 9401 9402 9403 9404 9405 9406 9407 9408 9409 9410 9411 9412 9413\n",
      "  9414 9415 9416 9417 9418 9419 9420 9421 9422 9423 9424 9425 9426 9427\n",
      "  9428 9429 9430 9431 9432 9433 9434 9435 9436 9437 9438 9439 9440 9441\n",
      "  9442 9443 9444 9445 9446 9447 9448 9449 9450 9451 9452 9453 9454 9455\n",
      "  9456 9457 9458 9459 9460 9461 9462 9463 9464 9465 9466 9467 9468 9469\n",
      "  9470 9471 9472 9473 9474 9475 9476 9477 9478 9479 9480 9481 9482 9483\n",
      "  9484 9485 9486 9487 9488 9489 9490 9491 9492 9493 9494 9495 9496 9497\n",
      "  9498 9499]\n",
      " [9500 9501 9502 9503 9504 9505 9506 9507 9508 9509 9510 9511 9512 9513\n",
      "  9514 9515 9516 9517 9518 9519 9520 9521 9522 9523 9524 9525 9526 9527\n",
      "  9528 9529 9530 9531 9532 9533 9534 9535 9536 9537 9538 9539 9540 9541\n",
      "  9542 9543 9544 9545 9546 9547 9548 9549 9550 9551 9552 9553 9554 9555\n",
      "  9556 9557 9558 9559 9560 9561 9562 9563 9564 9565 9566 9567 9568 9569\n",
      "  9570 9571 9572 9573 9574 9575 9576 9577 9578 9579 9580 9581 9582 9583\n",
      "  9584 9585 9586 9587 9588 9589 9590 9591 9592 9593 9594 9595 9596 9597\n",
      "  9598 9599]\n",
      " [9600 9601 9602 9603 9604 9605 9606 9607 9608 9609 9610 9611 9612 9613\n",
      "  9614 9615 9616 9617 9618 9619 9620 9621 9622 9623 9624 9625 9626 9627\n",
      "  9628 9629 9630 9631 9632 9633 9634 9635 9636 9637 9638 9639 9640 9641\n",
      "  9642 9643 9644 9645 9646 9647 9648 9649 9650 9651 9652 9653 9654 9655\n",
      "  9656 9657 9658 9659 9660 9661 9662 9663 9664 9665 9666 9667 9668 9669\n",
      "  9670 9671 9672 9673 9674 9675 9676 9677 9678 9679 9680 9681 9682 9683\n",
      "  9684 9685 9686 9687 9688 9689 9690 9691 9692 9693 9694 9695 9696 9697\n",
      "  9698 9699]\n",
      " [9700 9701 9702 9703 9704 9705 9706 9707 9708 9709 9710 9711 9712 9713\n",
      "  9714 9715 9716 9717 9718 9719 9720 9721 9722 9723 9724 9725 9726 9727\n",
      "  9728 9729 9730 9731 9732 9733 9734 9735 9736 9737 9738 9739 9740 9741\n",
      "  9742 9743 9744 9745 9746 9747 9748 9749 9750 9751 9752 9753 9754 9755\n",
      "  9756 9757 9758 9759 9760 9761 9762 9763 9764 9765 9766 9767 9768 9769\n",
      "  9770 9771 9772 9773 9774 9775 9776 9777 9778 9779 9780 9781 9782 9783\n",
      "  9784 9785 9786 9787 9788 9789 9790 9791 9792 9793 9794 9795 9796 9797\n",
      "  9798 9799]\n",
      " [9800 9801 9802 9803 9804 9805 9806 9807 9808 9809 9810 9811 9812 9813\n",
      "  9814 9815 9816 9817 9818 9819 9820 9821 9822 9823 9824 9825 9826 9827\n",
      "  9828 9829 9830 9831 9832 9833 9834 9835 9836 9837 9838 9839 9840 9841\n",
      "  9842 9843 9844 9845 9846 9847 9848 9849 9850 9851 9852 9853 9854 9855\n",
      "  9856 9857 9858 9859 9860 9861 9862 9863 9864 9865 9866 9867 9868 9869\n",
      "  9870 9871 9872 9873 9874 9875 9876 9877 9878 9879 9880 9881 9882 9883\n",
      "  9884 9885 9886 9887 9888 9889 9890 9891 9892 9893 9894 9895 9896 9897\n",
      "  9898 9899]\n",
      " [9900 9901 9902 9903 9904 9905 9906 9907 9908 9909 9910 9911 9912 9913\n",
      "  9914 9915 9916 9917 9918 9919 9920 9921 9922 9923 9924 9925 9926 9927\n",
      "  9928 9929 9930 9931 9932 9933 9934 9935 9936 9937 9938 9939 9940 9941\n",
      "  9942 9943 9944 9945 9946 9947 9948 9949 9950 9951 9952 9953 9954 9955\n",
      "  9956 9957 9958 9959 9960 9961 9962 9963 9964 9965 9966 9967 9968 9969\n",
      "  9970 9971 9972 9973 9974 9975 9976 9977 9978 9979 9980 9981 9982 9983\n",
      "  9984 9985 9986 9987 9988 9989 9990 9991 9992 9993 9994 9995 9996 9997\n",
      "  9998 9999]]\n"
     ]
    }
   ],
   "source": [
    "import numpy as np\n",
    "array = np.arange(10000).reshape(100, 100)\n",
    "np.set_printoptions(threshold=np.inf)\n",
    "print(array)"
   ]
  },
  {
   "cell_type": "markdown",
   "id": "7ee2dacc",
   "metadata": {},
   "source": [
    "#### 50. How to find the closest value (to a given scalar) in a vector? (★★☆)"
   ]
  },
  {
   "cell_type": "code",
   "execution_count": 50,
   "id": "742518ef",
   "metadata": {},
   "outputs": [
    {
     "name": "stdout",
     "output_type": "stream",
     "text": [
      "Vector: [0.08345108 0.47368685 0.12709712 0.51414119 0.9469165  0.77299289\n",
      " 0.88322663 0.06303182 0.9083874  0.9906937 ]\n",
      "Scalar: 0.5\n",
      "Closest value: 0.5141411853868224\n"
     ]
    }
   ],
   "source": [
    "import numpy as np\n",
    "vector = np.random.rand(10)\n",
    "scalar = 0.5\n",
    "\n",
    "closest_value = vector[np.abs(vector - scalar).argmin()]\n",
    "\n",
    "print(\"Vector:\", vector)\n",
    "print(\"Scalar:\", scalar)\n",
    "print(\"Closest value:\", closest_value)"
   ]
  },
  {
   "cell_type": "markdown",
   "id": "cfeda6ba",
   "metadata": {},
   "source": [
    "#### 51. Create a structured array representing a position (x,y) and a color (r,g,b) (★★☆)"
   ]
  },
  {
   "cell_type": "code",
   "execution_count": 51,
   "id": "9fcbd031",
   "metadata": {},
   "outputs": [
    {
     "name": "stdout",
     "output_type": "stream",
     "text": [
      "Structured array:\n",
      "[((0.59292723, 0.765542  ), (0.84234416, 0.38473898, 0.35289804))\n",
      " ((0.17926062, 0.91005152), (0.29496667, 0.30819635, 0.22232885))\n",
      " ((0.75435977, 0.8414071 ), (0.49859149, 0.05331836, 0.28054806))\n",
      " ((0.39752325, 0.71838298), (0.81151738, 0.27322934, 0.80011463))\n",
      " ((0.9854995 , 0.16386731), (0.3712758 , 0.84923409, 0.4266671 ))]\n"
     ]
    }
   ],
   "source": [
    "import numpy as np\n",
    "dtype = [('position', [('x', float), ('y', float)]), \n",
    "         ('color', [('r', float), ('g', float), ('b', float)])]\n",
    "\n",
    "structured_array = np.zeros(5, dtype=dtype)  \n",
    "\n",
    "structured_array['position']['x'] = np.random.rand(5)\n",
    "structured_array['position']['y'] = np.random.rand(5)\n",
    "structured_array['color']['r'] = np.random.rand(5)\n",
    "structured_array['color']['g'] = np.random.rand(5)\n",
    "structured_array['color']['b'] = np.random.rand(5)\n",
    "\n",
    "print(\"Structured array:\")\n",
    "print(structured_array)"
   ]
  },
  {
   "cell_type": "markdown",
   "id": "b97e75b5",
   "metadata": {},
   "source": [
    "#### 52. Consider a random vector with shape (100,2) representing coordinates, find point by point distances (★★☆)"
   ]
  },
  {
   "cell_type": "code",
   "execution_count": 52,
   "id": "c58a45b6",
   "metadata": {},
   "outputs": [
    {
     "name": "stdout",
     "output_type": "stream",
     "text": [
      "Pairwise distances:\n",
      "[[0.         0.34421584 0.71977236 0.86285817 0.30399441 0.82810009\n",
      "  0.69526839 0.11923901 0.82927885 0.04241954 0.77749919 0.64399021\n",
      "  0.73352608 0.64478773 0.53251725 0.90624858 0.29213932 0.43018198\n",
      "  0.19237825 0.62448794 0.75975804 0.40797674 0.82860204 0.2106749\n",
      "  0.24733984 0.53953106 0.17278413 0.25010961 0.67800262 0.22033745\n",
      "  0.28175626 0.31070712 0.23405386 0.38473385 0.05449807 0.63567677\n",
      "  0.58697728 0.37533333 0.79242934 0.89173956 0.65196721 0.29786723\n",
      "  0.699536   0.94022843 1.00022567 0.67384068 0.57177234 0.29181074\n",
      "  0.65161674 0.566395   0.31473014 0.56776564 0.86195234 0.64365991\n",
      "  0.63665577 0.84066561 0.40606502 0.50270557 0.67553544 0.64907771\n",
      "  0.71302506 0.50899548 0.68068275 0.66187546 0.81136749 0.61340685\n",
      "  0.48884022 0.8759056  0.36742486 0.10471613 0.51455998 0.24086914\n",
      "  0.12682613 0.59903699 0.44455302 0.1787674  0.106724   1.01881658\n",
      "  0.70016415 0.41456643 0.45186575 0.31458904 0.48487134 0.36601208\n",
      "  0.58495614 0.71798826 0.35865806 0.90248038 0.47174664 0.74516045\n",
      "  0.66213457 0.43867663 0.09358289 0.49610227 0.60437606 0.56265282\n",
      "  0.3070809  0.4686689  0.16884142 0.87113279]\n",
      " [0.34421584 0.         0.54889804 0.51982004 0.19193503 0.62138263\n",
      "  0.62868121 0.24683128 0.70554895 0.37382665 0.55564865 0.42955944\n",
      "  0.52011877 0.60947808 0.21265959 0.56295228 0.31050581 0.10125805\n",
      "  0.39613679 0.29200398 0.44759937 0.57912782 0.48511661 0.13422448\n",
      "  0.09689247 0.69577757 0.48377177 0.18491338 0.37620503 0.20536964\n",
      "  0.5188153  0.55071284 0.40325909 0.10566943 0.2926671  0.62272615\n",
      "  0.56872233 0.15368214 0.76347405 0.78420474 0.51502813 0.35213642\n",
      "  0.36087297 0.78721527 0.82467842 0.33164126 0.27084633 0.27429827\n",
      "  0.38693007 0.52267671 0.12641569 0.61002087 0.51905437 0.40811001\n",
      "  0.60409853 0.720055   0.1617513  0.23845222 0.67455977 0.35053534\n",
      "  0.71087225 0.29802234 0.46773039 0.33229201 0.54226678 0.79216292\n",
      "  0.20683625 0.66056884 0.54866135 0.28585489 0.23283915 0.21415383\n",
      "  0.22441307 0.80280334 0.48441712 0.16561783 0.44918174 0.88345353\n",
      "  0.36114713 0.26809008 0.63769009 0.55444044 0.43003722 0.29162145\n",
      "  0.76211542 0.40674124 0.18817177 0.65534691 0.24364867 0.73349171\n",
      "  0.48099002 0.67457551 0.25255727 0.54293839 0.26319559 0.54336794\n",
      "  0.43671972 0.23766638 0.19872432 0.52691817]\n",
      " [0.71977236 0.54889804 0.         0.60434913 0.73697795 0.12476701\n",
      "  0.21057918 0.60779099 0.17235967 0.76218814 0.12073106 0.13370214\n",
      "  0.09324277 0.26012289 0.65285238 0.63469376 0.43547956 0.5928176\n",
      "  0.87236167 0.65255831 0.36874634 0.57488119 0.5956868  0.58847375\n",
      "  0.58029152 0.59526177 0.73630973 0.71505184 0.32560389 0.72291276\n",
      "  0.64852019 0.66293242 0.556986   0.642818   0.69833385 0.30066819\n",
      "  0.28501234 0.69879105 0.3365949  0.2546583  0.08480062 0.88184378\n",
      "  0.6532961  0.2383956  0.28392105 0.60976512 0.71869017 0.42856868\n",
      "  0.23264371 0.2463605  0.45776807 0.38826428 0.60121058 0.17357508\n",
      "  0.26393282 0.18753018 0.69832429 0.74093254 0.33618592 0.31927284\n",
      "  0.34962328 0.25089682 0.10747154 0.6837621  0.24645179 0.68186888\n",
      "  0.70396647 0.17431514 0.5812137  0.61507931 0.33952582 0.74061214\n",
      "  0.67122225 0.7300324  0.38239844 0.60849741 0.77962805 0.33532269\n",
      "  0.4893729  0.31318654 0.61634363 0.66405234 0.2664997  0.83973681\n",
      "  0.66215165 0.35819059 0.736756   0.24433818 0.76879356 0.34579237\n",
      "  0.0680222  0.71119853 0.64800922 0.38812856 0.59401513 0.28396065\n",
      "  0.95125751 0.76262146 0.68011405 0.65602169]\n",
      " [0.86285817 0.51982004 0.60434913 0.         0.64822743 0.56746457\n",
      "  0.8009857  0.75682452 0.76389006 0.89359425 0.50820218 0.49291066\n",
      "  0.51437373 0.82866984 0.38595773 0.04377953 0.73063259 0.45000418\n",
      "  0.89799966 0.29665143 0.2357091  0.99638177 0.03634103 0.65221035\n",
      "  0.61610224 1.07868162 0.9876696  0.67393354 0.29223358 0.7032666\n",
      "  0.9865427  1.01515007 0.8641876  0.51489052 0.81224425 0.86284719\n",
      "  0.82396822 0.55918072 0.93792156 0.84039187 0.64560212 0.80946081\n",
      "  0.22144477 0.7661719  0.74957953 0.21704394 0.40174638 0.69544174\n",
      "  0.38782425 0.77013397 0.57147518 0.91275364 0.00331225 0.45007516\n",
      "  0.82869244 0.77784709 0.53252977 0.4839156  0.9104578  0.31151094\n",
      "  0.93402457 0.49936847 0.50203667 0.28535174 0.38734256 1.17833586\n",
      "  0.46422796 0.56834598 0.97903886 0.79207771 0.40629609 0.70153702\n",
      "  0.7440867  1.20868939 0.83124259 0.684221   0.96608137 0.86415957\n",
      "  0.16930268 0.5833766  1.05386746 1.01825436 0.71513245 0.69999088\n",
      "  1.15130231 0.2502076  0.60330342 0.49090292 0.53708102 0.93845212\n",
      "  0.56324878 1.12019969 0.76990271 0.87305914 0.28066738 0.80825137\n",
      "  0.90412555 0.5337717  0.71499534 0.05801508]\n",
      " [0.30399441 0.19193503 0.73697795 0.64822743 0.         0.81306276\n",
      "  0.79732653 0.27099844 0.88835896 0.31278049 0.74756895 0.62070906\n",
      "  0.71174019 0.76883234 0.26957095 0.68833847 0.42688675 0.20469603\n",
      "  0.2559991  0.36665651 0.62297528 0.65681082 0.61192437 0.18431388\n",
      "  0.17038772 0.78528562 0.47503994 0.05496085 0.55880179 0.08375047\n",
      "  0.5591268  0.59103364 0.46712886 0.13552544 0.25215826 0.77566218\n",
      "  0.7213728  0.09086541 0.92489671 0.96498337 0.69694774 0.16768482\n",
      "  0.44796009 0.97529529 1.01524363 0.43529418 0.28815658 0.39876691\n",
      "  0.57775947 0.68132069 0.28705579 0.74362054 0.64826902 0.60002352\n",
      "  0.76245697 0.90248907 0.12117544 0.207955   0.82529245 0.53509986\n",
      "  0.86298075 0.48656827 0.65906514 0.39671052 0.73070133 0.87336633\n",
      "  0.20429737 0.85249594 0.61980313 0.30790045 0.42407087 0.06629588\n",
      "  0.18797046 0.87114928 0.61226372 0.18930577 0.40502336 1.06984414\n",
      "  0.51055944 0.4402791  0.7107413  0.59502375 0.58726791 0.10521621\n",
      "  0.84339475 0.5839021  0.05692428 0.84591585 0.16969128 0.88912976\n",
      "  0.66944566 0.7216972  0.24498249 0.67169784 0.36800357 0.69528731\n",
      "  0.25964087 0.16735263 0.14241335 0.64045086]\n",
      " [0.82810009 0.62138263 0.12476701 0.56746457 0.81306276 0.\n",
      "  0.31382473 0.71286982 0.20885364 0.87034183 0.07076471 0.19354536\n",
      "  0.10136403 0.37274564 0.69077777 0.59102765 0.55091243 0.64845827\n",
      "  0.97049322 0.67289311 0.33823661 0.69956087 0.56622628 0.68017526\n",
      "  0.66692151 0.71643075 0.85551272 0.79764243 0.32443903 0.80923733\n",
      "  0.77196667 0.78700839 0.67735721 0.70593994 0.80243635 0.41369086\n",
      "  0.40477522 0.76399117 0.41716502 0.27713405 0.20951121 0.96651804\n",
      "  0.65832895 0.20188267 0.21003335 0.6173572  0.75259993 0.54007594\n",
      "  0.25228391 0.3695441  0.54695219 0.50754762 0.56417649 0.2142604\n",
      "  0.37779086 0.22062037 0.75886695 0.78778422 0.44253769 0.32935231\n",
      "  0.44937366 0.33270022 0.15480447 0.69862792 0.18100796 0.80044121\n",
      "  0.75142655 0.05006434 0.70593969 0.72397795 0.39416498 0.82478799\n",
      "  0.76875338 0.85030379 0.50716533 0.70326593 0.89396944 0.30338664\n",
      "  0.48396333 0.41450834 0.74045576 0.78819591 0.39011133 0.91231342\n",
      "  0.78190618 0.34220971 0.80536825 0.12860082 0.82201273 0.43872869\n",
      "  0.16724359 0.83575905 0.75122774 0.51179992 0.61570425 0.40605844\n",
      "  1.04161529 0.81599603 0.77257717 0.62328609]\n",
      " [0.69526839 0.62868121 0.21057918 0.8009857  0.79732653 0.31382473\n",
      "  0.         0.60204294 0.16385297 0.73609546 0.33029741 0.30854548\n",
      "  0.30278216 0.069312   0.78035237 0.83433173 0.40656107 0.69824467\n",
      "  0.87346177 0.80139056 0.56816652 0.43641407 0.78828579 0.62305417\n",
      "  0.62784797 0.42015017 0.66157648 0.76269469 0.51166717 0.7615823\n",
      "  0.54433382 0.54946782 0.48576605 0.73280282 0.68963405 0.10675146\n",
      "  0.12372862 0.78195101 0.14325854 0.20239764 0.15556105 0.91707592\n",
      "  0.81779676 0.28749249 0.36660195 0.77338982 0.84856231 0.41843897\n",
      "  0.41487668 0.12893532 0.51171101 0.21164184 0.79798001 0.35191793\n",
      "  0.07716642 0.16878379 0.78961655 0.85192941 0.12871453 0.4981784\n",
      "  0.13904466 0.35913802 0.30053429 0.83734982 0.45695032 0.49505683\n",
      "  0.81570024 0.35515823 0.4552159  0.59524433 0.47135821 0.78330228\n",
      "  0.68416584 0.54877368 0.26929094 0.63349607 0.72790424 0.33876568\n",
      "  0.66898282 0.36080467 0.46378489 0.54942806 0.2158772  0.90249346\n",
      "  0.47967212 0.55094036 0.81172984 0.44224719 0.86883673 0.13774466\n",
      "  0.23796241 0.56392064 0.64540353 0.24397769 0.74391432 0.14111015\n",
      "  0.97032013 0.86267685 0.70619176 0.84944691]\n",
      " [0.11923901 0.24683128 0.60779099 0.75682452 0.27099844 0.71286982\n",
      "  0.60204294 0.         0.72646843 0.15991252 0.66051087 0.5265953\n",
      "  0.61695301 0.55789931 0.45148388 0.80050483 0.19608137 0.34255503\n",
      "  0.27188314 0.53734335 0.64279739 0.38665981 0.72350219 0.11620008\n",
      "  0.15376829 0.51645284 0.23698777 0.21772859 0.56028888 0.19856186\n",
      "  0.29134049 0.32363651 0.19684897 0.31101214 0.09072178 0.55452337\n",
      "  0.50273253 0.31854403 0.71073808 0.79296355 0.5438707  0.33051738\n",
      "  0.60768856 0.83340538 0.89025545 0.57799633 0.50005337 0.1857696\n",
      "  0.53237971 0.47477813 0.19712743 0.50108458 0.7557065  0.52503062\n",
      "  0.55024022 0.73860609 0.34583873 0.4427812  0.59895492 0.53123588\n",
      "  0.63707718 0.39046844 0.56372034 0.57682574 0.69215786 0.60276034\n",
      "  0.42181526 0.76008806 0.34908563 0.04054825 0.3965724  0.22322984\n",
      "  0.09313563 0.60027363 0.37092802 0.09105618 0.21173958 0.91585973\n",
      "  0.59120194 0.29839803 0.43987705 0.32759181 0.38705958 0.35934785\n",
      "  0.57287271 0.6011198  0.31635998 0.784219   0.42263753 0.66724373\n",
      "  0.54808916 0.45354598 0.04340982 0.42777677 0.5099499  0.47720937\n",
      "  0.37037151 0.41834731 0.13264511 0.76918641]\n",
      " [0.82927885 0.70554895 0.17235967 0.76389006 0.88835896 0.20885364\n",
      "  0.16385297 0.72646843 0.         0.87119053 0.25665976 0.30580747\n",
      "  0.25164803 0.23312165 0.82299367 0.79095001 0.53715127 0.75786972\n",
      "  0.99753328 0.82485036 0.52907762 0.59970257 0.75844532 0.7271935\n",
      "  0.72468944 0.58141738 0.81352883 0.86106669 0.49470185 0.8651055\n",
      "  0.70295304 0.70998015 0.63455383 0.8038274  0.81659986 0.2688155\n",
      "  0.28590902 0.85806558 0.21828504 0.08238909 0.19142103 1.02378003\n",
      "  0.82505974 0.12377667 0.20303307 0.78169945 0.889401   0.54084445\n",
      "  0.40399486 0.27768585 0.60272093 0.37484907 0.76066417 0.34588599\n",
      "  0.24101821 0.01520355 0.86015557 0.90822885 0.27763177 0.49033923\n",
      "  0.27148946 0.41049629 0.27902301 0.85611585 0.38481688 0.65115605\n",
      "  0.87125719 0.23423405 0.61715516 0.72596297 0.50817095 0.88473997\n",
      "  0.80060824 0.7069301  0.42569912 0.74299505 0.87286858 0.18959104\n",
      "  0.65892852 0.45048645 0.62761485 0.71014751 0.34538618 0.99278724\n",
      "  0.6379573  0.52374635 0.89354489 0.32999395 0.93352713 0.25164212\n",
      "  0.23574481 0.72777279 0.76897189 0.40637648 0.76629954 0.29990695\n",
      "  1.0860784  0.92732695 0.81605208 0.81769427]\n",
      " [0.04241954 0.37382665 0.76218814 0.89359425 0.31278049 0.87034183\n",
      "  0.73609546 0.15991252 0.87119053 0.         0.81943283 0.68579697\n",
      "  0.7755492  0.68473505 0.55403803 0.93677156 0.33404926 0.45515877\n",
      "  0.16286136 0.64775694 0.79695676 0.43529926 0.85894323 0.24238268\n",
      "  0.27759117 0.56586594 0.17942926 0.26106392 0.71589351 0.22953932\n",
      "  0.30315698 0.3301379  0.26875089 0.40536836 0.0817234  0.67469037\n",
      "  0.62661602 0.39027699 0.83125944 0.93317124 0.69431349 0.28308763\n",
      "  0.72436282 0.98245856 1.04261514 0.70044396 0.58946641 0.3342062\n",
      "  0.69175337 0.60717117 0.35314696 0.60427948 0.89279482 0.68490545\n",
      "  0.67654224 0.88249696 0.42160696 0.51674635 0.713634   0.68710711\n",
      "  0.75092108 0.55030062 0.72261195 0.68411405 0.85181087 0.63560548\n",
      "  0.5056132  0.91807448 0.39461579 0.14713518 0.55285739 0.24731305\n",
      "  0.1506013  0.61769989 0.4829296  0.21024189 0.09315898 1.06069165\n",
      "  0.73267224 0.45659632 0.47603002 0.33388385 0.52651455 0.36360776\n",
      "  0.60779765 0.75514972 0.36898412 0.94396378 0.48231073 0.78336735\n",
      "  0.70446722 0.45473306 0.1295814  0.53326142 0.63069345 0.60253633\n",
      "  0.28034358 0.47970889 0.18728099 0.89989606]\n",
      " [0.77749919 0.55564865 0.12073106 0.50820218 0.74756895 0.07076471\n",
      "  0.33029741 0.66051087 0.25665976 0.81943283 0.         0.13426473\n",
      "  0.04538189 0.38077065 0.62011011 0.53442549 0.50878305 0.57933517\n",
      "  0.91293458 0.60245251 0.27506087 0.68112929 0.50448387 0.62068857\n",
      "  0.60542276 0.71090055 0.81618745 0.73414201 0.25486579 0.74699987\n",
      "  0.74195014 0.75935752 0.6408514  0.6378524  0.74896249 0.42121412\n",
      "  0.40322985 0.69614027 0.44956725 0.33219327 0.19840656 0.90325209\n",
      "  0.58932401 0.26969283 0.28068894 0.54794527 0.68183869 0.49416478\n",
      "  0.18171641 0.36101069 0.48733837 0.506297   0.50495154 0.14754967\n",
      "  0.38443401 0.27021873 0.69021666 0.71751471 0.45677362 0.25883602\n",
      "  0.46919139 0.27358627 0.09682094 0.62861037 0.13036298 0.79965155\n",
      "  0.68123973 0.10494873 0.68355082 0.67435155 0.32617436 0.76173291\n",
      "  0.71160793 0.84634369 0.48760587 0.64506623 0.84845127 0.37186606\n",
      "  0.41600028 0.36300977 0.72597505 0.76086182 0.36432385 0.84570327\n",
      "  0.77906033 0.27528089 0.73810307 0.13463261 0.75228531 0.46350645\n",
      "  0.1320335  0.81809425 0.6974354  0.50034823 0.5451411  0.39994076\n",
      "  0.98030168 0.74629294 0.71297152 0.56284185]\n",
      " [0.64399021 0.42955944 0.13370214 0.49291066 0.62070906 0.19354536\n",
      "  0.30854548 0.5265953  0.30580747 0.68579697 0.13426473 0.\n",
      "  0.09270383 0.33733154 0.51996133 0.52727331 0.38150922 0.46442408\n",
      "  0.77901016 0.51907225 0.26283212 0.57980165 0.47974036 0.48738998\n",
      "  0.47344266 0.6285195  0.6894609  0.60422328 0.20329322 0.61569691\n",
      "  0.62496944 0.64498181 0.51774952 0.51803318 0.6148021  0.37337954\n",
      "  0.34015352 0.57528882 0.44797407 0.38818215 0.15298446 0.7730244\n",
      "  0.52217598 0.36384065 0.39537423 0.47829385 0.58541223 0.36390011\n",
      "  0.10656934 0.28896918 0.3540318  0.43745918 0.48994472 0.04359604\n",
      "  0.33806049 0.32100318 0.57242017 0.61007852 0.41900805 0.19175092\n",
      "  0.441315   0.13978198 0.03875065 0.55075438 0.19501443 0.72329848\n",
      "  0.57319054 0.23688948 0.57673357 0.54132148 0.20908794 0.63128023\n",
      "  0.57754379 0.76415652 0.38939824 0.51125524 0.71719607 0.46403689\n",
      "  0.36338066 0.23006702 0.62959312 0.64685076 0.2623313  0.72108305\n",
      "  0.69971373 0.242705   0.61534294 0.26025237 0.64001457 0.44569169\n",
      "  0.07382051 0.71595915 0.56324935 0.41450216 0.46051695 0.32890901\n",
      "  0.84823278 0.63388435 0.57976774 0.54090665]\n",
      " [0.73352608 0.52011877 0.09324277 0.51437373 0.71174019 0.10136403\n",
      "  0.30278216 0.61695301 0.25164803 0.7755492  0.04538189 0.09270383\n",
      "  0.         0.34825381 0.5965209  0.54348686 0.46349084 0.54935581\n",
      "  0.87140454 0.58534401 0.27875538 0.63804944 0.50746415 0.58006324\n",
      "  0.56606577 0.67129404 0.77082822 0.69636558 0.24462805 0.70821145\n",
      "  0.6969612  0.71462276 0.595488   0.60567417 0.70578291 0.38803741\n",
      "  0.36635809 0.66352148 0.42962029 0.33137912 0.16117732 0.86529277\n",
      "  0.57814163 0.2853017  0.30759325 0.53563241 0.65992563 0.44920302\n",
      "  0.16006158 0.32189326 0.44671585 0.46886572 0.51119177 0.11423675\n",
      "  0.35123581 0.26618931 0.65908705 0.69110977 0.4264702  0.24351166\n",
      "  0.44166278 0.23242272 0.05406003 0.61368131 0.1547067  0.76148172\n",
      "  0.65450119 0.14430939 0.63967473 0.6301156  0.29419973 0.72358583\n",
      "  0.66982524 0.80700868 0.44463246 0.60376044 0.80356755 0.38742872\n",
      "  0.40860546 0.318961   0.68376253 0.71616584 0.32041087 0.81120763\n",
      "  0.74021239 0.27210295 0.70454326 0.17952776 0.72380397 0.43878819\n",
      "  0.08833924 0.77503244 0.65433826 0.45948303 0.52729923 0.36136837\n",
      "  0.9408957  0.71774089 0.67244859 0.56718726]\n",
      " [0.64478773 0.60947808 0.26012289 0.82866984 0.76883234 0.37274564\n",
      "  0.069312   0.55789931 0.23312165 0.68473505 0.38077065 0.33733154\n",
      "  0.34825381 0.         0.77505269 0.86407    0.36193635 0.68625199\n",
      "  0.82736617 0.80432198 0.60014214 0.36790215 0.81330959 0.58986709\n",
      "  0.59845774 0.3519969  0.60058741 0.73083599 0.53670911 0.72708533\n",
      "  0.47931238 0.48307362 0.42781662 0.71487708 0.64318518 0.04095314\n",
      "  0.05948284 0.76096288 0.15611682 0.26663968 0.18964113 0.8797396\n",
      "  0.82744948 0.3566715  0.43591388 0.78315734 0.84327294 0.3787505\n",
      "  0.4408849  0.08756827 0.48766032 0.14262777 0.82578193 0.37915342\n",
      "  0.0086294  0.23768916 0.77122777 0.83956143 0.08179555 0.5200517\n",
      "  0.10888815 0.36126533 0.33667734 0.84188384 0.50277604 0.42965676\n",
      "  0.80406713 0.41656585 0.38787862 0.54752627 0.47522632 0.7496749\n",
      "  0.64358243 0.48209724 0.20812339 0.5972756  0.6708874  0.40449604\n",
      "  0.68787787 0.34281828 0.39449385 0.48288168 0.18164308 0.8734551\n",
      "  0.4130798  0.57887748 0.7876481  0.49997732 0.85239104 0.1250536\n",
      "  0.27298361 0.49466744 0.60127203 0.17687035 0.74807648 0.08221877\n",
      "  0.92806554 0.84630976 0.66892464 0.87455186]\n",
      " [0.53251725 0.21265959 0.65285238 0.38595773 0.26957095 0.69077777\n",
      "  0.78035237 0.45148388 0.82299367 0.55403803 0.62011011 0.51996133\n",
      "  0.5965209  0.77505269 0.         0.42389306 0.51718688 0.11143507\n",
      "  0.5251307  0.09716968 0.4176206  0.78994257 0.34974578 0.33529018\n",
      "  0.29785695 0.90330957 0.68682963 0.30514304 0.37982002 0.33698037\n",
      "  0.7309664  0.76297683 0.61591608 0.14876221 0.47817827 0.7952276\n",
      "  0.74326763 0.17870887 0.92188494 0.90510643 0.64380727 0.42487557\n",
      "  0.17839301 0.8810839  0.90079398 0.16921062 0.06827719 0.47977793\n",
      "  0.43853131 0.69238782 0.32759162 0.79934006 0.38641636 0.48464485\n",
      "  0.77107387 0.83815625 0.14935792 0.10766303 0.84789083 0.36621946\n",
      "  0.88184061 0.42222452 0.55256212 0.13032398 0.56091615 1.00098342\n",
      "  0.07985093 0.71888008 0.76045629 0.49174997 0.3152902  0.32961162\n",
      "  0.4057993  1.01383765 0.68058282 0.36278569 0.63921687 0.98256027\n",
      "  0.2735133  0.43770733 0.84880312 0.76673174 0.6057167  0.31408934\n",
      "  0.97109697 0.38646435 0.21986212 0.6848546  0.15694889 0.89995607\n",
      "  0.58731734 0.88723422 0.44802231 0.73698309 0.10871804 0.71955044\n",
      "  0.51968906 0.15256733 0.36677377 0.37274758]\n",
      " [0.90624858 0.56295228 0.63469376 0.04377953 0.68833847 0.59102765\n",
      "  0.83433173 0.80050483 0.79095001 0.93677156 0.53442549 0.52727331\n",
      "  0.54348686 0.86407    0.42389306 0.         0.77364628 0.49161281\n",
      "  0.93921546 0.33223841 0.26651586 1.03850278 0.07793732 0.6955811\n",
      "  0.65935911 1.11943127 1.03144803 0.71518654 0.32908267 0.7447909\n",
      "  1.02992077 1.05843518 0.90758727 0.55572946 0.85548707 0.89889394\n",
      "  0.86109079 0.59880336 0.96980123 0.86606927 0.67934565 0.84835443\n",
      "  0.25425465 0.78742375 0.76671907 0.25469549 0.43563958 0.73860608\n",
      "  0.42338938 0.80749779 0.61523277 0.95116429 0.04521851 0.48494744\n",
      "  0.86435336 0.80462815 0.57158801 0.51935249 0.94585579 0.34985508\n",
      "  0.968572   0.53975423 0.53430651 0.3173949  0.41006194 1.21892451\n",
      "  0.50125166 0.58863256 1.02156825 0.83581821 0.44867522 0.74256486\n",
      "  0.78710392 1.24994972 0.87184578 0.72756478 1.00962105 0.88391243\n",
      "  0.21285232 0.62535589 1.09581687 1.06152341 0.75461225 0.73741225\n",
      "  1.19207672 0.28527394 0.64242471 0.50718719 0.57271075 0.97200759\n",
      "  0.59636986 1.16290173 0.81336674 0.91280952 0.32034928 0.84594836\n",
      "  0.94311605 0.56964473 0.75758581 0.06357682]\n",
      " [0.29213932 0.31050581 0.43547956 0.73063259 0.42688675 0.55091243\n",
      "  0.40656107 0.19608137 0.53715127 0.33404926 0.50878305 0.38150922\n",
      "  0.46349084 0.36193635 0.51718688 0.77364628 0.         0.4085741\n",
      "  0.46693197 0.58120507 0.56354407 0.27643556 0.70234327 0.24257485\n",
      "  0.26189839 0.38617811 0.30798367 0.38189785 0.47828284 0.37296641\n",
      "  0.2600321  0.28651218 0.14120429 0.41003411 0.28308907 0.35999631\n",
      "  0.30743732 0.4418927  0.51549065 0.60026347 0.36275048 0.52041317\n",
      "  0.63444227 0.64910747 0.71143139 0.59577761 0.57952122 0.03791583\n",
      "  0.42062236 0.27880577 0.1897197  0.31696538 0.72874443 0.3932501\n",
      "  0.35434714 0.54853157 0.46066405 0.54722552 0.40615324 0.44976577\n",
      "  0.44431197 0.26662527 0.41414248 0.6226069  0.56852496 0.4839024\n",
      "  0.51700298 0.60028589 0.25226553 0.18950415 0.3268301  0.39676603\n",
      "  0.28251089 0.49946107 0.18541394 0.2426455  0.34415082 0.72667837\n",
      "  0.56199641 0.16253097 0.3356765  0.28936022 0.1931505  0.52778128\n",
      "  0.45409631 0.5249     0.4573621  0.64061928 0.54425743 0.47341054\n",
      "  0.38375095 0.39076314 0.23948722 0.24481221 0.53739843 0.28169828\n",
      "  0.56613035 0.53876044 0.31119775 0.75713952]\n",
      " [0.43018198 0.10125805 0.5928176  0.45000418 0.20469603 0.64845827\n",
      "  0.69824467 0.34255503 0.75786972 0.45515877 0.57933517 0.46442408\n",
      "  0.54935581 0.68625199 0.11143507 0.49161281 0.4085741  0.\n",
      "  0.44819467 0.195291   0.42223982 0.67959598 0.41404431 0.2267706\n",
      "  0.1888735  0.79465165 0.57902919 0.22422993 0.36458617 0.25326312\n",
      "  0.61964357 0.65162116 0.50451078 0.06965009 0.3765264  0.70320955\n",
      "  0.65006462 0.12579093 0.83715019 0.83876909 0.57160554 0.37189487\n",
      "  0.2694163  0.82812124 0.85694718 0.24603159 0.17095477 0.37159129\n",
      "  0.40021982 0.60120232 0.22007157 0.69933541 0.44973645 0.43512228\n",
      "  0.68158658 0.77280875 0.11235538 0.15370753 0.75566562 0.34385735\n",
      "  0.79086567 0.34811157 0.50042625 0.23431444 0.54277547 0.89170765\n",
      "  0.11782385 0.68252526 0.64959144 0.38249751 0.25559982 0.252351\n",
      "  0.30482906 0.90340942 0.57707452 0.25575302 0.53670386 0.92755\n",
      "  0.30610551 0.3440264  0.73831226 0.65536815 0.5112325  0.28139208\n",
      "  0.86173117 0.38462943 0.17215813 0.66294915 0.17597924 0.811223\n",
      "  0.52522549 0.77581242 0.3423519  0.63459977 0.17618083 0.62547133\n",
      "  0.46433316 0.16980459 0.26990856 0.44885448]\n",
      " [0.19237825 0.39613679 0.87236167 0.89799966 0.2559991  0.97049322\n",
      "  0.87346177 0.27188314 0.99753328 0.16286136 0.91293458 0.77901016\n",
      "  0.87140454 0.82736617 0.5251307  0.93921546 0.46693197 0.44819467\n",
      "  0.         0.62229729 0.84323508 0.59796192 0.8619219  0.29383398\n",
      "  0.3159065  0.72870276 0.33533381 0.22406612 0.76909946 0.19537775\n",
      "  0.46559441 0.49183755 0.4262705  0.38371046 0.18418467 0.82133193\n",
      "  0.77092428 0.34667671 0.97815866 1.06477365 0.81274168 0.14661417\n",
      "  0.70336818 1.10229127 1.15613864 0.68863679 0.54253926 0.45747472\n",
      "  0.76451961 0.74563241 0.42627403 0.75816791 0.89779533 0.7700181\n",
      "  0.8195013  1.00987758 0.37716873 0.45902862 0.8632558  0.74208535\n",
      "  0.9010713  0.63935687 0.81738319 0.65270703 0.92481009 0.79781371\n",
      "  0.4595519  1.01570638 0.55728341 0.28009333 0.61408161 0.19682885\n",
      "  0.20176694 0.77815986 0.63245115 0.26792881 0.23757439 1.1866606\n",
      "  0.75070944 0.55930126 0.63880993 0.49551177 0.65887199 0.2583378\n",
      "  0.77023238 0.8020671  0.3097035  1.02857281 0.4134051  0.93250375\n",
      "  0.80975602 0.61391295 0.22884284 0.68584606 0.62006622 0.74586171\n",
      "  0.11807491 0.41279193 0.20361644 0.89376188]\n",
      " [0.62448794 0.29200398 0.65255831 0.29665143 0.36665651 0.67289311\n",
      "  0.80139056 0.53734335 0.82485036 0.64775694 0.60245251 0.51907225\n",
      "  0.58534401 0.80432198 0.09716968 0.33223841 0.58120507 0.195291\n",
      "  0.62229729 0.         0.36897844 0.85719726 0.26108199 0.42190475\n",
      "  0.38393191 0.9645681  0.77410015 0.40196126 0.3500759  0.43363804\n",
      "  0.80889775 0.84046263 0.69072333 0.24395766 0.57046903 0.82845288\n",
      "  0.77869235 0.2757932  0.94450341 0.90720096 0.65613335 0.51985492\n",
      "  0.08156945 0.87009141 0.88101043 0.08206735 0.10683696 0.5433011\n",
      "  0.42535476 0.72582663 0.39302195 0.84410326 0.29748146 0.47948352\n",
      "  0.80126825 0.84003954 0.24607143 0.18730109 0.88084881 0.34362648\n",
      "  0.91279923 0.44361999 0.54734443 0.04141448 0.5252641  1.06367075\n",
      "  0.16992461 0.69508175 0.8302045  0.57701787 0.33019027 0.42670256\n",
      "  0.4983118  1.08063455 0.73236934 0.45104351 0.73116824 0.97242334\n",
      "  0.21248698 0.47991542 0.91641259 0.84410826 0.64489347 0.40599604\n",
      "  1.03417098 0.34492556 0.31614243 0.64927741 0.24056403 0.92780963\n",
      "  0.59067504 0.96155215 0.53755811 0.78624699 0.0585574  0.75646446\n",
      "  0.61460551 0.23741962 0.46085585 0.27826622]\n",
      " [0.75975804 0.44759937 0.36874634 0.2357091  0.62297528 0.33823661\n",
      "  0.56816652 0.64279739 0.52907762 0.79695676 0.27506087 0.26283212\n",
      "  0.27875538 0.60014214 0.4176206  0.26651586 0.56354407 0.42223982\n",
      "  0.84323508 0.36897844 0.         0.80835356 0.22956179 0.56004473\n",
      "  0.53077579 0.8754176  0.85310725 0.62968377 0.0854149  0.65252971\n",
      "  0.82333252 0.84867659 0.70417388 0.4912667  0.7164585  0.63610206\n",
      "  0.60112288 0.54794588 0.70330188 0.60668648 0.41362025 0.7904298\n",
      "  0.33455112 0.53970163 0.53330354 0.29872058 0.46631929 0.53341003\n",
      "  0.16359453 0.5485553  0.44567133 0.69524508 0.23254779 0.22189056\n",
      "  0.6008874  0.54322931 0.53104229 0.52478624 0.68177317 0.1144312\n",
      "  0.7033098  0.30342944 0.26785989 0.38505907 0.16534006 0.97317629\n",
      "  0.49287812 0.34677643 0.79726341 0.67092387 0.24740327 0.65916524\n",
      "  0.6585034  1.00918876 0.62897397 0.59110572 0.8533228  0.64016551\n",
      "  0.15887717 0.40286137 0.86301239 0.85128272 0.50568005 0.70331403\n",
      "  0.94779859 0.04181502 0.59439236 0.28519093 0.57052431 0.7058999\n",
      "  0.33027079 0.93966436 0.6674229  0.66375094 0.3190277  0.58791202\n",
      "  0.87997566 0.56533901 0.64213087 0.28863432]\n",
      " [0.40797674 0.57912782 0.57488119 0.99638177 0.65681082 0.69956087\n",
      "  0.43641407 0.38665981 0.59970257 0.43529926 0.68112929 0.57980165\n",
      "  0.63804944 0.36790215 0.78994257 1.03850278 0.27643556 0.67959598\n",
      "  0.59796192 0.85719726 0.80835356 0.         0.97016113 0.48288766\n",
      "  0.51250737 0.13193632 0.28612491 0.60423161 0.72580321 0.58481943\n",
      "  0.14255756 0.13043637 0.18982756 0.67149527 0.43603067 0.33732694\n",
      "  0.31393691 0.69344577 0.47159247 0.63238938 0.49008236 0.70100703\n",
      "  0.91077291 0.7234756  0.80103144 0.87176956 0.84997175 0.3143182\n",
      "  0.65069812 0.33360769 0.46446484 0.23409564 0.99425709 0.60652604\n",
      "  0.35963249 0.60519068 0.71678066 0.80925959 0.35265676 0.69931428\n",
      "  0.38239695 0.50550167 0.60134459 0.89861151 0.77455561 0.21689211\n",
      "  0.78201126 0.74865593 0.04068348 0.35297465 0.59016563 0.60939012\n",
      "  0.47682188 0.22390848 0.19352978 0.46932438 0.38058266 0.77080228\n",
      "  0.82991377 0.41318916 0.05924548 0.12866605 0.31873599 0.74540866\n",
      "  0.18679019 0.77343253 0.69878774 0.81466468 0.79841531 0.41690283\n",
      "  0.54971157 0.1369837  0.41921433 0.19398339 0.81383394 0.30267637\n",
      "  0.71455035 0.79346559 0.51902601 1.02686968]\n",
      " [0.82860204 0.48511661 0.5956868  0.03634103 0.61192437 0.56622628\n",
      "  0.78828579 0.72350219 0.75844532 0.85894323 0.50448387 0.47974036\n",
      "  0.50746415 0.81330959 0.34974578 0.07793732 0.70234327 0.41404431\n",
      "  0.8619219  0.26108199 0.22956179 0.97016113 0.         0.61792717\n",
      "  0.58159886 1.05509532 0.95528912 0.63785926 0.27695453 0.66728949\n",
      "  0.95695077 0.9858789  0.83455626 0.47869534 0.77770451 0.84657972\n",
      "  0.8062665  0.5228437  0.92679121 0.83624826 0.63272474 0.77312679\n",
      "  0.18725447 0.76659721 0.75387724 0.18099032 0.36663691 0.66671536\n",
      "  0.37359059 0.75216284 0.53991742 0.89307892 0.03667063 0.43642874\n",
      "  0.81298686 0.77266915 0.49619431 0.44823491 0.89499518 0.29368721\n",
      "  0.91963385 0.47712383 0.49147434 0.25125477 0.38803108 1.15498477\n",
      "  0.42815917 0.57030627 0.95189211 0.75914346 0.38016686 0.66539856\n",
      "  0.70920854 1.18411174 0.80808789 0.64987861 0.93219736 0.86580935\n",
      "  0.14044664 0.55781511 1.02798776 0.98903654 0.69401808 0.6638108\n",
      "  1.12763637 0.23812909 0.56696495 0.49692144 0.50132371 0.9252998\n",
      "  0.5513951  1.0925745  0.73582565 0.8513215  0.24432645 0.78974672\n",
      "  0.86778771 0.49795061 0.67965703 0.06125692]\n",
      " [0.2106749  0.13422448 0.58847375 0.65221035 0.18431388 0.68017526\n",
      "  0.62305417 0.11620008 0.7271935  0.24238268 0.62068857 0.48738998\n",
      "  0.58006324 0.58986709 0.33529018 0.6955811  0.24257485 0.2267706\n",
      "  0.29383398 0.42190475 0.56004473 0.48288766 0.61792717 0.\n",
      "  0.03802283 0.60815258 0.3522586  0.14120702 0.48176231 0.13877748\n",
      "  0.40225373 0.43460921 0.29616608 0.19618018 0.1606707  0.59437612\n",
      "  0.54032154 0.21073462 0.74589925 0.80031663 0.53713049 0.29665862\n",
      "  0.49364619 0.82363297 0.87193673 0.46559238 0.38449296 0.21517899\n",
      "  0.47106518 0.50280535 0.13337318 0.55938324 0.65132077 0.47660171\n",
      "  0.58312918 0.74062511 0.23540118 0.33075912 0.64318582 0.45375922\n",
      "  0.68108013 0.3476455  0.52601191 0.4610791  0.63164386 0.69963406\n",
      "  0.30768358 0.72426739 0.44811875 0.15655248 0.32247272 0.16026321\n",
      "  0.09850844 0.70272541 0.42796505 0.03214393 0.31504248 0.9134246\n",
      "  0.49031794 0.27758914 0.53916135 0.43849781 0.409313   0.2860192\n",
      "  0.66947323 0.51830477 0.21797249 0.73478225 0.3157925  0.70814442\n",
      "  0.52344659 0.5628199  0.11836444 0.48738699 0.39674872 0.5141927\n",
      "  0.36285156 0.3109797  0.0924027  0.66083784]\n",
      " [0.24733984 0.09689247 0.58029152 0.61610224 0.17038772 0.66692151\n",
      "  0.62784797 0.15376829 0.72468944 0.27759117 0.60542276 0.47344266\n",
      "  0.56606577 0.59845774 0.29785695 0.65935911 0.26189839 0.1888735\n",
      "  0.3159065  0.38393191 0.53077579 0.51250737 0.58159886 0.03802283\n",
      "  0.         0.63578427 0.39018602 0.13642355 0.45430292 0.14279144\n",
      "  0.43703655 0.46933825 0.32802407 0.16135075 0.19614291 0.60546106\n",
      "  0.55113945 0.18200637 0.75453488 0.79961345 0.5335945  0.30155713\n",
      "  0.45565029 0.81721829 0.86253433 0.42781066 0.34832526 0.2310635\n",
      "  0.44963869 0.51095955 0.1226903  0.57659818 0.61527329 0.45959209\n",
      "  0.59207048 0.73847185 0.20427987 0.29775892 0.65533557 0.42685008\n",
      "  0.69292846 0.33452063 0.51219112 0.42318676 0.60940991 0.72875392\n",
      "  0.27306234 0.70974897 0.47879773 0.19391625 0.2982268  0.16053938\n",
      "  0.12983006 0.73381075 0.44607094 0.06875892 0.35235831 0.90906467\n",
      "  0.45549079 0.27431361 0.56954923 0.47319356 0.41692306 0.27510215\n",
      "  0.6985709  0.4891974  0.19556841 0.71573397 0.2864331  0.71883925\n",
      "  0.51407058 0.5966665  0.15584888 0.50562295 0.35886176 0.52507412\n",
      "  0.37490036 0.28132105 0.11240424 0.62380453]\n",
      " [0.53953106 0.69577757 0.59526177 1.07868162 0.78528562 0.71643075\n",
      "  0.42015017 0.51645284 0.58141738 0.56586594 0.71090055 0.6285195\n",
      "  0.67129404 0.3519969  0.90330957 1.11943127 0.38617811 0.79465165\n",
      "  0.72870276 0.9645681  0.8754176  0.13193632 1.05509532 0.60815258\n",
      "  0.63578427 0.         0.40905121 0.73340886 0.79675913 0.71496877\n",
      "  0.26656794 0.2463443  0.31990988 0.79215165 0.56793954 0.31344641\n",
      "  0.31180881 0.81765515 0.41389078 0.5972274  0.51278131 0.83293474\n",
      "  1.01266618 0.7028774  0.78406297 0.97190673 0.96560518 0.42353575\n",
      "  0.71296472 0.34989789 0.57573097 0.21027826 1.07631454 0.66145514\n",
      "  0.34517941 0.58366989 0.83965355 0.93004694 0.30838558 0.77240185\n",
      "  0.32779579 0.57977019 0.64314047 1.00582978 0.81839184 0.10022672\n",
      "  0.90125058 0.76298951 0.17220259 0.48386269 0.67666059 0.73960769\n",
      "  0.60752547 0.13590286 0.24767554 0.596687   0.50654177 0.73357867\n",
      "  0.91644453 0.49969492 0.0944741  0.2434221  0.37000784 0.87572232\n",
      "  0.07265618 0.84395565 0.82547915 0.83959522 0.92221285 0.35972609\n",
      "  0.58478691 0.17518352 0.55020169 0.21402702 0.91787684 0.3113721\n",
      "  0.84568226 0.91706951 0.64907205 1.11376821]\n",
      " [0.17278413 0.48377177 0.73630973 0.9876696  0.47503994 0.85551272\n",
      "  0.66157648 0.23698777 0.81352883 0.17942926 0.81618745 0.6894609\n",
      "  0.77082822 0.60058741 0.68682963 1.03144803 0.30798367 0.57902919\n",
      "  0.33533381 0.77410015 0.85310725 0.28612491 0.95528912 0.3522586\n",
      "  0.39018602 0.40905121 0.         0.42049073 0.76813102 0.39184456\n",
      "  0.1437325  0.16323664 0.18032171 0.54287901 0.22288511 0.58115523\n",
      "  0.54116463 0.5411196  0.73195686 0.86392622 0.65800156 0.46251018\n",
      "  0.84464465 0.93306843 1.00213845 0.81451136 0.73216699 0.3281085\n",
      "  0.72225585 0.5365763  0.41728253 0.49306419 0.98635893 0.69982321\n",
      "  0.59197928 0.82258444 0.57085758 0.66831476 0.61081376 0.73888336\n",
      "  0.64548848 0.56941951 0.7220288  0.81333539 0.87460349 0.46749895\n",
      "  0.65127085 0.90530472 0.24733592 0.19818608 0.60658196 0.41312121\n",
      "  0.29055619 0.44385435 0.39273334 0.32404423 0.099833   0.99884308\n",
      "  0.81989024 0.46562011 0.31526841 0.16645563 0.475042   0.5384413\n",
      "  0.44132795 0.81241025 0.52847287 0.94851    0.64073406 0.67969671\n",
      "  0.68915687 0.27889487 0.24018028 0.42992693 0.74676718 0.52080752\n",
      "  0.45312585 0.63730128 0.33560035 1.00301288]\n",
      " [0.25010961 0.18491338 0.71505184 0.67393354 0.05496085 0.79764243\n",
      "  0.76269469 0.21772859 0.86106669 0.26106392 0.73414201 0.60422328\n",
      "  0.69636558 0.73083599 0.30514304 0.71518654 0.38189785 0.22422993\n",
      "  0.22406612 0.40196126 0.62968377 0.60423161 0.63785926 0.14120702\n",
      "  0.13642355 0.73340886 0.42049073 0.         0.56057367 0.03240766\n",
      "  0.50454419 0.53638764 0.41441209 0.16012334 0.19769181 0.73558219\n",
      "  0.68152631 0.13117248 0.88691405 0.93602092 0.6699013  0.16913951\n",
      "  0.4821898  0.95257307 0.99618571 0.46544527 0.33190232 0.35603472\n",
      "  0.57026204 0.64364248 0.25859033 0.69879655 0.67373142 0.58698413\n",
      "  0.72416137 0.87487322 0.16281808 0.25601948 0.78431745 0.53526612\n",
      "  0.82223729 0.46692936 0.64290494 0.43477298 0.72686195 0.82048231\n",
      "  0.24749096 0.83897497 0.56681255 0.25383779 0.41618043 0.02948268\n",
      "  0.13305755 0.81732671 0.56712784 0.14033035 0.35248863 1.04508153\n",
      "  0.52829719 0.41073552 0.6575877  0.54037909 0.54994063 0.14604553\n",
      "  0.79058042 0.58942868 0.10858084 0.8385372  0.22185024 0.84935124\n",
      "  0.64829553 0.66708017 0.19029193 0.62629698 0.3964778  0.65539754\n",
      "  0.25182162 0.218983   0.08759474 0.67031583]\n",
      " [0.67800262 0.37620503 0.32560389 0.29223358 0.55880179 0.32443903\n",
      "  0.51166717 0.56028888 0.49470185 0.71589351 0.25486579 0.20329322\n",
      "  0.24462805 0.53670911 0.37982002 0.32908267 0.47828284 0.36458617\n",
      "  0.76909946 0.3500759  0.0854149  0.72580321 0.27695453 0.48176231\n",
      "  0.45430292 0.79675913 0.76813102 0.56057367 0.         0.58149181\n",
      "  0.73816303 0.76369773 0.61881873 0.43152419 0.63600507 0.57062808\n",
      "  0.53204452 0.48971583 0.65117857 0.57546902 0.3561575  0.72494622\n",
      "  0.3346446  0.52444226 0.5311959  0.29307953 0.4365006  0.44800411\n",
      "  0.09679185 0.4784152  0.36333421 0.62257043 0.28940723 0.15978206\n",
      "  0.53659278 0.50952888 0.47629591 0.48371075 0.61846552 0.02928677\n",
      "  0.64271766 0.22030188 0.21870349 0.37437396 0.18138019 0.89530041\n",
      "  0.44933273 0.3450063  0.71369677 0.58744439 0.16379793 0.58997712\n",
      "  0.58023064 0.92958827 0.54944177 0.51224432 0.77005524 0.62669519\n",
      "  0.16423153 0.31806079 0.78110407 0.76633663 0.42838803 0.64519327\n",
      "  0.86932964 0.04763052 0.53540787 0.3050505  0.52513589 0.64845059\n",
      "  0.27595493 0.85613921 0.58632141 0.58689435 0.2941268  0.51691303\n",
      "  0.81221193 0.51954485 0.56646723 0.33820297]\n",
      " [0.22033745 0.20536964 0.72291276 0.7032666  0.08375047 0.80923733\n",
      "  0.7615823  0.19856186 0.8651055  0.22953932 0.74699987 0.61569691\n",
      "  0.70821145 0.72708533 0.33698037 0.7447909  0.37296641 0.25326312\n",
      "  0.19537775 0.43363804 0.65252971 0.58481943 0.66728949 0.13877748\n",
      "  0.14279144 0.71496877 0.39184456 0.03240766 0.58149181 0.\n",
      "  0.48070154 0.51226647 0.39517428 0.19091125 0.16904569 0.73004237\n",
      "  0.67630954 0.16357947 0.88289881 0.93878632 0.67452695 0.15907132\n",
      "  0.51361768 0.95948569 1.00531845 0.49610079 0.36430997 0.34958932\n",
      "  0.58674336 0.64036951 0.26514639 0.68888946 0.70299801 0.60046847\n",
      "  0.72017477 0.87866721 0.19522525 0.28811713 0.77789426 0.55554906\n",
      "  0.81595656 0.47713149 0.65444499 0.46679199 0.74474929 0.80030625\n",
      "  0.27989841 0.85157283 0.54672471 0.23237526 0.43318308 0.02469729\n",
      "  0.10899158 0.79530489 0.55722107 0.13054701 0.3214494  1.05055418\n",
      "  0.55544916 0.4147909  0.63707091 0.51625896 0.54726449 0.16078679\n",
      "  0.77055102 0.61188009 0.13946347 0.85444181 0.25282328 0.84387264\n",
      "  0.65682415 0.642958   0.16708221 0.61595836 0.42688251 0.65020765\n",
      "  0.23408998 0.25017255 0.06591873 0.70070555]\n",
      " [0.28175626 0.5188153  0.64852019 0.9865427  0.5591268  0.77196667\n",
      "  0.54433382 0.29134049 0.70295304 0.30315698 0.74195014 0.62496944\n",
      "  0.6969612  0.47931238 0.7309664  1.02992077 0.2600321  0.61964357\n",
      "  0.46559441 0.80889775 0.82333252 0.14255756 0.95695077 0.40225373\n",
      "  0.43703655 0.26656794 0.1437325  0.50454419 0.73816303 0.48070154\n",
      "  0.         0.03236927 0.12239483 0.59817617 0.31885872 0.45506328\n",
      "  0.42100633 0.60969198 0.60029175 0.74577648 0.56578341 0.57949922\n",
      "  0.8714661  0.82538495 0.89885199 0.83628719 0.78491647 0.29250202\n",
      "  0.67690951 0.42616222 0.42257279 0.35987314 0.98480386 0.64341097\n",
      "  0.47070715 0.71048658 0.63641132 0.73272815 0.4792753  0.70973286\n",
      "  0.51218119 0.52365158 0.65298898 0.84982234 0.81795424 0.33248313\n",
      "  0.70983291 0.82199938 0.10469397 0.25217615 0.58589685 0.50443493\n",
      "  0.37198026 0.31772659 0.27739768 0.38148133 0.24000216 0.88304446\n",
      "  0.81729641 0.42094794 0.17403373 0.0362898  0.38202862 0.63802873\n",
      "  0.30465979 0.78488624 0.60699458 0.87648305 0.71396659 0.54671595\n",
      "  0.61063816 0.16258933 0.31427069 0.30333605 0.77266801 0.40378721\n",
      "  0.58341557 0.70964556 0.41700307 1.00977232]\n",
      " [0.31070712 0.55071284 0.66293242 1.01515007 0.59103364 0.78700839\n",
      "  0.54946782 0.32363651 0.70998015 0.3301379  0.75935752 0.64498181\n",
      "  0.71462276 0.48307362 0.76297683 1.05843518 0.28651218 0.65162116\n",
      "  0.49183755 0.84046263 0.84867659 0.13043637 0.9858789  0.43460921\n",
      "  0.46933825 0.2463443  0.16323664 0.53638764 0.76369773 0.51226647\n",
      "  0.03236927 0.         0.15195488 0.63050577 0.34938558 0.45661016\n",
      "  0.42575141 0.64203061 0.59788845 0.74967339 0.57940423 0.60857007\n",
      "  0.90253004 0.83305749 0.90782227 0.86705448 0.81713947 0.32012313\n",
      "  0.70026311 0.43490545 0.45310065 0.35793139 1.01336862 0.66493099\n",
      "  0.47453143 0.71691749 0.66877591 0.76509702 0.47752412 0.73546648\n",
      "  0.50909759 0.54765466 0.67191197 0.88143885 0.83882206 0.30618089\n",
      "  0.74217036 0.83694577 0.09777147 0.284373   0.61317176 0.53589796\n",
      "  0.40367858 0.28835042 0.28625509 0.41383504 0.26207317 0.88753919\n",
      "  0.84599894 0.44585905 0.15219148 0.0039929  0.39699372 0.66910469\n",
      "  0.27915778 0.81064184 0.63913854 0.89398842 0.74627225 0.54368962\n",
      "  0.62759727 0.13071433 0.34609572 0.30622729 0.80377441 0.41009211\n",
      "  0.60985804 0.74196304 0.4488152  1.03913298]\n",
      " [0.23405386 0.40325909 0.556986   0.8641876  0.46712886 0.67735721\n",
      "  0.48576605 0.19684897 0.63455383 0.26875089 0.6408514  0.51774952\n",
      "  0.595488   0.42781662 0.61591608 0.90758727 0.14120429 0.50451078\n",
      "  0.4262705  0.69072333 0.70417388 0.18982756 0.83455626 0.29616608\n",
      "  0.32802407 0.31990988 0.18032171 0.41441209 0.61881873 0.39517428\n",
      "  0.12239483 0.15195488 0.         0.48896331 0.25250057 0.41270825\n",
      "  0.36845502 0.50679516 0.56768642 0.68751127 0.47792834 0.51665009\n",
      "  0.75138242 0.75331088 0.82188364 0.71547502 0.6724523  0.17128453\n",
      "  0.56161831 0.35884437 0.30139909 0.33613575 0.86245888 0.53232848\n",
      "  0.41931659 0.64400129 0.53141848 0.62578043 0.44817762 0.59012905\n",
      "  0.484823   0.40766027 0.54842434 0.73187875 0.70764508 0.40624068\n",
      "  0.60047165 0.72730491 0.15283608 0.16416629 0.46448235 0.41978544\n",
      "  0.2876362  0.40663757 0.22044021 0.28051929 0.24312768 0.82106644\n",
      "  0.69492752 0.30370862 0.24395649 0.15531883 0.29472128 0.55587562\n",
      "  0.37626728 0.66516085 0.51000902 0.77436458 0.61184947 0.51797543\n",
      "  0.51195801 0.27136056 0.23051606 0.26633339 0.652742   0.34639268\n",
      "  0.53920168 0.6070973  0.32932133 0.88743777]\n",
      " [0.38473385 0.10566943 0.642818   0.51489052 0.13552544 0.70593994\n",
      "  0.73280282 0.31101214 0.8038274  0.40536836 0.6378524  0.51803318\n",
      "  0.60567417 0.71487708 0.14876221 0.55572946 0.41003411 0.06965009\n",
      "  0.38371046 0.24395766 0.4912667  0.67149527 0.47869534 0.19618018\n",
      "  0.16135075 0.79215165 0.54287901 0.16012334 0.43152419 0.19091125\n",
      "  0.59817617 0.63050577 0.48896331 0.         0.33027417 0.72838596\n",
      "  0.67439108 0.05877972 0.86852899 0.88355376 0.61466827 0.30234842\n",
      "  0.3231033  0.88011835 0.91281387 0.30532672 0.18940454 0.37512016\n",
      "  0.46130742 0.62820327 0.2313138  0.71458258 0.51479523 0.49172898\n",
      "  0.7095698  0.81854555 0.05687675 0.1379209  0.7802292  0.40970122\n",
      "  0.81652809 0.39362425 0.55513514 0.27903498 0.60797319 0.88680574\n",
      "  0.11171415 0.74195607 0.63878475 0.35155936 0.31179734 0.18690848\n",
      "  0.25790797 0.89385087 0.58780047 0.22030096 0.49130213 0.97813864\n",
      "  0.37504585 0.37285068 0.72915391 0.63437506 0.53568532 0.21368682\n",
      "  0.85664387 0.45321909 0.10388368 0.72671734 0.13799871 0.83902929\n",
      "  0.57482416 0.75801722 0.30283168 0.64669218 0.23640603 0.64903491\n",
      "  0.39509182 0.13204016 0.21808738 0.51021727]\n",
      " [0.05449807 0.2926671  0.69833385 0.81224425 0.25215826 0.80243635\n",
      "  0.68963405 0.09072178 0.81659986 0.0817234  0.74896249 0.6148021\n",
      "  0.70578291 0.64318518 0.47817827 0.85548707 0.28308907 0.3765264\n",
      "  0.18418467 0.57046903 0.7164585  0.43603067 0.77770451 0.1606707\n",
      "  0.19614291 0.56793954 0.22288511 0.19769181 0.63600507 0.16904569\n",
      "  0.31885872 0.34938558 0.25250057 0.33027417 0.         0.63750255\n",
      "  0.58684198 0.3212788  0.79426343 0.88229284 0.63455837 0.26504393\n",
      "  0.64594163 0.92405867 0.98094429 0.62087417 0.51729937 0.27575768\n",
      "  0.61510642 0.56159275 0.27447961 0.57720733 0.81141598 0.61135328\n",
      "  0.63532825 0.82860813 0.35187329 0.44870624 0.68007306 0.60737231\n",
      "  0.71800658 0.47731081 0.65229085 0.60766866 0.77566869 0.64674613\n",
      "  0.43444776 0.84931638 0.39613015 0.09634188 0.47354524 0.19082659\n",
      "  0.07239119 0.63633582 0.44973602 0.12852752 0.16105645 1.00607903\n",
      "  0.65098024 0.38797517 0.48376137 0.35334951 0.47563893 0.32050772\n",
      "  0.61765631 0.67464348 0.30594753 0.87098612 0.41869521 0.74910279\n",
      "  0.63821468 0.47932228 0.05165143 0.50435271 0.5512726  0.5617228\n",
      "  0.28979184 0.41547072 0.1146431  0.81925627]\n",
      " [0.63567677 0.62272615 0.30066819 0.86284719 0.77566218 0.41369086\n",
      "  0.10675146 0.55452337 0.2688155  0.67469037 0.42121412 0.37337954\n",
      "  0.38803741 0.04095314 0.7952276  0.89889394 0.35999631 0.70320955\n",
      "  0.82133193 0.82845288 0.63610206 0.33732694 0.84657972 0.59437612\n",
      "  0.60546106 0.31344641 0.58115523 0.73558219 0.57062808 0.73004237\n",
      "  0.45506328 0.45661016 0.41270825 0.72838596 0.63750255 0.\n",
      "  0.05437767 0.77249655 0.15687199 0.29508142 0.22836925 0.88021251\n",
      "  0.8545763  0.39157302 0.47183788 0.81043634 0.86326143 0.38046154\n",
      "  0.47550662 0.10293475 0.49882035 0.10635652 0.8600036  0.41448283\n",
      "  0.03682152 0.27215506 0.78426229 0.8557973  0.05266493 0.55293947\n",
      "  0.08816298 0.38745884 0.37462868 0.86667167 0.54234345 0.38928814\n",
      "  0.82080808 0.45739314 0.36003962 0.54128352 0.50116943 0.75314821\n",
      "  0.64250084 0.4423072  0.19252929 0.59962418 0.65552728 0.43350496\n",
      "  0.71913296 0.35923323 0.36023923 0.45615424 0.19273146 0.8796103\n",
      "  0.37322886 0.61362501 0.79720793 0.54092076 0.86630097 0.11383307\n",
      "  0.31106732 0.46067821 0.59766108 0.15199107 0.77293468 0.08038851\n",
      "  0.92479195 0.86028161 0.67016533 0.90776102]\n",
      " [0.58697728 0.56872233 0.28501234 0.82396822 0.7213728  0.40477522\n",
      "  0.12372862 0.50273253 0.28590902 0.62661602 0.40322985 0.34015352\n",
      "  0.36635809 0.05948284 0.74326763 0.86109079 0.30743732 0.65006462\n",
      "  0.77092428 0.77869235 0.60112288 0.31393691 0.8062665  0.54032154\n",
      "  0.55113945 0.31180881 0.54116463 0.68152631 0.53204452 0.67630954\n",
      "  0.42100633 0.42575141 0.36845502 0.67439108 0.58684198 0.05437767\n",
      "  0.         0.71823279 0.20806814 0.32481875 0.2052896  0.82715327\n",
      "  0.80709791 0.40964327 0.48716923 0.76314354 0.81117459 0.32682372\n",
      "  0.43860854 0.05439429 0.4445801  0.10325291 0.82120431 0.37936456\n",
      "  0.05091706 0.29189593 0.73017743 0.80236885 0.10586204 0.5127833\n",
      "  0.14240083 0.34034756 0.34622368 0.81733141 0.51849607 0.39685966\n",
      "  0.76753786 0.45118117 0.33162057 0.49085802 0.45334328 0.69931602\n",
      "  0.58986827 0.44558262 0.14864065 0.54598238 0.61156018 0.46209593\n",
      "  0.67623621 0.30635006 0.34475838 0.42570151 0.13898719 0.82539415\n",
      "  0.37737115 0.57633557 0.7428345  0.52904421 0.8123423  0.16784623\n",
      "  0.28392448 0.4440493  0.5459983  0.12051017 0.7237393  0.02612885\n",
      "  0.87310395 0.80633542 0.61682671 0.86726323]\n",
      " [0.37533333 0.15368214 0.69879105 0.55918072 0.09086541 0.76399117\n",
      "  0.78195101 0.31854403 0.85806558 0.39027699 0.69614027 0.57528882\n",
      "  0.66352148 0.76096288 0.17870887 0.59880336 0.4418927  0.12579093\n",
      "  0.34667671 0.2757932  0.54794588 0.69344577 0.5228437  0.21073462\n",
      "  0.18200637 0.81765515 0.5411196  0.13117248 0.48971583 0.16357947\n",
      "  0.60969198 0.64203061 0.50679516 0.05877972 0.3212788  0.77249655\n",
      "  0.71823279 0.         0.91568435 0.93720556 0.66805549 0.25129625\n",
      "  0.35710079 0.93653742 0.97038856 0.34508218 0.20073512 0.4089888\n",
      "  0.52000569 0.67374814 0.27369177 0.75276377 0.55932312 0.54973506\n",
      "  0.75532254 0.87267464 0.03164604 0.12744339 0.82380605 0.46820084\n",
      "  0.86062678 0.4487032  0.61263402 0.30622771 0.66662592 0.91005007\n",
      "  0.11632001 0.80036998 0.65885243 0.3584236  0.36998327 0.15275986\n",
      "  0.25077634 0.91341365 0.62383906 0.22828845 0.48015988 1.0340042\n",
      "  0.42662363 0.42116013 0.74988367 0.64597306 0.58034332 0.15564444\n",
      "  0.87987523 0.51041978 0.04660999 0.78549217 0.10506203 0.88428579\n",
      "  0.63076886 0.77147587 0.30244403 0.68321893 0.27855598 0.69255563\n",
      "  0.34549215 0.10033001 0.20664575 0.55007978]\n",
      " [0.79242934 0.76347405 0.3365949  0.93792156 0.92489671 0.41716502\n",
      "  0.14325854 0.71073808 0.21828504 0.83125944 0.44956725 0.44797407\n",
      "  0.42962029 0.15611682 0.92188494 0.96980123 0.51549065 0.83715019\n",
      "  0.97815866 0.94450341 0.70330188 0.47159247 0.92679121 0.74589925\n",
      "  0.75453488 0.41389078 0.73195686 0.88691405 0.65117857 0.88289881\n",
      "  0.60029175 0.59788845 0.56768642 0.86852899 0.79426343 0.15687199\n",
      "  0.20806814 0.91568435 0.         0.19769704 0.29588921 1.03482731\n",
      "  0.96090432 0.31851406 0.40017576 0.91650291 0.99014923 0.53400261\n",
      "  0.55453822 0.24357628 0.64288455 0.24042496 0.9348516  0.4915624\n",
      "  0.16277285 0.21240913 0.92510416 0.99081101 0.12122806 0.63904289\n",
      "  0.08925406 0.50173308 0.4358849  0.98057346 0.57963988 0.46413018\n",
      "  0.95489286 0.44932986 0.50012128 0.6980863  0.61438053 0.90559496\n",
      "  0.79786138 0.52361189 0.34849821 0.75289425 0.80971354 0.32567285\n",
      "  0.81036452 0.49571124 0.48191663 0.59691557 0.33763681 1.02955739\n",
      "  0.45705268 0.68876221 0.9431461  0.54354951 1.00557367 0.05502741\n",
      "  0.37544645 0.58051057 0.7539693  0.30269858 0.88710153 0.23381775\n",
      "  1.08110256 0.99945502 0.82423087 0.98775593]\n",
      " [0.89173956 0.78420474 0.2546583  0.84039187 0.96498337 0.27713405\n",
      "  0.20239764 0.79296355 0.08238909 0.93317124 0.33219327 0.38818215\n",
      "  0.33137912 0.26663968 0.90510643 0.86606927 0.60026347 0.83876909\n",
      "  1.06477365 0.90720096 0.60668648 0.63238938 0.83624826 0.80031663\n",
      "  0.79961345 0.5972274  0.86392622 0.93602092 0.57546902 0.93878632\n",
      "  0.74577648 0.74967339 0.68751127 0.88355376 0.88229284 0.29508142\n",
      "  0.32481875 0.93720556 0.19769704 0.         0.26918026 1.09691496\n",
      "  0.906807   0.12393283 0.20372438 0.86356108 0.971619   0.60730267\n",
      "  0.48572348 0.32892585 0.67842059 0.40008598 0.83713958 0.42809381\n",
      "  0.27520949 0.06718684 0.94005146 0.98962817 0.2889497  0.57187371\n",
      "  0.27204293 0.49089656 0.36097719 0.93834923 0.45720308 0.65691211\n",
      "  0.95267153 0.29306007 0.65409651 0.7897649  0.59011201 0.95900158\n",
      "  0.87025905 0.71519605 0.47166647 0.81467013 0.92891412 0.13842566\n",
      "  0.73967073 0.52540675 0.6537006  0.74944503 0.40711399 1.06975544\n",
      "  0.64724749 0.60318095 0.97187113 0.38872661 1.01420178 0.24432269\n",
      "  0.3180027  0.75410338 0.83593184 0.4434461  0.84865299 0.34345137\n",
      "  1.15652455 1.00799768 0.88783738 0.89493798]\n",
      " [0.65196721 0.51502813 0.08480062 0.64560212 0.69694774 0.20951121\n",
      "  0.15556105 0.5438707  0.19142103 0.69431349 0.19840656 0.15298446\n",
      "  0.16117732 0.18964113 0.64380727 0.67934565 0.36275048 0.57160554\n",
      "  0.81274168 0.65613335 0.41362025 0.49008236 0.63272474 0.53713049\n",
      "  0.5335945  0.51278131 0.65800156 0.6699013  0.3561575  0.67452695\n",
      "  0.56578341 0.57940423 0.47792834 0.61466827 0.63455837 0.22836925\n",
      "  0.2052896  0.66805549 0.29588921 0.26918026 0.         0.83341493\n",
      "  0.66730964 0.28963453 0.34872022 0.62300189 0.71137716 0.36031626\n",
      "  0.25936706 0.16297435 0.4114259  0.30809242 0.64261129 0.19638347\n",
      "  0.19179042 0.20556347 0.67127397 0.7237224  0.27008013 0.3432182\n",
      "  0.28980476 0.22365724 0.1474347  0.69051899 0.31446054 0.60127906\n",
      "  0.68688293 0.25885347 0.49669614 0.54743934 0.32928088 0.69384604\n",
      "  0.6136255  0.64806409 0.29772795 0.5541068  0.70593087 0.37632775\n",
      "  0.51447555 0.25974002 0.53175131 0.58043503 0.18446882 0.80142705\n",
      "  0.58067259 0.39547248 0.70276535 0.32755265 0.74637389 0.29285006\n",
      "  0.08380431 0.62640889 0.58545693 0.30392648 0.59795422 0.20158248\n",
      "  0.89771612 0.74016738 0.62691097 0.69388755]\n",
      " [0.29786723 0.35213642 0.88184378 0.80946081 0.16768482 0.96651804\n",
      "  0.91707592 0.33051738 1.02378003 0.28308763 0.90325209 0.7730244\n",
      "  0.86529277 0.8797396  0.42487557 0.84835443 0.52041317 0.37189487\n",
      "  0.14661417 0.51985492 0.7904298  0.70100703 0.77312679 0.29665862\n",
      "  0.30155713 0.83293474 0.46251018 0.16913951 0.72494622 0.15907132\n",
      "  0.57949922 0.60857007 0.51665009 0.30234842 0.26504393 0.88021251\n",
      "  0.82715327 0.25129625 1.03482731 1.09691496 0.83341493 0.\n",
      "  0.60126597 1.11854866 1.16394207 0.5937716  0.42819532 0.50098917\n",
      "  0.73874006 0.7938636  0.42412345 0.83143133 0.80971112 0.75612242\n",
      "  0.87254689 1.03725506 0.27693511 0.34139703 0.92650446 0.70057709\n",
      "  0.9646703  0.63516027 0.81173615 0.54488465 0.89429663 0.91031152\n",
      "  0.3504597  1.00806328 0.66099309 0.35447496 0.5845795  0.14176308\n",
      "  0.238736   0.8969042  0.70076624 0.28359482 0.37061284 1.20953837\n",
      "  0.6770019  0.57368136 0.74786042 0.61244784 0.70173604 0.1223096\n",
      "  0.88152269 0.75113029 0.20622747 1.00713544 0.29068807 0.99377708\n",
      "  0.81558392 0.73598053 0.28982986 0.75811676 0.52889046 0.80119366\n",
      "  0.09481407 0.29153009 0.21099746 0.79751793]\n",
      " [0.699536   0.36087297 0.6532961  0.22144477 0.44796009 0.65832895\n",
      "  0.81779676 0.60768856 0.82505974 0.72436282 0.58932401 0.52217598\n",
      "  0.57814163 0.82744948 0.17839301 0.25425465 0.63444227 0.2694163\n",
      "  0.70336818 0.08156945 0.33455112 0.91077291 0.18725447 0.49364619\n",
      "  0.45565029 1.01266618 0.84464465 0.4821898  0.3346446  0.51361768\n",
      "  0.8714661  0.90253004 0.75138242 0.3231033  0.64594163 0.8545763\n",
      "  0.80709791 0.35710079 0.96090432 0.906807   0.66730964 0.60126597\n",
      "  0.         0.85900041 0.86233859 0.04441055 0.18142643 0.5966479\n",
      "  0.42109035 0.75321682 0.45043184 0.87948731 0.22266762 0.48014518\n",
      "  0.82518287 0.84011134 0.3275658  0.26605856 0.90628952 0.33509159\n",
      "  0.93633709 0.46713372 0.54607807 0.06400031 0.49793055 1.11251707\n",
      "  0.25101534 0.67507393 0.88596079 0.64667043 0.35375602 0.50739284\n",
      "  0.57419771 1.13285847 0.77440437 0.52378105 0.80596879 0.96118481\n",
      "  0.17663007 0.51840174 0.96998107 0.90607011 0.67794809 0.4866497\n",
      "  1.08345933 0.31862895 0.39770707 0.61964271 0.31948324 0.9486699\n",
      "  0.59563504 1.02051362 0.61082916 0.82576194 0.09885656 0.78631225\n",
      "  0.69598222 0.31673179 0.53821072 0.19796494]\n",
      " [0.94022843 0.78721527 0.2383956  0.7661719  0.97529529 0.20188267\n",
      "  0.28749249 0.83340538 0.12377667 0.98245856 0.26969283 0.36384065\n",
      "  0.2853017  0.3566715  0.8810839  0.78742375 0.64910747 0.82812124\n",
      "  1.10229127 0.87009141 0.53970163 0.7234756  0.76659721 0.82363297\n",
      "  0.81721829 0.7028774  0.93306843 0.95257307 0.52444226 0.95948569\n",
      "  0.82538495 0.83305749 0.75331088 0.88011835 0.92405867 0.39157302\n",
      "  0.40964327 0.93653742 0.31851406 0.12393283 0.28963453 1.11854866\n",
      "  0.85900041 0.         0.0823661  0.81748089 0.94500614 0.64919353\n",
      "  0.44523304 0.39934728 0.69453256 0.49785145 0.76286699 0.39655495\n",
      "  0.36464657 0.11943392 0.93520098 0.97357739 0.39631771 0.52693947\n",
      "  0.3854262  0.48926509 0.32904218 0.89742725 0.37892887 0.7692879\n",
      "  0.93674937 0.1990996  0.74068757 0.83599903 0.57292859 0.97772916\n",
      "  0.90271598 0.82615575 0.54798755 0.84207249 0.98901214 0.10237177\n",
      "  0.68544219 0.54633926 0.75108687 0.83329132 0.46064561 1.07813236\n",
      "  0.75744511 0.54398495 0.97494592 0.28869193 1.00382529 0.36106021\n",
      "  0.3062269  0.85132492 0.8750809  0.53007438 0.81224383 0.42318504\n",
      "  1.18566208 0.99768925 0.91446798 0.82269869]\n",
      " [1.00022567 0.82467842 0.28392105 0.74957953 1.01524363 0.21003335\n",
      "  0.36660195 0.89025545 0.20303307 1.04261514 0.28068894 0.39537423\n",
      "  0.30759325 0.43591388 0.90079398 0.76671907 0.71143139 0.85694718\n",
      "  1.15613864 0.88101043 0.53330354 0.80103144 0.75387724 0.87193673\n",
      "  0.86253433 0.78406297 1.00213845 0.99618571 0.5311959  1.00531845\n",
      "  0.89885199 0.90782227 0.82188364 0.91281387 0.98094429 0.47183788\n",
      "  0.48716923 0.97038856 0.40017576 0.20372438 0.34872022 1.16394207\n",
      "  0.86233859 0.0823661  0.         0.82255956 0.96238687 0.70841611\n",
      "  0.46231722 0.47297255 0.74042135 0.57787186 0.74626995 0.42182978\n",
      "  0.44368707 0.20045295 0.96654628 0.99762074 0.47822824 0.53815625\n",
      "  0.46777588 0.52938907 0.35775891 0.90536781 0.36818968 0.85143354\n",
      "  0.96118841 0.18729605 0.81681286 0.89557219 0.60171072 1.02236222\n",
      "  0.95511808 0.90811673 0.62180928 0.89234714 1.05404502 0.12770604\n",
      "  0.68626709 0.59709308 0.83032631 0.90821348 0.52743256 1.11628974\n",
      "  0.8393342  0.54385592 1.0107088  0.25957029 1.03121486 0.44336188\n",
      "  0.34860881 0.93034299 0.93100774 0.60716224 0.82430632 0.49921506\n",
      "  1.23478774 1.02516817 0.96378028 0.80714805]\n",
      " [0.67384068 0.33164126 0.60976512 0.21704394 0.43529418 0.6173572\n",
      "  0.77338982 0.57799633 0.78169945 0.70044396 0.54794527 0.47829385\n",
      "  0.53563241 0.78315734 0.16921062 0.25469549 0.59577761 0.24603159\n",
      "  0.68863679 0.08206735 0.29872058 0.87176956 0.18099032 0.46559238\n",
      "  0.42781066 0.97190673 0.81451136 0.46544527 0.29307953 0.49610079\n",
      "  0.83628719 0.86705448 0.71547502 0.30532672 0.62087417 0.81043634\n",
      "  0.76314354 0.34508218 0.91650291 0.86356108 0.62300189 0.5937716\n",
      "  0.04441055 0.81748089 0.82255956 0.         0.18890425 0.55812077\n",
      "  0.3778714  0.70920379 0.41408723 0.83627457 0.21762646 0.43644657\n",
      "  0.78092671 0.79677552 0.3172374  0.26780104 0.86209495 0.29224678\n",
      "  0.89204291 0.42303695 0.50267735 0.08680655 0.4601494  1.07189122\n",
      "  0.24718555 0.63545404 0.84777068 0.61632545 0.30985309 0.49185704\n",
      "  0.54986489 1.09321672 0.73242806 0.49643782 0.77976171 0.91975972\n",
      "  0.13984536 0.47612834 0.93091365 0.87053735 0.63456999 0.48303149\n",
      "  1.04297473 0.27983242 0.38806476 0.58287968 0.32065882 0.90429017\n",
      "  0.55165869 0.98346357 0.58361134 0.78324804 0.06985621 0.74249772\n",
      "  0.68856133 0.3171604  0.51591884 0.20522585]\n",
      " [0.57177234 0.27084633 0.71869017 0.40174638 0.28815658 0.75259993\n",
      "  0.84856231 0.50005337 0.889401   0.58946641 0.68183869 0.58541223\n",
      "  0.65992563 0.84327294 0.06827719 0.43563958 0.57952122 0.17095477\n",
      "  0.54253926 0.10683696 0.46631929 0.84997175 0.36663691 0.38449296\n",
      "  0.34832526 0.96560518 0.73216699 0.33190232 0.4365006  0.36430997\n",
      "  0.78491647 0.81713947 0.6724523  0.18940454 0.51729937 0.86326143\n",
      "  0.81117459 0.20073512 0.99014923 0.971619   0.71137716 0.42819532\n",
      "  0.18142643 0.94500614 0.96238687 0.18890425 0.         0.54248338\n",
      "  0.50086731 0.76045592 0.39069628 0.86608044 0.40274887 0.54911892\n",
      "  0.83926461 0.90458148 0.1690897  0.08709228 0.91592059 0.42529338\n",
      "  0.94996983 0.49024663 0.61722837 0.11961025 0.61620993 1.06257996\n",
      "  0.08441794 0.77894434 0.81934207 0.54059239 0.38243307 0.35275742\n",
      "  0.44529267 1.07363979 0.74610838 0.40958663 0.67779759 1.04678323\n",
      "  0.31413038 0.50534362 0.90852753 0.82096044 0.67340553 0.3096905\n",
      "  1.03258332 0.43836048 0.2329144  0.74051879 0.13983918 0.9681938\n",
      "  0.65365672 0.94318318 0.49202331 0.80296566 0.14743924 0.78734982\n",
      "  0.5220636  0.13784661 0.40332707 0.37888121]\n",
      " [0.29181074 0.27429827 0.42856868 0.69544174 0.39876691 0.54007594\n",
      "  0.41843897 0.1857696  0.54084445 0.3342062  0.49416478 0.36390011\n",
      "  0.44920302 0.3787505  0.47977793 0.73860608 0.03791583 0.37159129\n",
      "  0.45747472 0.5433011  0.53341003 0.3143182  0.66671536 0.21517899\n",
      "  0.2310635  0.42353575 0.3281085  0.35603472 0.44800411 0.34958932\n",
      "  0.29250202 0.32012313 0.17128453 0.37512016 0.27575768 0.38046154\n",
      "  0.32682372 0.4089888  0.53400261 0.60730267 0.36031626 0.50098917\n",
      "  0.5966479  0.64919353 0.70841611 0.55812077 0.54248338 0.\n",
      "  0.39500367 0.29316949 0.15219579 0.34554601 0.69360817 0.37198219\n",
      "  0.37157298 0.55289472 0.42669688 0.51180508 0.42849015 0.4191869\n",
      "  0.46649705 0.24153304 0.39823385 0.58470128 0.54652969 0.5215282\n",
      "  0.48106082 0.58882224 0.28971345 0.1871698  0.29340788 0.37278987\n",
      "  0.26580584 0.53737552 0.21518266 0.21917156 0.35441099 0.73032422\n",
      "  0.52651545 0.13751823 0.37356198 0.32312644 0.20262306 0.50119743\n",
      "  0.49176723 0.49411891 0.42651753 0.62407773 0.5103835  0.49428812\n",
      "  0.37303066 0.427381   0.22863192 0.27470731 0.49952456 0.30075055\n",
      "  0.55188997 0.50479625 0.29023597 0.72103091]\n",
      " [0.65161674 0.38693007 0.23264371 0.38782425 0.57775947 0.25228391\n",
      "  0.41487668 0.53237971 0.40399486 0.69175337 0.18171641 0.10656934\n",
      "  0.16006158 0.4408849  0.43853131 0.42338938 0.42062236 0.40021982\n",
      "  0.76451961 0.42535476 0.16359453 0.65069812 0.37359059 0.47106518\n",
      "  0.44963869 0.71296472 0.72225585 0.57026204 0.09679185 0.58674336\n",
      "  0.67690951 0.70026311 0.56161831 0.46130742 0.61510642 0.47550662\n",
      "  0.43860854 0.52000569 0.55453822 0.48572348 0.25936706 0.73874006\n",
      "  0.42109035 0.44523304 0.46231722 0.3778714  0.50086731 0.39500367\n",
      "  0.         0.38559474 0.34165767 0.53176324 0.38492138 0.06300802\n",
      "  0.44102582 0.41903206 0.51201053 0.53595638 0.52267953 0.08666616\n",
      "  0.546345   0.15399888 0.12519049 0.45424475 0.16084123 0.81025317\n",
      "  0.49978927 0.28283836 0.6422384  0.55423081 0.15416269 0.59890172\n",
      "  0.56735646 0.84729446 0.46753387 0.49897634 0.73588872 0.54744226\n",
      "  0.25772678 0.25826518 0.70402557 0.70259078 0.34296511 0.67233254\n",
      "  0.78518509 0.13811846 0.5633878  0.26842596 0.57156517 0.55172057\n",
      "  0.17966508 0.7841056  0.56382308 0.50061519 0.36725341 0.42472813\n",
      "  0.82072832 0.56562304 0.56114554 0.43481443]\n",
      " [0.566395   0.52267671 0.2463605  0.77013397 0.68132069 0.3695441\n",
      "  0.12893532 0.47477813 0.27768585 0.60717117 0.36101069 0.28896918\n",
      "  0.32189326 0.08756827 0.69238782 0.80749779 0.27880577 0.60120232\n",
      "  0.74563241 0.72582663 0.5485553  0.33360769 0.75216284 0.50280535\n",
      "  0.51095955 0.34989789 0.5365763  0.64364248 0.4784152  0.64036951\n",
      "  0.42616222 0.43490545 0.35884437 0.62820327 0.56159275 0.10293475\n",
      "  0.05439429 0.67374814 0.24357628 0.32892585 0.16297435 0.7938636\n",
      "  0.75321682 0.39934728 0.47297255 0.70920379 0.76045592 0.29316949\n",
      "  0.38559474 0.         0.40028801 0.14889411 0.7673882  0.32716354\n",
      "  0.08159183 0.28619578 0.68441322 0.75414114 0.15558206 0.4588041\n",
      "  0.18975487 0.2862554  0.29761123 0.7642233  0.47163317 0.43971197\n",
      "  0.71892363 0.41763411 0.34536263 0.46678584 0.39950614 0.66278965\n",
      "  0.55875665 0.48536273 0.14886183 0.51088942 0.60000265 0.46237875\n",
      "  0.62186507 0.25720856 0.37140207 0.43535196 0.0940804  0.78599646\n",
      "  0.41833504 0.52302988 0.70014086 0.49034149 0.76590108 0.21082667\n",
      "  0.23674776 0.4681681  0.51818571 0.14239692 0.67054358 0.0401052\n",
      "  0.84418134 0.7598419  0.58290186 0.8131204 ]\n",
      " [0.31473014 0.12641569 0.45776807 0.57147518 0.28705579 0.54695219\n",
      "  0.51171101 0.19712743 0.60272093 0.35314696 0.48733837 0.3540318\n",
      "  0.44671585 0.48766032 0.32759162 0.61523277 0.1897197  0.22007157\n",
      "  0.42627403 0.39302195 0.44567133 0.46446484 0.53991742 0.13337318\n",
      "  0.1226903  0.57573097 0.41728253 0.25859033 0.36333421 0.26514639\n",
      "  0.42257279 0.45310065 0.30139909 0.2313138  0.27447961 0.49882035\n",
      "  0.4445801  0.27369177 0.64288455 0.67842059 0.4114259  0.42412345\n",
      "  0.45043184 0.69453256 0.74042135 0.41408723 0.39069628 0.15219579\n",
      "  0.34165767 0.40028801 0.         0.48360889 0.57004686 0.34374722\n",
      "  0.48187984 0.61663359 0.28618908 0.36465538 0.55022698 0.33436512\n",
      "  0.58696163 0.21431843 0.39267103 0.43442488 0.50248771 0.67362209\n",
      "  0.33227137 0.59090048 0.43720545 0.2264823  0.19983557 0.2832241\n",
      "  0.22639457 0.68819226 0.35837484 0.15854143 0.40804902 0.78651485\n",
      "  0.40298308 0.15324629 0.5236253  0.45655248 0.30670023 0.39218459\n",
      "  0.64380874 0.4040031  0.30040096 0.60262571 0.3691371  0.61065411\n",
      "  0.39183054 0.57013408 0.22384132 0.4166864  0.3520863  0.41895575\n",
      "  0.49510212 0.36324532 0.22573622 0.590122  ]\n",
      " [0.56776564 0.61002087 0.38826428 0.91275364 0.74362054 0.50754762\n",
      "  0.21164184 0.50108458 0.37484907 0.60427948 0.506297   0.43745918\n",
      "  0.46886572 0.14262777 0.79934006 0.95116429 0.31696538 0.69933541\n",
      "  0.75816791 0.84410326 0.69524508 0.23409564 0.89307892 0.55938324\n",
      "  0.57659818 0.21027826 0.49306419 0.69879655 0.62257043 0.68888946\n",
      "  0.35987314 0.35793139 0.33613575 0.71458258 0.57720733 0.10635652\n",
      "  0.10325291 0.75276377 0.24042496 0.40008598 0.30809242 0.83143133\n",
      "  0.87948731 0.49785145 0.57787186 0.83627457 0.86608044 0.34554601\n",
      "  0.53176324 0.14889411 0.48360889 0.         0.91010569 0.47476395\n",
      "  0.13541922 0.37845858 0.76841464 0.84794422 0.11961336 0.60138695\n",
      "  0.15259863 0.41873948 0.44643294 0.8839893  0.62002146 0.29360682\n",
      "  0.81475734 0.55346353 0.2602729  0.48142028 0.5278795  0.71296688\n",
      "  0.59286039 0.34282067 0.13170874 0.55911696 0.57442769 0.53841878\n",
      "  0.75943243 0.36427079 0.25403357 0.35709316 0.20201642 0.84473137\n",
      "  0.27436139 0.66813559 0.77195259 0.63223935 0.85190316 0.18701632\n",
      "  0.38509789 0.35449689 0.54281236 0.07331506 0.79146449 0.10878998\n",
      "  0.86698027 0.84611528 0.62568    0.95358938]\n",
      " [0.86195234 0.51905437 0.60121058 0.00331225 0.64826902 0.56417649\n",
      "  0.79798001 0.7557065  0.76066417 0.89279482 0.50495154 0.48994472\n",
      "  0.51119177 0.82578193 0.38641636 0.04521851 0.72874443 0.44973645\n",
      "  0.89779533 0.29748146 0.23254779 0.99425709 0.03667063 0.65132077\n",
      "  0.61527329 1.07631454 0.98635893 0.67373142 0.28940723 0.70299801\n",
      "  0.98480386 1.01336862 0.86245888 0.51479523 0.81141598 0.8600036\n",
      "  0.82120431 0.55932312 0.9348516  0.83713958 0.64261129 0.80971112\n",
      "  0.22266762 0.76286699 0.74626995 0.21762646 0.40274887 0.69360817\n",
      "  0.38492138 0.7673882  0.57004686 0.91010569 0.         0.44713535\n",
      "  0.82582161 0.77461541 0.53277604 0.48470743 0.90757184 0.30881853\n",
      "  0.93108711 0.49693254 0.49896736 0.28661195 0.38404164 1.17594668\n",
      "  0.46480637 0.56503548 0.97701047 0.79087905 0.40421533 0.70138441\n",
      "  0.74336009 1.20640387 0.82884988 0.68334504 0.96508067 0.86084882\n",
      "  0.1676508  0.5812133  1.05170723 1.016466   0.71259208 0.70048072\n",
      "  1.14893981 0.24724794 0.60353063 0.48760019 0.53783855 0.93546047\n",
      "  0.56022243 1.11821892 0.76895535 0.87055514 0.28086018 0.80553516\n",
      "  0.90435463 0.53449765 0.71442599 0.06128271]\n",
      " [0.64365991 0.40811001 0.17357508 0.45007516 0.60002352 0.2142604\n",
      "  0.35191793 0.52503062 0.34588599 0.68490545 0.14754967 0.04359604\n",
      "  0.11423675 0.37915342 0.48464485 0.48494744 0.3932501  0.43512228\n",
      "  0.7700181  0.47948352 0.22189056 0.60652604 0.43642874 0.47660171\n",
      "  0.45959209 0.66145514 0.69982321 0.58698413 0.15978206 0.60046847\n",
      "  0.64341097 0.66493099 0.53232848 0.49172898 0.61135328 0.41448283\n",
      "  0.37936456 0.54973506 0.4915624  0.42809381 0.19638347 0.75612242\n",
      "  0.48014518 0.39655495 0.42182978 0.43644657 0.54911892 0.37198219\n",
      "  0.06300802 0.32716354 0.34374722 0.47476395 0.44713535 0.\n",
      "  0.37957415 0.36103616 0.54492755 0.57760026 0.46092672 0.14834028\n",
      "  0.48395194 0.13468761 0.06819316 0.51025574 0.17534272 0.75746976\n",
      "  0.5408931  0.25249155 0.60103828 0.54279021 0.18005135 0.61475457\n",
      "  0.56967271 0.79663496 0.41891858 0.50222708 0.72168232 0.49791543\n",
      "  0.3199417  0.23495428 0.65799741 0.66700486 0.2924218  0.69841915\n",
      "  0.73319051 0.19992641 0.59117841 0.25970268 0.60969504 0.48888324\n",
      "  0.11710134 0.74169712 0.55970574 0.44785602 0.42099235 0.3667814\n",
      "  0.83416658 0.60362154 0.5685105  0.49762658]\n",
      " [0.63665577 0.60409853 0.26393282 0.82869244 0.76245697 0.37779086\n",
      "  0.07716642 0.55024022 0.24101821 0.67654224 0.38443401 0.33806049\n",
      "  0.35123581 0.0086294  0.77107387 0.86435336 0.35434714 0.68158658\n",
      "  0.8195013  0.80126825 0.6008874  0.35963249 0.81298686 0.58312918\n",
      "  0.59207048 0.34517941 0.59197928 0.72416137 0.53659278 0.72017477\n",
      "  0.47070715 0.47453143 0.41931659 0.7095698  0.63532825 0.03682152\n",
      "  0.05091706 0.75532254 0.16277285 0.27520949 0.19179042 0.87254689\n",
      "  0.82518287 0.36464657 0.44368707 0.78092671 0.83926461 0.37157298\n",
      "  0.44102582 0.08159183 0.48187984 0.13541922 0.82582161 0.37957415\n",
      "  0.         0.24578158 0.76584745 0.83478351 0.08214909 0.51954429\n",
      "  0.11153411 0.35860092 0.33838678 0.83900034 0.50558286 0.42378776\n",
      "  0.79938203 0.42202241 0.37941226 0.53960315 0.47255579 0.74283461\n",
      "  0.6361791  0.47580642 0.19954924 0.59026122 0.66240149 0.41302064\n",
      "  0.68683644 0.33789073 0.38665022 0.47434999 0.17549779 0.86699822\n",
      "  0.40684187 0.57909895 0.78169031 0.50469881 0.84718008 0.12968007\n",
      "  0.27475352 0.48675897 0.59359955 0.16834848 0.74519634 0.07400959\n",
      "  0.9204701  0.84110908 0.66179143 0.87421223]\n",
      " [0.84066561 0.720055   0.18753018 0.77784709 0.90248907 0.22062037\n",
      "  0.16878379 0.73860609 0.01520355 0.88249696 0.27021873 0.32100318\n",
      "  0.26618931 0.23768916 0.83815625 0.80462815 0.54853157 0.77280875\n",
      "  1.00987758 0.84003954 0.54322931 0.60519068 0.77266915 0.74062511\n",
      "  0.73847185 0.58366989 0.82258444 0.87487322 0.50952888 0.87866721\n",
      "  0.71048658 0.71691749 0.64400129 0.81854555 0.82860813 0.27215506\n",
      "  0.29189593 0.87267464 0.21240913 0.06718684 0.20556347 1.03725506\n",
      "  0.84011134 0.11943392 0.20045295 0.79677552 0.90458148 0.55289472\n",
      "  0.41903206 0.28619578 0.61663359 0.37845858 0.77461541 0.36103616\n",
      "  0.24578158 0.         0.87490831 0.92326402 0.27810255 0.50533616\n",
      "  0.26988364 0.42531596 0.29410713 0.87127606 0.39779066 0.65161807\n",
      "  0.8862946  0.2439309  0.62348075 0.73757522 0.52329979 0.89841593\n",
      "  0.81337958 0.70792065 0.43352391 0.75614749 0.88303366 0.17827466\n",
      "  0.67376012 0.4641987  0.63187369 0.71700908 0.35627273 1.00699052\n",
      "  0.63906199 0.53828712 0.90800079 0.33996137 0.94842851 0.24843522\n",
      "  0.25092773 0.73217722 0.78121287 0.4123943  0.78148945 0.30690292\n",
      "  1.09904721 0.94222746 0.82924012 0.83180881]\n",
      " [0.40606502 0.1617513  0.69832429 0.53252977 0.12117544 0.75886695\n",
      "  0.78961655 0.34583873 0.86015557 0.42160696 0.69021666 0.57242017\n",
      "  0.65908705 0.77122777 0.14935792 0.57158801 0.46066405 0.11235538\n",
      "  0.37716873 0.24607143 0.53104229 0.71678066 0.49619431 0.23540118\n",
      "  0.20427987 0.83965355 0.57085758 0.16281808 0.47629591 0.19522525\n",
      "  0.63641132 0.66877591 0.53141848 0.05687675 0.35187329 0.78426229\n",
      "  0.73017743 0.03164604 0.92510416 0.94005146 0.67127397 0.27693511\n",
      "  0.3275658  0.93520098 0.96654628 0.3172374  0.1690897  0.42669688\n",
      "  0.51201053 0.68441322 0.28618908 0.76841464 0.53277604 0.54492755\n",
      "  0.76584745 0.87490831 0.         0.09753365 0.83597037 0.45603818\n",
      "  0.87242208 0.44977225 0.6091628  0.27553834 0.65503027 0.93300831\n",
      "  0.084674   0.79384376 0.68285728 0.38600711 0.36488921 0.1841632\n",
      "  0.28091395 0.93775278 0.64064402 0.2550352  0.51119211 1.03362413\n",
      "  0.4045079  0.42949874 0.77371405 0.67270075 0.59164117 0.17356959\n",
      "  0.90282511 0.49452556 0.07084    0.77530241 0.08369513 0.89521895\n",
      "  0.63038122 0.7977456  0.3315286  0.69979035 0.25196913 0.70472095\n",
      "  0.37160581 0.07810991 0.23724555 0.5217763 ]\n",
      " [0.50270557 0.23845222 0.74093254 0.4839156  0.207955   0.78778422\n",
      "  0.85192941 0.4427812  0.90822885 0.51674635 0.71751471 0.61007852\n",
      "  0.69110977 0.83956143 0.10766303 0.51935249 0.54722552 0.15370753\n",
      "  0.45902862 0.18730109 0.52478624 0.80925959 0.44823491 0.33075912\n",
      "  0.29775892 0.93004694 0.66831476 0.25601948 0.48371075 0.28811713\n",
      "  0.73272815 0.76509702 0.62578043 0.1379209  0.44870624 0.8557973\n",
      "  0.80236885 0.12744339 0.99081101 0.98962817 0.7237224  0.34139703\n",
      "  0.26605856 0.97357739 0.99762074 0.26780104 0.08709228 0.51180508\n",
      "  0.53595638 0.75414114 0.36465538 0.84794422 0.48470743 0.57760026\n",
      "  0.83478351 0.92326402 0.09753365 0.         0.9081274  0.4682179\n",
      "  0.94363728 0.50006841 0.64459091 0.20591436 0.66509065 1.02470636\n",
      "  0.03698141 0.81826467 0.77625399 0.48307379 0.40147175 0.27393377\n",
      "  0.37815483 1.03132702 0.72286681 0.35180163 0.60723202 1.07411363\n",
      "  0.38086056 0.49695514 0.86677607 0.76900522 0.66339629 0.22260402\n",
      "  0.99454164 0.4928061  0.1512799  0.7885064  0.05342566 0.96445588\n",
      "  0.67396244 0.89357849 0.42906177 0.78132954 0.21443272 0.77751803\n",
      "  0.43507765 0.05089573 0.33408268 0.46401755]\n",
      " [0.67553544 0.67455977 0.33618592 0.9104578  0.82529245 0.44253769\n",
      "  0.12871453 0.59895492 0.27763177 0.713634   0.45677362 0.41900805\n",
      "  0.4264702  0.08179555 0.84789083 0.94585579 0.40615324 0.75566562\n",
      "  0.8632558  0.88084881 0.68177317 0.35265676 0.89499518 0.64318582\n",
      "  0.65533557 0.30838558 0.61081376 0.78431745 0.61846552 0.77789426\n",
      "  0.4792753  0.47752412 0.44817762 0.7802292  0.68007306 0.05266493\n",
      "  0.10586204 0.82380605 0.12122806 0.2889497  0.27008013 0.92650446\n",
      "  0.90628952 0.39631771 0.47822824 0.86209495 0.91592059 0.42849015\n",
      "  0.52267953 0.15558206 0.55022698 0.11961336 0.90757184 0.46092672\n",
      "  0.08214909 0.27810255 0.83597037 0.9081274  0.         0.60162783\n",
      "  0.03816738 0.43929417 0.41746456 0.91896082 0.58117624 0.37357957\n",
      "  0.87321601 0.48357963 0.37983061 0.5837312  0.55312962 0.8012385\n",
      "  0.68819182 0.42988914 0.2310333  0.64735687 0.68943566 0.42598141\n",
      "  0.76896904 0.41174871 0.36741445 0.47665956 0.24481481 0.92886986\n",
      "  0.36112952 0.66067151 0.84787367 0.57093293 0.9181892  0.06981466\n",
      "  0.35376728 0.4673331  0.6418122  0.18220127 0.82519902 0.13127408\n",
      "  0.96860309 0.91218541 0.71717493 0.95623019]\n",
      " [0.64907771 0.35053534 0.31927284 0.31151094 0.53509986 0.32935231\n",
      "  0.4981784  0.53123588 0.49033923 0.68710711 0.25883602 0.19175092\n",
      "  0.24351166 0.5200517  0.36621946 0.34985508 0.44976577 0.34385735\n",
      "  0.74208535 0.34362648 0.1144312  0.69931428 0.29368721 0.45375922\n",
      "  0.42685008 0.77240185 0.73888336 0.53526612 0.02928677 0.55554906\n",
      "  0.70973286 0.73546648 0.59012905 0.40970122 0.60737231 0.55293947\n",
      "  0.5127833  0.46820084 0.63904289 0.57187371 0.3432182  0.70057709\n",
      "  0.33509159 0.52693947 0.53815625 0.29224678 0.42529338 0.4191869\n",
      "  0.08666616 0.4588041  0.33436512 0.60138695 0.30881853 0.14834028\n",
      "  0.51954429 0.50533616 0.45603818 0.4682179  0.60162783 0.\n",
      "  0.62701435 0.19407286 0.21180276 0.3705344  0.19906541 0.87128685\n",
      "  0.433157   0.35369048 0.6865627  0.5582344  0.1346772  0.56460315\n",
      "  0.55216786 0.90467154 0.52483066 0.48406187 0.74086386 0.6293109\n",
      "  0.17163017 0.29014267 0.75497642 0.73813656 0.40523594 0.62332187\n",
      "  0.84502814 0.07517546 0.51349679 0.32087966 0.50794046 0.63408626\n",
      "  0.26543866 0.82899598 0.55755313 0.56367163 0.2863557  0.49676842\n",
      "  0.78705672 0.50223124 0.53914392 0.35483406]\n",
      " [0.71302506 0.71087225 0.34962328 0.93402457 0.86298075 0.44937366\n",
      "  0.13904466 0.63707718 0.27148946 0.75092108 0.46919139 0.441315\n",
      "  0.44166278 0.10888815 0.88184061 0.968572   0.44431197 0.79086567\n",
      "  0.9010713  0.91279923 0.7033098  0.38239695 0.91963385 0.68108013\n",
      "  0.69292846 0.32779579 0.64548848 0.82223729 0.64271766 0.81595656\n",
      "  0.51218119 0.50909759 0.484823   0.81652809 0.71800658 0.08816298\n",
      "  0.14240083 0.86062678 0.08925406 0.27204293 0.28980476 0.9646703\n",
      "  0.93633709 0.3854262  0.46777588 0.89204291 0.94996983 0.46649705\n",
      "  0.546345   0.18975487 0.58696163 0.15259863 0.93108711 0.48395194\n",
      "  0.11153411 0.26988364 0.87242208 0.94363728 0.03816738 0.62701435\n",
      "  0.         0.47004413 0.43689154 0.95052634 0.59596427 0.38502787\n",
      "  0.90853906 0.48795689 0.41132988 0.62166712 0.58400753 0.8392705\n",
      "  0.72635785 0.44315326 0.26868879 0.68542617 0.72541743 0.40649178\n",
      "  0.7957524  0.44683933 0.39310405 0.50806322 0.28084993 0.96667287\n",
      "  0.37527813 0.68386562 0.88512244 0.57795451 0.95443012 0.03459224\n",
      "  0.37350595 0.49209624 0.67991194 0.2185198  0.85672113 0.1682033\n",
      "  1.00665146 0.94840659 0.75531086 0.9808902 ]\n",
      " [0.50899548 0.29802234 0.25089682 0.49936847 0.48656827 0.33270022\n",
      "  0.35913802 0.39046844 0.41049629 0.55030062 0.27358627 0.13978198\n",
      "  0.23242272 0.36126533 0.42222452 0.53975423 0.26662527 0.34811157\n",
      "  0.63935687 0.44361999 0.30342944 0.50550167 0.47712383 0.3476455\n",
      "  0.33452063 0.57977019 0.56941951 0.46692936 0.22030188 0.47713149\n",
      "  0.52365158 0.54765466 0.40766027 0.39362425 0.47731081 0.38745884\n",
      "  0.34034756 0.4487032  0.50173308 0.49089656 0.22365724 0.63516027\n",
      "  0.46713372 0.48926509 0.52938907 0.42303695 0.49024663 0.24153304\n",
      "  0.15399888 0.2862554  0.21431843 0.41873948 0.49693254 0.13468761\n",
      "  0.35860092 0.42531596 0.44977225 0.50006841 0.43929417 0.19407286\n",
      "  0.47004413 0.         0.17836778 0.48074844 0.3062077  0.67917466\n",
      "  0.46323934 0.37666914 0.49383397 0.4081891  0.11396397 0.49342731\n",
      "  0.43804349 0.71117325 0.3321225  0.37152674 0.58767036 0.58556621\n",
      "  0.34116346 0.10433481 0.56093742 0.55009099 0.21758625 0.5889257\n",
      "  0.65242546 0.26793088 0.4859942  0.39381253 0.52331748 0.48424037\n",
      "  0.18306441 0.63623853 0.42566401 0.37420989 0.38695736 0.32040288\n",
      "  0.70897085 0.51711263 0.44003705 0.53688158]\n",
      " [0.68068275 0.46773039 0.10747154 0.50203667 0.65906514 0.15480447\n",
      "  0.30053429 0.56372034 0.27902301 0.72261195 0.09682094 0.03875065\n",
      "  0.05406003 0.33667734 0.55256212 0.53430651 0.41414248 0.50042625\n",
      "  0.81738319 0.54734443 0.26785989 0.60134459 0.49147434 0.52601191\n",
      "  0.51219112 0.64314047 0.7220288  0.64290494 0.21870349 0.65444499\n",
      "  0.65298898 0.67191197 0.54842434 0.55513514 0.65229085 0.37462868\n",
      "  0.34622368 0.61263402 0.4358849  0.36097719 0.1474347  0.81173615\n",
      "  0.54607807 0.32904218 0.35775891 0.50267735 0.61722837 0.39823385\n",
      "  0.12519049 0.29761123 0.39267103 0.44643294 0.49896736 0.06819316\n",
      "  0.33838678 0.29410713 0.6091628  0.64459091 0.41746456 0.21180276\n",
      "  0.43689154 0.17836778 0.         0.57766487 0.17529825 0.73605105\n",
      "  0.60779393 0.19835654 0.60044442 0.5775958  0.24482657 0.66999776\n",
      "  0.61583301 0.77903451 0.40903521 0.54971183 0.75225769 0.43008893\n",
      "  0.38209914 0.26622706 0.64935272 0.67362974 0.28261821 0.75914092\n",
      "  0.71345165 0.25335992 0.65305713 0.2264832  0.67564939 0.43827162\n",
      "  0.0637068  0.73807341 0.60079566 0.42949405 0.48889612 0.33769837\n",
      "  0.88697148 0.66954334 0.61840026 0.55224387]\n",
      " [0.66187546 0.33229201 0.6837621  0.28535174 0.39671052 0.69862792\n",
      "  0.83734982 0.57682574 0.85611585 0.68411405 0.62861037 0.55075438\n",
      "  0.61368131 0.84188384 0.13032398 0.3173949  0.6226069  0.23431444\n",
      "  0.65270703 0.04141448 0.38505907 0.89861151 0.25125477 0.4610791\n",
      "  0.42318676 1.00582978 0.81333539 0.43477298 0.37437396 0.46679199\n",
      "  0.84982234 0.88143885 0.73187875 0.27903498 0.60766866 0.86667167\n",
      "  0.81733141 0.30622771 0.98057346 0.93834923 0.69051899 0.54488465\n",
      "  0.06400031 0.89742725 0.90536781 0.08680655 0.11961025 0.58470128\n",
      "  0.45424475 0.7642233  0.43442488 0.8839893  0.28661195 0.51025574\n",
      "  0.83900034 0.87127606 0.27553834 0.20591436 0.91896082 0.3705344\n",
      "  0.95052634 0.48074844 0.57766487 0.         0.54528023 1.10497913\n",
      "  0.1948843  0.71864694 0.87159793 0.61666898 0.36692767 0.45850389\n",
      "  0.53535784 1.12204221 0.77307564 0.48978565 0.76859898 0.99979752\n",
      "  0.22630308 0.51997889 0.95782704 0.88509566 0.68427347 0.42809666\n",
      "  1.07549642 0.36462056 0.34419041 0.66851671 0.25912731 0.96494618\n",
      "  0.62310773 1.00278994 0.5759461  0.82668    0.09380749 0.79536158\n",
      "  0.63928052 0.25680859 0.49690687 0.25956888]\n",
      " [0.81136749 0.54226678 0.24645179 0.38734256 0.73070133 0.18100796\n",
      "  0.45695032 0.69215786 0.38481688 0.85181087 0.13036298 0.19501443\n",
      "  0.1547067  0.50277604 0.56091615 0.41006194 0.56852496 0.54277547\n",
      "  0.92481009 0.5252641  0.16534006 0.77455561 0.38803108 0.63164386\n",
      "  0.60940991 0.81839184 0.87460349 0.72686195 0.18138019 0.74474929\n",
      "  0.81795424 0.83882206 0.70764508 0.60797319 0.77566869 0.54234345\n",
      "  0.51849607 0.66662592 0.57963988 0.45720308 0.31446054 0.89429663\n",
      "  0.49793055 0.37892887 0.36818968 0.4601494  0.61620993 0.54652969\n",
      "  0.16084123 0.47163317 0.50248771 0.62002146 0.38404164 0.17534272\n",
      "  0.50558286 0.39779066 0.65503027 0.66509065 0.58117624 0.19906541\n",
      "  0.59596427 0.3062077  0.17529825 0.54528023 0.         0.91088807\n",
      "  0.6306654  0.18251809 0.77174009 0.71272644 0.31174298 0.75584113\n",
      "  0.7281554  0.95429189 0.58326948 0.65975015 0.89340634 0.47777838\n",
      "  0.32131257 0.40909465 0.82365911 0.84079041 0.4563638  0.8213128\n",
      "  0.88855138 0.18069735 0.7115609  0.12432833 0.70623274 0.59198722\n",
      "  0.23493572 0.91087185 0.72429719 0.6047921  0.47146872 0.51159424\n",
      "  0.97825632 0.70059573 0.72128178 0.44376983]\n",
      " [0.61340685 0.79216292 0.68186888 1.17833586 0.87336633 0.80044121\n",
      "  0.49505683 0.60276034 0.65115605 0.63560548 0.79965155 0.72329848\n",
      "  0.76148172 0.42965676 1.00098342 1.21892451 0.4839024  0.89170765\n",
      "  0.79781371 1.06367075 0.97317629 0.21689211 1.15498477 0.69963406\n",
      "  0.72875392 0.10022672 0.46749895 0.82048231 0.89530041 0.80030625\n",
      "  0.33248313 0.30618089 0.40624068 0.88680574 0.64674613 0.38928814\n",
      "  0.39685966 0.91005007 0.46413018 0.65691211 0.60127906 0.91031152\n",
      "  1.11251707 0.7692879  0.85143354 1.07189122 1.06257996 0.5215282\n",
      "  0.81025317 0.43971197 0.67362209 0.29360682 1.17594668 0.75746976\n",
      "  0.42378776 0.65161807 0.93300831 1.02470636 0.37357957 0.87128685\n",
      "  0.38502787 0.67917466 0.73605105 1.10497913 0.91088807 0.\n",
      "  0.99669202 0.84556669 0.25368171 0.56797528 0.77680676 0.82477095\n",
      "  0.69178006 0.06081827 0.34709858 0.6861948  0.5672054  0.78947829\n",
      "  1.01649144 0.59991294 0.16338285 0.30259119 0.46750007 0.96052653\n",
      "  0.03018321 0.94234778 0.9156752  0.92574336 1.0149477  0.41315898\n",
      "  0.67627625 0.19749736 0.63384147 0.30974988 1.01745443 0.40011338\n",
      "  0.91575127 1.00994455 0.73470542 1.21377212]\n",
      " [0.48884022 0.20683625 0.70396647 0.46422796 0.20429737 0.75142655\n",
      "  0.81570024 0.42181526 0.87125719 0.5056132  0.68123973 0.57319054\n",
      "  0.65450119 0.80406713 0.07985093 0.50125166 0.51700298 0.11782385\n",
      "  0.4595519  0.16992461 0.49287812 0.78201126 0.42815917 0.30768358\n",
      "  0.27306234 0.90125058 0.65127085 0.24749096 0.44933273 0.27989841\n",
      "  0.70983291 0.74217036 0.60047165 0.11171415 0.43444776 0.82080808\n",
      "  0.76753786 0.11632001 0.95489286 0.95267153 0.68688293 0.3504597\n",
      "  0.25101534 0.93674937 0.96118841 0.24718555 0.08441794 0.48106082\n",
      "  0.49978927 0.71892363 0.33227137 0.81475734 0.46480637 0.5408931\n",
      "  0.79938203 0.8862946  0.084674   0.03698141 0.87321601 0.433157\n",
      "  0.90853906 0.46323934 0.60779393 0.1948843  0.6306654  0.99669202\n",
      "  0.         0.78229419 0.74979943 0.46232288 0.36452335 0.26847882\n",
      "  0.36278641 1.0047986  0.69063955 0.33082595 0.59451947 1.03722734\n",
      "  0.35243809 0.46171926 0.83993572 0.74604428 0.62862218 0.23622553\n",
      "  0.96656182 0.45994278 0.14997343 0.75378082 0.07798551 0.92902778\n",
      "  0.63698349 0.86972718 0.41117155 0.74880924 0.1885684  0.74282219\n",
      "  0.4450847  0.07320398 0.32009773 0.44817595]\n",
      " [0.8759056  0.66056884 0.17431514 0.56834598 0.85249594 0.05006434\n",
      "  0.35515823 0.76008806 0.23423405 0.91807448 0.10494873 0.23688948\n",
      "  0.14430939 0.41656585 0.71888008 0.58863256 0.60028589 0.68252526\n",
      "  1.01570638 0.69508175 0.34677643 0.74865593 0.57030627 0.72426739\n",
      "  0.70974897 0.76298951 0.90530472 0.83897497 0.3450063  0.85157283\n",
      "  0.82199938 0.83694577 0.72730491 0.74195607 0.84931638 0.45739314\n",
      "  0.45118117 0.80036998 0.44932986 0.29306007 0.25885347 1.00806328\n",
      "  0.67507393 0.1990996  0.18729605 0.63545404 0.77894434 0.58882224\n",
      "  0.28283836 0.41763411 0.59090048 0.55346353 0.56503548 0.25249155\n",
      "  0.42202241 0.2439309  0.79384376 0.81826467 0.48357963 0.35369048\n",
      "  0.48795689 0.37666914 0.19835654 0.71864694 0.18251809 0.84556669\n",
      "  0.78229419 0.         0.75550104 0.77200313 0.4305696  0.8664921\n",
      "  0.81410475 0.89626755 0.55658122 0.74806775 0.94296425 0.29581817\n",
      "  0.49897157 0.46171799 0.78889918 0.83811601 0.44010195 0.95042678\n",
      "  0.82765309 0.3565605  0.84261689 0.09614229 0.85440223 0.47497469\n",
      "  0.21653978 0.8846515  0.79797055 0.56001576 0.63888285 0.45352138\n",
      "  1.08464755 0.84846137 0.81663476 0.62529728]\n",
      " [0.36742486 0.54866135 0.5812137  0.97903886 0.61980313 0.70593969\n",
      "  0.4552159  0.34908563 0.61715516 0.39461579 0.68355082 0.57673357\n",
      "  0.63967473 0.38787862 0.76045629 1.02156825 0.25226553 0.64959144\n",
      "  0.55728341 0.8302045  0.79726341 0.04068348 0.95189211 0.44811875\n",
      "  0.47879773 0.17220259 0.24733592 0.56681255 0.71369677 0.54672471\n",
      "  0.10469397 0.09777147 0.15283608 0.63878475 0.39613015 0.36003962\n",
      "  0.33162057 0.65885243 0.50012128 0.65409651 0.49669614 0.66099309\n",
      "  0.88596079 0.74068757 0.81681286 0.84777068 0.81934207 0.28971345\n",
      "  0.6422384  0.34536263 0.43720545 0.2602729  0.97701047 0.60103828\n",
      "  0.37941226 0.62348075 0.68285728 0.77625399 0.37983061 0.6865627\n",
      "  0.41132988 0.49383397 0.60044442 0.87159793 0.77174009 0.25368171\n",
      "  0.74979943 0.75550104 0.         0.31449918 0.57291075 0.57122664\n",
      "  0.43836874 0.25507591 0.19921202 0.4332949  0.34068549 0.79225422\n",
      "  0.81145626 0.39771728 0.09115247 0.09682988 0.3192725  0.70710167\n",
      "  0.22384393 0.7612434  0.66281205 0.81782128 0.76390638 0.44592207\n",
      "  0.55157803 0.14244295 0.3805574  0.21124773 0.78836026 0.31766594\n",
      "  0.67390798 0.7590626  0.48106611 1.00771662]\n",
      " [0.10471613 0.28585489 0.61507931 0.79207771 0.30790045 0.72397795\n",
      "  0.59524433 0.04054825 0.72596297 0.14713518 0.67435155 0.54132148\n",
      "  0.6301156  0.54752627 0.49174997 0.83581821 0.18950415 0.38249751\n",
      "  0.28009333 0.57701787 0.67092387 0.35297465 0.75914346 0.15655248\n",
      "  0.19391625 0.48386269 0.19818608 0.25383779 0.58744439 0.23237526\n",
      "  0.25217615 0.284373   0.16416629 0.35155936 0.09634188 0.54128352\n",
      "  0.49085802 0.3584236  0.6980863  0.7897649  0.54743934 0.35447496\n",
      "  0.64667043 0.83599903 0.89557219 0.61632545 0.54059239 0.1871698\n",
      "  0.55423081 0.46678584 0.2264823  0.48142028 0.79087905 0.54279021\n",
      "  0.53960315 0.73757522 0.38600711 0.48307379 0.5837312  0.5582344\n",
      "  0.62166712 0.4081891  0.5775958  0.61666898 0.71272644 0.56797528\n",
      "  0.46232288 0.77200313 0.31449918 0.         0.42372299 0.25680169\n",
      "  0.12387799 0.56351115 0.35346076 0.13151284 0.18270209 0.91555262\n",
      "  0.62546422 0.31138028 0.40470392 0.28834429 0.38265407 0.39260327\n",
      "  0.53826297 0.62944511 0.35484686 0.8006412  0.46219498 0.65277185\n",
      "  0.55773831 0.41465618 0.06635655 0.40841882 0.54865234 0.46586574\n",
      "  0.38568026 0.45799436 0.16701757 0.80579684]\n",
      " [0.51455998 0.23283915 0.33952582 0.40629609 0.42407087 0.39416498\n",
      "  0.47135821 0.3965724  0.50817095 0.55285739 0.32617436 0.20908794\n",
      "  0.29419973 0.47522632 0.3152902  0.44867522 0.3268301  0.25559982\n",
      "  0.61408161 0.33019027 0.24740327 0.59016563 0.38016686 0.32247272\n",
      "  0.2982268  0.67666059 0.60658196 0.41618043 0.16379793 0.43318308\n",
      "  0.58589685 0.61317176 0.46448235 0.31179734 0.47354524 0.50116943\n",
      "  0.45334328 0.36998327 0.61438053 0.59011201 0.32928088 0.5845795\n",
      "  0.35375602 0.57292859 0.60171072 0.30985309 0.38243307 0.29340788\n",
      "  0.15416269 0.39950614 0.19983557 0.5278795  0.40421533 0.18005135\n",
      "  0.47255579 0.52329979 0.36488921 0.40147175 0.55312962 0.1346772\n",
      "  0.58400753 0.11396397 0.24482657 0.36692767 0.31174298 0.77680676\n",
      "  0.36452335 0.4305696  0.57291075 0.42372299 0.         0.44490245\n",
      "  0.42036159 0.80435329 0.43122112 0.35194243 0.60628872 0.67293478\n",
      "  0.24030765 0.17774072 0.64785422 0.61608215 0.32586476 0.52015639\n",
      "  0.74898159 0.20619092 0.41205492 0.42258045 0.43096542 0.59802365\n",
      "  0.2729093  0.71441861 0.42338519 0.47835679 0.27317834 0.43265781\n",
      "  0.66697688 0.42484325 0.41047343 0.43772009]\n",
      " [0.24086914 0.21415383 0.74061214 0.70153702 0.06629588 0.82478799\n",
      "  0.78330228 0.22322984 0.88473997 0.24731305 0.76173291 0.63128023\n",
      "  0.72358583 0.7496749  0.32961162 0.74256486 0.39676603 0.252351\n",
      "  0.19682885 0.42670256 0.65916524 0.60939012 0.66539856 0.16026321\n",
      "  0.16053938 0.73960769 0.41312121 0.02948268 0.58997712 0.02469729\n",
      "  0.50443493 0.53589796 0.41978544 0.18690848 0.19082659 0.75314821\n",
      "  0.69931602 0.15275986 0.90559496 0.95900158 0.69384604 0.14176308\n",
      "  0.50739284 0.97772916 1.02236222 0.49185704 0.35275742 0.37278987\n",
      "  0.59890172 0.66278965 0.2832241  0.71296688 0.70138441 0.61475457\n",
      "  0.74283461 0.89841593 0.1841632  0.27393377 0.8012385  0.56460315\n",
      "  0.8392705  0.49342731 0.66999776 0.45850389 0.75584113 0.82477095\n",
      "  0.26847882 0.8664921  0.57122664 0.25680169 0.44490245 0.\n",
      "  0.1331787  0.81944826 0.58127493 0.15414245 0.33996637 1.06953486\n",
      "  0.55709565 0.43425536 0.66150413 0.53988931 0.56946164 0.13612232\n",
      "  0.79503696 0.61891015 0.12320392 0.86707101 0.23580902 0.86698039\n",
      "  0.6741422  0.66654931 0.19127907 0.64009868 0.42323771 0.67320061\n",
      "  0.22258365 0.23358346 0.09059757 0.69694742]\n",
      " [0.12682613 0.22441307 0.67122225 0.7440867  0.18797046 0.76875338\n",
      "  0.68416584 0.09313563 0.80060824 0.1506013  0.71160793 0.57754379\n",
      "  0.66982524 0.64358243 0.4057993  0.78710392 0.28251089 0.30482906\n",
      "  0.20176694 0.4983118  0.6585034  0.47682188 0.70920854 0.09850844\n",
      "  0.12983006 0.60752547 0.29055619 0.13305755 0.58023064 0.10899158\n",
      "  0.37198026 0.40367858 0.2876362  0.25790797 0.07239119 0.64250084\n",
      "  0.58986827 0.25077634 0.79786138 0.87025905 0.6136255  0.238736\n",
      "  0.57419771 0.90271598 0.95511808 0.54986489 0.44529267 0.26580584\n",
      "  0.56735646 0.55875665 0.22639457 0.59286039 0.74336009 0.56967271\n",
      "  0.6361791  0.81337958 0.28091395 0.37815483 0.68819182 0.55216786\n",
      "  0.72635785 0.43804349 0.61583301 0.53535784 0.7281554  0.69178006\n",
      "  0.36278641 0.81410475 0.43836874 0.12387799 0.42036159 0.1331787\n",
      "  0.         0.68631955 0.46204735 0.0684908  0.23344764 0.98899334\n",
      "  0.58495975 0.35803682 0.52846083 0.40767139 0.46829179 0.26875074\n",
      "  0.66210052 0.6167764  0.23899419 0.82890468 0.35042762 0.75582742\n",
      "  0.60817826 0.5343929  0.05810454 0.51955619 0.48013579 0.5640451\n",
      "  0.28648935 0.34688103 0.04568986 0.74948332]\n",
      " [0.59903699 0.80280334 0.7300324  1.20868939 0.87114928 0.85030379\n",
      "  0.54877368 0.60027363 0.7069301  0.61769989 0.84634369 0.76415652\n",
      "  0.80700868 0.48209724 1.01383765 1.24994972 0.49946107 0.90340942\n",
      "  0.77815986 1.08063455 1.00918876 0.22390848 1.18411174 0.70272541\n",
      "  0.73381075 0.13590286 0.44385435 0.81732671 0.92958827 0.79530489\n",
      "  0.31772659 0.28835042 0.40663757 0.89385087 0.63633582 0.4423072\n",
      "  0.44558262 0.91341365 0.52361189 0.71519605 0.64806409 0.8969042\n",
      "  1.13285847 0.82615575 0.90811673 1.09321672 1.07363979 0.53737552\n",
      "  0.84729446 0.48536273 0.68819226 0.34282067 1.20640387 0.79663496\n",
      "  0.47580642 0.70792065 0.93775278 1.03132702 0.42988914 0.90467154\n",
      "  0.44315326 0.71117325 0.77903451 1.12204221 0.95429189 0.06081827\n",
      "  1.0047986  0.89626755 0.25507591 0.56351115 0.80435329 0.81944826\n",
      "  0.68631955 0.         0.38026481 0.68678171 0.5435011  0.84857683\n",
      "  1.04464334 0.62664621 0.16511333 0.28448781 0.50461546 0.95420676\n",
      "  0.06910545 0.97696603 0.91594984 0.97433695 1.01847301 0.4720436\n",
      "  0.72064292 0.16554006 0.62822271 0.3497739  1.03647919 0.4464957\n",
      "  0.89621134 1.01369855 0.73042295 1.24207008]\n",
      " [0.44455302 0.48441712 0.38239844 0.83124259 0.61226372 0.50716533\n",
      "  0.26929094 0.37092802 0.42569912 0.4829296  0.48760587 0.38939824\n",
      "  0.44463246 0.20812339 0.68058282 0.87184578 0.18541394 0.57707452\n",
      "  0.63245115 0.73236934 0.62897397 0.19352978 0.80808789 0.42796505\n",
      "  0.44607094 0.24767554 0.39273334 0.56712784 0.54944177 0.55722107\n",
      "  0.27739768 0.28625509 0.22044021 0.58780047 0.44973602 0.19252929\n",
      "  0.14864065 0.62383906 0.34849821 0.47166647 0.29772795 0.70076624\n",
      "  0.77440437 0.54798755 0.62180928 0.73242806 0.74610838 0.21518266\n",
      "  0.46753387 0.14886183 0.35837484 0.13170874 0.82884988 0.41891858\n",
      "  0.19954924 0.43352391 0.64064402 0.72286681 0.2310333  0.52483066\n",
      "  0.26868879 0.3321225  0.40903521 0.77307564 0.58326948 0.34709858\n",
      "  0.69063955 0.55658122 0.19921202 0.35346076 0.43122112 0.58127493\n",
      "  0.46204735 0.38026481 0.         0.42740825 0.4635149  0.60767555\n",
      "  0.67005278 0.25649412 0.24039453 0.28679996 0.12706695 0.71309103\n",
      "  0.32033068 0.59676254 0.64161369 0.62116811 0.72430921 0.30060884\n",
      "  0.35629609 0.33048844 0.41318303 0.05955288 0.68238535 0.12822502\n",
      "  0.73897726 0.7186205  0.49418604 0.86712395]\n",
      " [0.1787674  0.16561783 0.60849741 0.684221   0.18930577 0.70326593\n",
      "  0.63349607 0.09105618 0.74299505 0.21024189 0.64506623 0.51125524\n",
      "  0.60376044 0.5972756  0.36278569 0.72756478 0.2426455  0.25575302\n",
      "  0.26792881 0.45104351 0.59110572 0.46932438 0.64987861 0.03214393\n",
      "  0.06875892 0.596687   0.32404423 0.14033035 0.51224432 0.13054701\n",
      "  0.38148133 0.41383504 0.28051929 0.22030096 0.12852752 0.59962418\n",
      "  0.54598238 0.22828845 0.75289425 0.81467013 0.5541068  0.28359482\n",
      "  0.52378105 0.84207249 0.89234714 0.49643782 0.40958663 0.21917156\n",
      "  0.49897634 0.51088942 0.15854143 0.55911696 0.68334504 0.50222708\n",
      "  0.59026122 0.75614749 0.2550352  0.35180163 0.64735687 0.48406187\n",
      "  0.68542617 0.37152674 0.54971183 0.48978565 0.65975015 0.6861948\n",
      "  0.33082595 0.74806775 0.4332949  0.13151284 0.35194243 0.15414245\n",
      "  0.0684908  0.68678171 0.42740825 0.         0.28359952 0.93031545\n",
      "  0.52246139 0.29585532 0.52444292 0.4177694  0.41832131 0.2863087\n",
      "  0.65611209 0.54933281 0.2295292  0.76115849 0.33289961 0.71344453\n",
      "  0.54440703 0.5431888  0.08717713 0.48640508 0.4273585  0.5198981\n",
      "  0.34365891 0.32843354 0.0731683  0.69248236]\n",
      " [0.106724   0.44918174 0.77962805 0.96608137 0.40502336 0.89396944\n",
      "  0.72790424 0.21173958 0.87286858 0.09315898 0.84845127 0.71719607\n",
      "  0.80356755 0.6708874  0.63921687 1.00962105 0.34415082 0.53670386\n",
      "  0.23757439 0.73116824 0.8533228  0.38058266 0.93219736 0.31504248\n",
      "  0.35235831 0.50654177 0.099833   0.35248863 0.77005524 0.3214494\n",
      "  0.24000216 0.26207317 0.24312768 0.49130213 0.16105645 0.65552728\n",
      "  0.61156018 0.48015988 0.80971354 0.92891412 0.70593087 0.37061284\n",
      "  0.80596879 0.98901214 1.05404502 0.77976171 0.67779759 0.35441099\n",
      "  0.73588872 0.60000265 0.40804902 0.57442769 0.96508067 0.72168232\n",
      "  0.66240149 0.88303366 0.51119211 0.60723202 0.68943566 0.74086386\n",
      "  0.72541743 0.58767036 0.75225769 0.76859898 0.89340634 0.5672054\n",
      "  0.59451947 0.94296425 0.34068549 0.18270209 0.60628872 0.33996637\n",
      "  0.23344764 0.5435011  0.4635149  0.28359952 0.         1.06091603\n",
      "  0.80180358 0.48762895 0.41342971 0.26543865 0.52841049 0.45628356\n",
      "  0.54084167 0.81176864 0.46085251 0.97739525 0.57422256 0.75905868\n",
      "  0.72674301 0.37830729 0.19668918 0.50723869 0.71044187 0.58929057\n",
      "  0.354736   0.57145356 0.27448054 0.9758472 ]\n",
      " [1.01881658 0.88345353 0.33532269 0.86415957 1.06984414 0.30338664\n",
      "  0.33876568 0.91585973 0.18959104 1.06069165 0.37186606 0.46403689\n",
      "  0.38742872 0.40449604 0.98256027 0.88391243 0.72667837 0.92755\n",
      "  1.1866606  0.97242334 0.64016551 0.77080228 0.86580935 0.9134246\n",
      "  0.90906467 0.73357867 0.99884308 1.04508153 0.62669519 1.05055418\n",
      "  0.88304446 0.88753919 0.82106644 0.97813864 1.00607903 0.43350496\n",
      "  0.46209593 1.0340042  0.32567285 0.13842566 0.37632775 1.20953837\n",
      "  0.96118481 0.10237177 0.12770604 0.91975972 1.04678323 0.73032422\n",
      "  0.54744226 0.46237875 0.78651485 0.53841878 0.86084882 0.49791543\n",
      "  0.41302064 0.17827466 1.03362413 1.07411363 0.42598141 0.6293109\n",
      "  0.40649178 0.58556621 0.43008893 0.99979752 0.47777838 0.78947829\n",
      "  1.03722734 0.29581817 0.79225422 0.91555262 0.67293478 1.06953486\n",
      "  0.98899334 0.84857683 0.60767555 0.93031545 1.06091603 0.\n",
      "  0.78730668 0.63590835 0.79183829 0.88736999 0.53454723 1.17341123\n",
      "  0.78131137 0.64558356 1.07153366 0.37953048 1.10344486 0.37655521\n",
      "  0.40331662 0.89219088 0.95825774 0.58136563 0.91454176 0.47973059\n",
      "  1.27382233 1.09728938 1.00319059 0.92110175]\n",
      " [0.70016415 0.36114713 0.4893729  0.16930268 0.51055944 0.48396333\n",
      "  0.66898282 0.59120194 0.65892852 0.73267224 0.41600028 0.36338066\n",
      "  0.40860546 0.68787787 0.2735133  0.21285232 0.56199641 0.30610551\n",
      "  0.75070944 0.21248698 0.15887717 0.82991377 0.14044664 0.49031794\n",
      "  0.45549079 0.91644453 0.81989024 0.52829719 0.16423153 0.55544916\n",
      "  0.81729641 0.84599894 0.69492752 0.37504585 0.65098024 0.71913296\n",
      "  0.67623621 0.42662363 0.81036452 0.73967073 0.51447555 0.6770019\n",
      "  0.17663007 0.68544219 0.68626709 0.13984536 0.31413038 0.52651545\n",
      "  0.25772678 0.62186507 0.40298308 0.75943243 0.1676508  0.3199417\n",
      "  0.68683644 0.67376012 0.4045079  0.38086056 0.76896904 0.17163017\n",
      "  0.7957524  0.34116346 0.38209914 0.22630308 0.32131257 1.01649144\n",
      "  0.35243809 0.49897157 0.81145626 0.62546422 0.24030765 0.55709565\n",
      "  0.58495975 1.04464334 0.67005278 0.52246139 0.80180358 0.78730668\n",
      "  0.         0.41804779 0.88785542 0.84912313 0.5587444  0.5778069\n",
      "  0.9888801  0.14243372 0.47290412 0.44338714 0.43022913 0.80412334\n",
      "  0.43704201 0.95213666 0.60671165 0.71485103 0.16762737 0.65833428\n",
      "  0.77012507 0.42562209 0.55939746 0.19743388]\n",
      " [0.41456643 0.26809008 0.31318654 0.5833766  0.4402791  0.41450834\n",
      "  0.36080467 0.29839803 0.45048645 0.45659632 0.36300977 0.23006702\n",
      "  0.318961   0.34281828 0.43770733 0.62535589 0.16253097 0.3440264\n",
      "  0.55930126 0.47991542 0.40286137 0.41318916 0.55781511 0.27758914\n",
      "  0.27431361 0.49969492 0.46562011 0.41073552 0.31806079 0.4147909\n",
      "  0.42094794 0.44585905 0.30370862 0.37285068 0.38797517 0.35923323\n",
      "  0.30635006 0.42116013 0.49571124 0.52540675 0.25974002 0.57368136\n",
      "  0.51840174 0.54633926 0.59709308 0.47612834 0.50534362 0.13751823\n",
      "  0.25826518 0.25720856 0.15324629 0.36427079 0.5812133  0.23495428\n",
      "  0.33789073 0.4641987  0.42949874 0.49695514 0.41174871 0.29014267\n",
      "  0.44683933 0.10433481 0.26622706 0.51997889 0.40909465 0.59991294\n",
      "  0.46171926 0.46171799 0.39771728 0.31138028 0.17774072 0.43425536\n",
      "  0.35803682 0.62664621 0.25649412 0.29585532 0.48762895 0.63590835\n",
      "  0.41804779 0.         0.47049398 0.44844079 0.16807103 0.54536633\n",
      "  0.57181867 0.36524655 0.45140857 0.4899484  0.50990919 0.46757035\n",
      "  0.2507784  0.53993693 0.33688948 0.30747169 0.42795356 0.28215283\n",
      "  0.63933884 0.50380134 0.36812886 0.61545117]\n",
      " [0.45186575 0.63769009 0.61634363 1.05386746 0.7107413  0.74045576\n",
      "  0.46378489 0.43987705 0.62761485 0.47603002 0.72597505 0.62959312\n",
      "  0.68376253 0.39449385 0.84880312 1.09581687 0.3356765  0.73831226\n",
      "  0.63880993 0.91641259 0.86301239 0.05924548 1.02798776 0.53916135\n",
      "  0.56954923 0.0944741  0.31526841 0.6575877  0.78110407 0.63707091\n",
      "  0.17403373 0.15219148 0.24395649 0.72915391 0.48376137 0.36023923\n",
      "  0.34475838 0.74988367 0.48191663 0.6537006  0.53175131 0.74786042\n",
      "  0.96998107 0.75108687 0.83032631 0.93091365 0.90852753 0.37356198\n",
      "  0.70402557 0.37140207 0.5236253  0.25403357 1.05170723 0.65799741\n",
      "  0.38665022 0.63187369 0.77371405 0.86677607 0.36741445 0.75497642\n",
      "  0.39310405 0.56093742 0.64935272 0.95782704 0.82365911 0.16338285\n",
      "  0.83993572 0.78889918 0.09115247 0.40470392 0.64785422 0.66150413\n",
      "  0.52846083 0.16511333 0.24039453 0.52444292 0.41342971 0.79183829\n",
      "  0.88785542 0.47049398 0.         0.1491703  0.36734845 0.79719366\n",
      "  0.13396007 0.82872479 0.75395518 0.85845587 0.8549272  0.42689957\n",
      "  0.59555981 0.10046512 0.47049335 0.22905307 0.87307391 0.33721105\n",
      "  0.75634287 0.85005889 0.57154813 1.08496853]\n",
      " [0.31458904 0.55444044 0.66405234 1.01825436 0.59502375 0.78819591\n",
      "  0.54942806 0.32759181 0.71014751 0.33388385 0.76086182 0.64685076\n",
      "  0.71616584 0.48288168 0.76673174 1.06152341 0.28936022 0.65536815\n",
      "  0.49551177 0.84410826 0.85128272 0.12866605 0.98903654 0.43849781\n",
      "  0.47319356 0.2434221  0.16645563 0.54037909 0.76633663 0.51625896\n",
      "  0.0362898  0.0039929  0.15531883 0.63437506 0.35334951 0.45615424\n",
      "  0.42570151 0.64597306 0.59691557 0.74944503 0.58043503 0.61244784\n",
      "  0.90607011 0.83329132 0.90821348 0.87053735 0.82096044 0.32312644\n",
      "  0.70259078 0.43535196 0.45655248 0.35709316 1.016466   0.66700486\n",
      "  0.47434999 0.71700908 0.67270075 0.76900522 0.47665956 0.73813656\n",
      "  0.50806322 0.55009099 0.67362974 0.88509566 0.84079041 0.30259119\n",
      "  0.74604428 0.83811601 0.09682988 0.28834429 0.61608215 0.53988931\n",
      "  0.40767139 0.28448781 0.28679996 0.4177694  0.26543865 0.88736999\n",
      "  0.84912313 0.44844079 0.1491703  0.         0.39824923 0.6730865\n",
      "  0.27565337 0.8133109  0.64311643 0.89549441 0.7502259  0.54265345\n",
      "  0.62905792 0.12672152 0.35008716 0.30601463 0.80732432 0.41024277\n",
      "  0.61354191 0.74591328 0.45280705 1.04236203]\n",
      " [0.48487134 0.43003722 0.2664997  0.71513245 0.58726791 0.39011133\n",
      "  0.2158772  0.38705958 0.34538618 0.52651455 0.36432385 0.2623313\n",
      "  0.32041087 0.18164308 0.6057167  0.75461225 0.1931505  0.5112325\n",
      "  0.65887199 0.64489347 0.50568005 0.31873599 0.69401808 0.409313\n",
      "  0.41692306 0.37000784 0.475042   0.54994063 0.42838803 0.54726449\n",
      "  0.38202862 0.39699372 0.29472128 0.53568532 0.47563893 0.19273146\n",
      "  0.13898719 0.58034332 0.33763681 0.40711399 0.18446882 0.70173604\n",
      "  0.67794809 0.46064561 0.52743256 0.63456999 0.67340553 0.20262306\n",
      "  0.34296511 0.0940804  0.30670023 0.20201642 0.71259208 0.2924218\n",
      "  0.17549779 0.35627273 0.59164117 0.66339629 0.24481481 0.40523594\n",
      "  0.28084993 0.21758625 0.28261821 0.68427347 0.4563638  0.46750007\n",
      "  0.62862218 0.44010195 0.3192725  0.38265407 0.32586476 0.56946164\n",
      "  0.46829179 0.50461546 0.12706695 0.41832131 0.52841049 0.53454723\n",
      "  0.5587444  0.16807103 0.36734845 0.39824923 0.         0.69198941\n",
      "  0.44222963 0.47517542 0.60622661 0.49871939 0.6735802  0.30395404\n",
      "  0.23231832 0.4555339  0.43031151 0.15850924 0.59121484 0.11424726\n",
      "  0.75450694 0.6675572  0.49075301 0.75409248]\n",
      " [0.36601208 0.29162145 0.83973681 0.69999088 0.10521621 0.91231342\n",
      "  0.90249346 0.35934785 0.99278724 0.36360776 0.84570327 0.72108305\n",
      "  0.81120763 0.8734551  0.31408934 0.73741225 0.52778128 0.28139208\n",
      "  0.2583378  0.40599604 0.70331403 0.74540866 0.6638108  0.2860192\n",
      "  0.27510215 0.87572232 0.5384413  0.14604553 0.64519327 0.16078679\n",
      "  0.63802873 0.66910469 0.55587562 0.21368682 0.32050772 0.8796103\n",
      "  0.82539415 0.15564444 1.02955739 1.06975544 0.80142705 0.1223096\n",
      "  0.4866497  1.07813236 1.11628974 0.48303149 0.3096905  0.50119743\n",
      "  0.67233254 0.78599646 0.39218459 0.84473137 0.70048072 0.69841915\n",
      "  0.86699822 1.00699052 0.17356959 0.22260402 0.92886986 0.62332187\n",
      "  0.96667287 0.5889257  0.75914092 0.42809666 0.8213128  0.96052653\n",
      "  0.23622553 0.95042678 0.70710167 0.39260327 0.52015639 0.13612232\n",
      "  0.26875074 0.95420676 0.71309103 0.2863087  0.45628356 1.17341123\n",
      "  0.5778069  0.54536633 0.79719366 0.6730865  0.69198941 0.\n",
      "  0.93085106 0.66600068 0.10982717 0.93918179 0.1704252  0.99322315\n",
      "  0.77198615 0.79945664 0.32670625 0.77230145 0.42137562 0.79928285\n",
      "  0.21351666 0.17192041 0.22670542 0.68424193]\n",
      " [0.58495614 0.76211542 0.66215165 1.15130231 0.84339475 0.78190618\n",
      "  0.47967212 0.57287271 0.6379573  0.60779765 0.77906033 0.69971373\n",
      "  0.74021239 0.4130798  0.97109697 1.19207672 0.45409631 0.86173117\n",
      "  0.77023238 1.03417098 0.94779859 0.18679019 1.12763637 0.66947323\n",
      "  0.6985709  0.07265618 0.44132795 0.79058042 0.86932964 0.77055102\n",
      "  0.30465979 0.27915778 0.37626728 0.85664387 0.61765631 0.37322886\n",
      "  0.37737115 0.87987523 0.45705268 0.64724749 0.58067259 0.88152269\n",
      "  1.08345933 0.75744511 0.8393342  1.04297473 1.03258332 0.49176723\n",
      "  0.78518509 0.41833504 0.64380874 0.27436139 1.14893981 0.73319051\n",
      "  0.40684187 0.63906199 0.90282511 0.99454164 0.36112952 0.84502814\n",
      "  0.37527813 0.65242546 0.71345165 1.07549642 0.88855138 0.03018321\n",
      "  0.96656182 0.82765309 0.22384393 0.53826297 0.74898159 0.79503696\n",
      "  0.66210052 0.06910545 0.32033068 0.65611209 0.54084167 0.78131137\n",
      "  0.9888801  0.57181867 0.13396007 0.27565337 0.44222963 0.93085106\n",
      "  0.         0.91649717 0.88557703 0.90636234 0.98476901 0.40480336\n",
      "  0.65434923 0.17628679 0.60420205 0.28537408 0.98819782 0.37912541\n",
      "  0.88807533 0.97976414 0.70490911 1.18623545]\n",
      " [0.71798826 0.40674124 0.35819059 0.2502076  0.5839021  0.34220971\n",
      "  0.55094036 0.6011198  0.52374635 0.75514972 0.27528089 0.242705\n",
      "  0.27210295 0.57887748 0.38646435 0.28527394 0.5249     0.38462943\n",
      "  0.8020671  0.34492556 0.04181502 0.77343253 0.23812909 0.51830477\n",
      "  0.4891974  0.84395565 0.81241025 0.58942868 0.04763052 0.61188009\n",
      "  0.78488624 0.81064184 0.66516085 0.45321909 0.67464348 0.61362501\n",
      "  0.57633557 0.51041978 0.68876221 0.60318095 0.39547248 0.75113029\n",
      "  0.31862895 0.54398495 0.54385592 0.27983242 0.43836048 0.49411891\n",
      "  0.13811846 0.52302988 0.4040031  0.66813559 0.24724794 0.19992641\n",
      "  0.57909895 0.53828712 0.49452556 0.4928061  0.66067151 0.07517546\n",
      "  0.68386562 0.26793088 0.25335992 0.36462056 0.18069735 0.94234778\n",
      "  0.45994278 0.3565605  0.7612434  0.62944511 0.20619092 0.61891015\n",
      "  0.6167764  0.97696603 0.59676254 0.54933281 0.81176864 0.64558356\n",
      "  0.14243372 0.36524655 0.82872479 0.8133109  0.47517542 0.66600068\n",
      "  0.91649717 0.         0.5567114  0.3044013  0.53713306 0.68831122\n",
      "  0.31350241 0.90368631 0.62562055 0.63364169 0.29216085 0.56186005\n",
      "  0.8401465  0.53179795 0.600684   0.29900024]\n",
      " [0.35865806 0.18817177 0.736756   0.60330342 0.05692428 0.80536825\n",
      "  0.81172984 0.31635998 0.89354489 0.36898412 0.73810307 0.61534294\n",
      "  0.70454326 0.7876481  0.21986212 0.64242471 0.4573621  0.17215813\n",
      "  0.3097035  0.31614243 0.59439236 0.69878774 0.56696495 0.21797249\n",
      "  0.19556841 0.82547915 0.52847287 0.10858084 0.53540787 0.13946347\n",
      "  0.60699458 0.63913854 0.51000902 0.10388368 0.30594753 0.79720793\n",
      "  0.7428345  0.04660999 0.9431461  0.97187113 0.70276535 0.20622747\n",
      "  0.39770707 0.97494592 1.0107088  0.38806476 0.2329144  0.42651753\n",
      "  0.5633878  0.70014086 0.30040096 0.77195259 0.60353063 0.59117841\n",
      "  0.78169031 0.90800079 0.07084    0.1512799  0.84787367 0.51349679\n",
      "  0.88512244 0.4859942  0.65305713 0.34419041 0.7115609  0.9156752\n",
      "  0.14997343 0.84261689 0.66281205 0.35484686 0.41205492 0.12320392\n",
      "  0.23899419 0.91594984 0.64161369 0.2295292  0.46085251 1.07153366\n",
      "  0.47290412 0.45140857 0.75395518 0.64311643 0.60622661 0.10982717\n",
      "  0.88557703 0.5567114  0.         0.82974735 0.11337136 0.90987897\n",
      "  0.66878553 0.76950289 0.29439148 0.70116285 0.3226843  0.71692927\n",
      "  0.30082411 0.11073864 0.19338304 0.59249592]\n",
      " [0.90248038 0.65534691 0.24433818 0.49090292 0.84591585 0.12860082\n",
      "  0.44224719 0.784219   0.32999395 0.94396378 0.13463261 0.26025237\n",
      "  0.17952776 0.49997732 0.6848546  0.50718719 0.64061928 0.66294915\n",
      "  1.02857281 0.64927741 0.28519093 0.81466468 0.49692144 0.73478225\n",
      "  0.71573397 0.83959522 0.94851    0.8385372  0.3050505  0.85444181\n",
      "  0.87648305 0.89398842 0.77436458 0.72671734 0.87098612 0.54092076\n",
      "  0.52904421 0.78549217 0.54354951 0.38872661 0.32755265 1.00713544\n",
      "  0.61964271 0.28869193 0.25957029 0.58287968 0.74051879 0.62407773\n",
      "  0.26842596 0.49034149 0.60262571 0.63223935 0.48760019 0.25970268\n",
      "  0.50469881 0.33996137 0.77530241 0.7885064  0.57093293 0.32087966\n",
      "  0.57795451 0.39381253 0.2264832  0.66851671 0.12432833 0.92574336\n",
      "  0.75378082 0.09614229 0.81782128 0.8006412  0.42258045 0.86707101\n",
      "  0.82890468 0.97433695 0.62116811 0.76115849 0.97739525 0.37953048\n",
      "  0.44338714 0.4899484  0.85845587 0.89549441 0.49871939 0.93918179\n",
      "  0.90636234 0.3044013  0.82974735 0.         0.82881711 0.56688908\n",
      "  0.26657242 0.95154906 0.81933503 0.6313956  0.59574448 0.52826238\n",
      "  1.08852656 0.82311084 0.82612988 0.54869192]\n",
      " [0.47174664 0.24364867 0.76879356 0.53708102 0.16969128 0.82201273\n",
      "  0.86883673 0.42263753 0.93352713 0.48231073 0.75228531 0.64001457\n",
      "  0.72380397 0.85239104 0.15694889 0.57271075 0.54425743 0.17597924\n",
      "  0.4134051  0.24056403 0.57052431 0.79841531 0.50132371 0.3157925\n",
      "  0.2864331  0.92221285 0.64073406 0.22185024 0.52513589 0.25282328\n",
      "  0.71396659 0.74627225 0.61184947 0.13799871 0.41869521 0.86630097\n",
      "  0.8123423  0.10506203 1.00557367 1.01420178 0.74637389 0.29068807\n",
      "  0.31948324 1.00382529 1.03121486 0.32065882 0.13983918 0.5103835\n",
      "  0.57156517 0.76590108 0.3691371  0.85190316 0.53783855 0.60969504\n",
      "  0.84718008 0.94842851 0.08369513 0.05342566 0.9181892  0.50794046\n",
      "  0.95443012 0.52331748 0.67564939 0.25912731 0.70623274 1.0149477\n",
      "  0.07798551 0.85440223 0.76390638 0.46219498 0.43096542 0.23580902\n",
      "  0.35042762 1.01847301 0.72430921 0.33289961 0.57422256 1.10344486\n",
      "  0.43022913 0.50990919 0.8549272  0.7502259  0.6735802  0.1704252\n",
      "  0.98476901 0.53713306 0.11337136 0.82881711 0.         0.97671906\n",
      "  0.70120174 0.87598842 0.40431241 0.78342917 0.26527988 0.7870125\n",
      "  0.38364272 0.00620653 0.30514702 0.5174403 ]\n",
      " [0.74516045 0.73349171 0.34579237 0.93845212 0.88912976 0.43872869\n",
      "  0.13774466 0.66724373 0.25164212 0.78336735 0.46350645 0.44569169\n",
      "  0.43878819 0.1250536  0.89995607 0.97200759 0.47341054 0.811223\n",
      "  0.93250375 0.92780963 0.7058999  0.41690283 0.9252998  0.70814442\n",
      "  0.71883925 0.35972609 0.67969671 0.84935124 0.64845059 0.84387264\n",
      "  0.54671595 0.54368962 0.51797543 0.83902929 0.74910279 0.11383307\n",
      "  0.16784623 0.88428579 0.05502741 0.24432269 0.29285006 0.99377708\n",
      "  0.9486699  0.36106021 0.44336188 0.90429017 0.9681938  0.49428812\n",
      "  0.55172057 0.21082667 0.61065411 0.18701632 0.93546047 0.48888324\n",
      "  0.12968007 0.24843522 0.89521895 0.96445588 0.06981466 0.63408626\n",
      "  0.03459224 0.48424037 0.43827162 0.96494618 0.59198722 0.41315898\n",
      "  0.92902778 0.47497469 0.44592207 0.65277185 0.59802365 0.86698039\n",
      "  0.75582742 0.4720436  0.30060884 0.71344453 0.75905868 0.37655521\n",
      "  0.80412334 0.46757035 0.42689957 0.54265345 0.30395404 0.99322315\n",
      "  0.40480336 0.68831122 0.90987897 0.56688908 0.97671906 0.\n",
      "  0.37566152 0.52557421 0.71024076 0.25188559 0.8711744  0.1939704\n",
      "  1.03723445 0.97065666 0.78389115 0.98650731]\n",
      " [0.66213457 0.48099002 0.0680222  0.56324878 0.66944566 0.16724359\n",
      "  0.23796241 0.54808916 0.23574481 0.70446722 0.1320335  0.07382051\n",
      "  0.08833924 0.27298361 0.58731734 0.59636986 0.38375095 0.52522549\n",
      "  0.80975602 0.59067504 0.33027079 0.54971157 0.5513951  0.52344659\n",
      "  0.51407058 0.58478691 0.68915687 0.64829553 0.27595493 0.65682415\n",
      "  0.61063816 0.62759727 0.51195801 0.57482416 0.63821468 0.31106732\n",
      "  0.28392448 0.63076886 0.37544645 0.3180027  0.08380431 0.81558392\n",
      "  0.59563504 0.3062269  0.34860881 0.55165869 0.65365672 0.37303066\n",
      "  0.17966508 0.23674776 0.39183054 0.38509789 0.56022243 0.11710134\n",
      "  0.27475352 0.25092773 0.63038122 0.67396244 0.35376728 0.26543866\n",
      "  0.37350595 0.18306441 0.0637068  0.62310773 0.23493572 0.67627625\n",
      "  0.63698349 0.21653978 0.55157803 0.55773831 0.2729093  0.6741422\n",
      "  0.60817826 0.72064292 0.35629609 0.54440703 0.72674301 0.40331662\n",
      "  0.43704201 0.2507784  0.59555981 0.62905792 0.23231832 0.77198615\n",
      "  0.65434923 0.31350241 0.66878553 0.26657242 0.70120174 0.37566152\n",
      "  0.         0.68669487 0.58738227 0.37213618 0.53213709 0.27667155\n",
      "  0.88628424 0.69502318 0.61543871 0.61241737]\n",
      " [0.43867663 0.67457551 0.71119853 1.12019969 0.7216972  0.83575905\n",
      "  0.56392064 0.45354598 0.72777279 0.45473306 0.81809425 0.71595915\n",
      "  0.77503244 0.49466744 0.88723422 1.16290173 0.39076314 0.77581242\n",
      "  0.61391295 0.96155215 0.93966436 0.1369837  1.0925745  0.5628199\n",
      "  0.5966665  0.17518352 0.27889487 0.66708017 0.85613921 0.642958\n",
      "  0.16258933 0.13071433 0.27136056 0.75801722 0.47932228 0.46067821\n",
      "  0.4440493  0.77147587 0.58051057 0.75410338 0.62640889 0.73598053\n",
      "  1.02051362 0.85132492 0.93034299 0.98346357 0.94318318 0.427381\n",
      "  0.7841056  0.4681681  0.57013408 0.35449689 1.11821892 0.74169712\n",
      "  0.48675897 0.73217722 0.7977456  0.89357849 0.4673331  0.82899598\n",
      "  0.49209624 0.63623853 0.73807341 1.00278994 0.91087185 0.19749736\n",
      "  0.86972718 0.8846515  0.14244295 0.41465618 0.71441861 0.66654931\n",
      "  0.5343929  0.16554006 0.33048844 0.5431888  0.37830729 0.89219088\n",
      "  0.95213666 0.53993693 0.10046512 0.12672152 0.4555339  0.79945664\n",
      "  0.17628679 0.90368631 0.76950289 0.95154906 0.87598842 0.52557421\n",
      "  0.68669487 0.         0.47679017 0.32651194 0.92221785 0.43531624\n",
      "  0.73185779 0.87158883 0.57951602 1.14780488]\n",
      " [0.09358289 0.25255727 0.64800922 0.76990271 0.24498249 0.75122774\n",
      "  0.64540353 0.04340982 0.76897189 0.1295814  0.6974354  0.56324935\n",
      "  0.65433826 0.60127203 0.44802231 0.81336674 0.23948722 0.3423519\n",
      "  0.22884284 0.53755811 0.6674229  0.41921433 0.73582565 0.11836444\n",
      "  0.15584888 0.55020169 0.24018028 0.19029193 0.58632141 0.16708221\n",
      "  0.31427069 0.34609572 0.23051606 0.30283168 0.05165143 0.59766108\n",
      "  0.5459983  0.30244403 0.7539693  0.83593184 0.58545693 0.28982986\n",
      "  0.61082916 0.8750809  0.93100774 0.58361134 0.49202331 0.22863192\n",
      "  0.56382308 0.51818571 0.22384132 0.54281236 0.76895535 0.55970574\n",
      "  0.59359955 0.78121287 0.3315286  0.42906177 0.6418122  0.55755313\n",
      "  0.67991194 0.42566401 0.60079566 0.5759461  0.72429719 0.63384147\n",
      "  0.41117155 0.79797055 0.3805574  0.06635655 0.42338519 0.19127907\n",
      "  0.05810454 0.62822271 0.41318303 0.08717713 0.19668918 0.95825774\n",
      "  0.60671165 0.33688948 0.47049335 0.35008716 0.43031151 0.32670625\n",
      "  0.60420205 0.62562055 0.29439148 0.81933503 0.40431241 0.71024076\n",
      "  0.58738227 0.47679017 0.         0.46955201 0.51452981 0.52051171\n",
      "  0.32714283 0.40047164 0.10273238 0.77916163]\n",
      " [0.49610227 0.54293839 0.38812856 0.87305914 0.67169784 0.51179992\n",
      "  0.24397769 0.42777677 0.40637648 0.53326142 0.50034823 0.41450216\n",
      "  0.45948303 0.17687035 0.73698309 0.91280952 0.24481221 0.63459977\n",
      "  0.68584606 0.78624699 0.66375094 0.19398339 0.8513215  0.48738699\n",
      "  0.50562295 0.21402702 0.42992693 0.62629698 0.58689435 0.61595836\n",
      "  0.30333605 0.30622729 0.26633339 0.64669218 0.50435271 0.15199107\n",
      "  0.12051017 0.68321893 0.30269858 0.4434461  0.30392648 0.75811676\n",
      "  0.82576194 0.53007438 0.60716224 0.78324804 0.80296566 0.27470731\n",
      "  0.50061519 0.14239692 0.4166864  0.07331506 0.87055514 0.44785602\n",
      "  0.16834848 0.4123943  0.69979035 0.78132954 0.18220127 0.56367163\n",
      "  0.2185198  0.37420989 0.42949405 0.82668    0.6047921  0.30974988\n",
      "  0.74880924 0.56001576 0.21124773 0.40841882 0.47835679 0.64009868\n",
      "  0.51955619 0.3497739  0.05955288 0.48640508 0.50723869 0.58136563\n",
      "  0.71485103 0.30747169 0.22905307 0.30601463 0.15850924 0.77230145\n",
      "  0.28537408 0.63364169 0.70116285 0.6313956  0.78342917 0.25188559\n",
      "  0.37213618 0.32651194 0.46955201 0.         0.73519496 0.10892967\n",
      "  0.79406608 0.7777167  0.55255857 0.91106388]\n",
      " [0.60437606 0.26319559 0.59401513 0.28066738 0.36800357 0.61570425\n",
      "  0.74391432 0.5099499  0.76629954 0.63069345 0.5451411  0.46051695\n",
      "  0.52729923 0.74807648 0.10871804 0.32034928 0.53739843 0.17618083\n",
      "  0.62006622 0.0585574  0.3190277  0.81383394 0.24432645 0.39674872\n",
      "  0.35886176 0.91787684 0.74676718 0.3964778  0.2941268  0.42688251\n",
      "  0.77266801 0.80377441 0.652742   0.23640603 0.5512726  0.77293468\n",
      "  0.7237393  0.27855598 0.88710153 0.84865299 0.59795422 0.52889046\n",
      "  0.09885656 0.81224383 0.82430632 0.06985621 0.14743924 0.49952456\n",
      "  0.36725341 0.67054358 0.3520863  0.79146449 0.28086018 0.42099235\n",
      "  0.74519634 0.78148945 0.25196913 0.21443272 0.82519902 0.2863557\n",
      "  0.85672113 0.38695736 0.48889612 0.09380749 0.47146872 1.01745443\n",
      "  0.1885684  0.63888285 0.78836026 0.54865234 0.27317834 0.42323771\n",
      "  0.48013579 1.03647919 0.68238535 0.4273585  0.71044187 0.91454176\n",
      "  0.16762737 0.42795356 0.87307391 0.80732432 0.59121484 0.42137562\n",
      "  0.98819782 0.29216085 0.3226843  0.59574448 0.26527988 0.8711744\n",
      "  0.53213709 0.92221785 0.51452981 0.73519496 0.         0.7019054\n",
      "  0.62350419 0.26107513 0.44606267 0.27384678]\n",
      " [0.56265282 0.54336794 0.28396065 0.80825137 0.69528731 0.40605844\n",
      "  0.14111015 0.47720937 0.29990695 0.60253633 0.39994076 0.32890901\n",
      "  0.36136837 0.08221877 0.71955044 0.84594836 0.28169828 0.62547133\n",
      "  0.74586171 0.75646446 0.58791202 0.30267637 0.78974672 0.5141927\n",
      "  0.52507412 0.3113721  0.52080752 0.65539754 0.51691303 0.65020765\n",
      "  0.40378721 0.41009211 0.34639268 0.64903491 0.5617228  0.08038851\n",
      "  0.02612885 0.69255563 0.23381775 0.34345137 0.20158248 0.80119366\n",
      "  0.78631225 0.42318504 0.49921506 0.74249772 0.78734982 0.30075055\n",
      "  0.42472813 0.0401052  0.41895575 0.10878998 0.80553516 0.3667814\n",
      "  0.07400959 0.30690292 0.70472095 0.77751803 0.13127408 0.49676842\n",
      "  0.1682033  0.32040288 0.33769837 0.79536158 0.51159424 0.40011338\n",
      "  0.74282219 0.45352138 0.31766594 0.46586574 0.43265781 0.67320061\n",
      "  0.5640451  0.4464957  0.12822502 0.5198981  0.58929057 0.47973059\n",
      "  0.65833428 0.28215283 0.33721105 0.41024277 0.11424726 0.79928285\n",
      "  0.37912541 0.56186005 0.71692927 0.52826238 0.7870125  0.1939704\n",
      "  0.27667155 0.43531624 0.52051171 0.10892967 0.7019054  0.\n",
      "  0.84756494 0.78101844 0.59080471 0.85058786]\n",
      " [0.3070809  0.43671972 0.95125751 0.90412555 0.25964087 1.04161529\n",
      "  0.97032013 0.37037151 1.0860784  0.28034358 0.98030168 0.84823278\n",
      "  0.9408957  0.92806554 0.51968906 0.94311605 0.56613035 0.46433316\n",
      "  0.11807491 0.61460551 0.87997566 0.71455035 0.86778771 0.36285156\n",
      "  0.37490036 0.84568226 0.45312585 0.25182162 0.81221193 0.23408998\n",
      "  0.58341557 0.60985804 0.53920168 0.39509182 0.28979184 0.92479195\n",
      "  0.87310395 0.34549215 1.08110256 1.15652455 0.89771612 0.09481407\n",
      "  0.69598222 1.18566208 1.23478774 0.68856133 0.5220636  0.55188997\n",
      "  0.82072832 0.84418134 0.49510212 0.86698027 0.90435463 0.83416658\n",
      "  0.9204701  1.09904721 0.37160581 0.43507765 0.96860309 0.78705672\n",
      "  1.00665146 0.70897085 0.88697148 0.63928052 0.97825632 0.91575127\n",
      "  0.4450847  1.08464755 0.67390798 0.38568026 0.66697688 0.22258365\n",
      "  0.28648935 0.89621134 0.73897726 0.34365891 0.354736   1.27382233\n",
      "  0.77012507 0.63933884 0.75634287 0.61354191 0.75450694 0.21351666\n",
      "  0.88807533 0.8401465  0.30082411 1.08852656 0.38364272 1.03723445\n",
      "  0.88628424 0.73185779 0.32714283 0.79406608 0.62350419 0.84756494\n",
      "  0.         0.38481132 0.27124772 0.89232654]\n",
      " [0.4686689  0.23766638 0.76262146 0.5337717  0.16735263 0.81599603\n",
      "  0.86267685 0.41834731 0.92732695 0.47970889 0.74629294 0.63388435\n",
      "  0.71774089 0.84630976 0.15256733 0.56964473 0.53876044 0.16980459\n",
      "  0.41279193 0.23741962 0.56533901 0.79346559 0.49795061 0.3109797\n",
      "  0.28132105 0.91706951 0.63730128 0.218983   0.51954485 0.25017255\n",
      "  0.70964556 0.74196304 0.6070973  0.13204016 0.41547072 0.86028161\n",
      "  0.80633542 0.10033001 0.99945502 1.00799768 0.74016738 0.29153009\n",
      "  0.31673179 0.99768925 1.02516817 0.3171604  0.13784661 0.50479625\n",
      "  0.56562304 0.7598419  0.36324532 0.84611528 0.53449765 0.60362154\n",
      "  0.84110908 0.94222746 0.07810991 0.05089573 0.91218541 0.50223124\n",
      "  0.94840659 0.51711263 0.66954334 0.25680859 0.70059573 1.00994455\n",
      "  0.07320398 0.84846137 0.7590626  0.45799436 0.42484325 0.23358346\n",
      "  0.34688103 1.01369855 0.7186205  0.32843354 0.57145356 1.09728938\n",
      "  0.42562209 0.50380134 0.85005889 0.74591328 0.6675572  0.17192041\n",
      "  0.97976414 0.53179795 0.11073864 0.82311084 0.00620653 0.97065666\n",
      "  0.69502318 0.87158883 0.40047164 0.7777167  0.26107513 0.78101844\n",
      "  0.38481132 0.         0.30170226 0.51469444]\n",
      " [0.16884142 0.19872432 0.68011405 0.71499534 0.14241335 0.77257717\n",
      "  0.70619176 0.13264511 0.81605208 0.18728099 0.71297152 0.57976774\n",
      "  0.67244859 0.66892464 0.36677377 0.75758581 0.31119775 0.26990856\n",
      "  0.20361644 0.46085585 0.64213087 0.51902601 0.67965703 0.0924027\n",
      "  0.11240424 0.64907205 0.33560035 0.08759474 0.56646723 0.06591873\n",
      "  0.41700307 0.4488152  0.32932133 0.21808738 0.1146431  0.67016533\n",
      "  0.61682671 0.20664575 0.82423087 0.88783738 0.62691097 0.21099746\n",
      "  0.53821072 0.91446798 0.96378028 0.51591884 0.40332707 0.29023597\n",
      "  0.56114554 0.58290186 0.22573622 0.62568    0.71442599 0.5685105\n",
      "  0.66179143 0.82924012 0.23724555 0.33408268 0.71717493 0.53914392\n",
      "  0.75531086 0.44003705 0.61840026 0.49690687 0.72128178 0.73470542\n",
      "  0.32009773 0.81663476 0.48106611 0.16701757 0.41047343 0.09059757\n",
      "  0.04568986 0.73042295 0.49418604 0.0731683  0.27448054 1.00319059\n",
      "  0.55939746 0.36812886 0.57154813 0.45280705 0.49075301 0.22670542\n",
      "  0.70490911 0.600684   0.19338304 0.82612988 0.30514702 0.78389115\n",
      "  0.61543871 0.57951602 0.10273238 0.55255857 0.44606267 0.59080471\n",
      "  0.27124772 0.30170226 0.         0.71769747]\n",
      " [0.87113279 0.52691817 0.65602169 0.05801508 0.64045086 0.62328609\n",
      "  0.84944691 0.76918641 0.81769427 0.89989606 0.56284185 0.54090665\n",
      "  0.56718726 0.87455186 0.37274758 0.06357682 0.75713952 0.44885448\n",
      "  0.89376188 0.27826622 0.28863432 1.02686968 0.06125692 0.66083784\n",
      "  0.62380453 1.11376821 1.00301288 0.67031583 0.33820297 0.70070555\n",
      "  1.00977232 1.03913298 0.88743777 0.51021727 0.81925627 0.90776102\n",
      "  0.86726323 0.55007978 0.98775593 0.89493798 0.69388755 0.79751793\n",
      "  0.19796494 0.82269869 0.80714805 0.20522585 0.37888121 0.72103091\n",
      "  0.43481443 0.8131204  0.590122   0.95358938 0.06128271 0.49762658\n",
      "  0.87421223 0.83180881 0.5217763  0.46401755 0.95623019 0.35483406\n",
      "  0.9808902  0.53688158 0.55224387 0.25956888 0.44376983 1.21377212\n",
      "  0.44817595 0.62529728 1.00771662 0.80579684 0.43772009 0.69694742\n",
      "  0.74948332 1.24207008 0.86712395 0.69248236 0.9758472  0.92110175\n",
      "  0.19743388 0.61545117 1.08496853 1.04236203 0.75409248 0.68424193\n",
      "  1.18623545 0.29900024 0.59249592 0.54869192 0.5174403  0.98650731\n",
      "  0.61241737 1.14780488 0.77916163 0.91106388 0.27384678 0.85058786\n",
      "  0.89232654 0.51469444 0.71769747 0.        ]]\n"
     ]
    }
   ],
   "source": [
    "import numpy as np\n",
    "from scipy.spatial import distance\n",
    "coordinates = np.random.rand(100, 2)\n",
    "\n",
    "distances = distance.cdist(coordinates, coordinates, metric='euclidean')\n",
    "\n",
    "print(\"Pairwise distances:\")\n",
    "print(distances)"
   ]
  },
  {
   "cell_type": "markdown",
   "id": "291e0bb9",
   "metadata": {},
   "source": [
    "#### 53. How to convert a float (32 bits) array into an integer (32 bits) in place?"
   ]
  },
  {
   "cell_type": "code",
   "execution_count": 53,
   "id": "2f3e6c00",
   "metadata": {},
   "outputs": [
    {
     "name": "stdout",
     "output_type": "stream",
     "text": [
      "Original float array: [0.03641002 0.4912967  0.30162713 0.97115743 0.731054   0.03670176\n",
      " 0.14135218 0.06884317 0.99231493 0.8739824 ]\n",
      "Converted integer array: [0 0 0 0 0 0 0 0 0 0]\n"
     ]
    }
   ],
   "source": [
    "import numpy as np\n",
    "\n",
    "float_array = np.random.rand(10).astype(np.float32)\n",
    "print(\"Original float array:\", float_array)\n",
    "\n",
    "float_array = float_array.astype(np.int32, copy=False)\n",
    "print(\"Converted integer array:\", float_array)"
   ]
  },
  {
   "cell_type": "markdown",
   "id": "1e305e92",
   "metadata": {},
   "source": [
    "#### 54. How to read the following file? (★★☆)\n",
    "```\n",
    "1, 2, 3, 4, 5\n",
    "6,  ,  , 7, 8\n",
    " ,  , 9,10,11\n",
    "```"
   ]
  },
  {
   "cell_type": "code",
   "execution_count": 55,
   "id": "753024cb",
   "metadata": {},
   "outputs": [
    {
     "name": "stdout",
     "output_type": "stream",
     "text": [
      "Data from the file:\n",
      "[[ 1.  2.  3.  4.  5.]\n",
      " [ 6. nan nan  7.  8.]\n",
      " [nan nan  9. 10. 11.]]\n"
     ]
    }
   ],
   "source": [
    "import numpy as np\n",
    "from io import StringIO\n",
    "\n",
    "file_content = \"\"\"1, 2, 3, 4, 5\n",
    "6,  ,  , 7, 8\n",
    " ,  , 9,10,11\"\"\"\n",
    "\n",
    "data = np.genfromtxt(StringIO(file_content), delimiter=\",\", dtype=float)\n",
    "\n",
    "print(\"Data from the file:\")\n",
    "print(data)"
   ]
  },
  {
   "cell_type": "markdown",
   "id": "94a8ad69",
   "metadata": {},
   "source": [
    "#### 55. What is the equivalent of enumerate for numpy arrays? (★★☆)"
   ]
  },
  {
   "cell_type": "code",
   "execution_count": 56,
   "id": "ae45249f",
   "metadata": {},
   "outputs": [
    {
     "name": "stdout",
     "output_type": "stream",
     "text": [
      "(0, 0) 1\n",
      "(0, 1) 2\n",
      "(1, 0) 3\n",
      "(1, 1) 4\n"
     ]
    }
   ],
   "source": [
    "import numpy as np\n",
    "\n",
    "array = np.array([[1, 2], [3, 4]])\n",
    "for index, value in np.ndenumerate(array):\n",
    "    print(index, value)"
   ]
  },
  {
   "cell_type": "markdown",
   "id": "72b340c9",
   "metadata": {},
   "source": [
    "#### 56. Generate a generic 2D Gaussian-like array (★★☆)"
   ]
  },
  {
   "cell_type": "code",
   "execution_count": 57,
   "id": "a80e5c9b",
   "metadata": {},
   "outputs": [
    {
     "name": "stdout",
     "output_type": "stream",
     "text": [
      "2D Gaussian-like array:\n",
      "[[2.06115362e-09 3.72665317e-06 4.53999298e-05 3.72665317e-06\n",
      "  2.06115362e-09]\n",
      " [3.72665317e-06 6.73794700e-03 8.20849986e-02 6.73794700e-03\n",
      "  3.72665317e-06]\n",
      " [4.53999298e-05 8.20849986e-02 1.00000000e+00 8.20849986e-02\n",
      "  4.53999298e-05]\n",
      " [3.72665317e-06 6.73794700e-03 8.20849986e-02 6.73794700e-03\n",
      "  3.72665317e-06]\n",
      " [2.06115362e-09 3.72665317e-06 4.53999298e-05 3.72665317e-06\n",
      "  2.06115362e-09]]\n"
     ]
    }
   ],
   "source": [
    "x, y = np.meshgrid(np.linspace(-1, 1, grid_size), np.linspace(-1, 1, grid_size))\n",
    "gaussian_array = np.exp(-(x**2 + y**2) / 0.1)\n",
    "print(\"2D Gaussian-like array:\")\n",
    "print(gaussian_array)"
   ]
  },
  {
   "cell_type": "markdown",
   "id": "86550d61",
   "metadata": {},
   "source": [
    "#### 57. How to randomly place p elements in a 2D array? (★★☆)"
   ]
  },
  {
   "cell_type": "code",
   "execution_count": 58,
   "id": "db9f2582",
   "metadata": {},
   "outputs": [
    {
     "name": "stdout",
     "output_type": "stream",
     "text": [
      "2D array with randomly placed elements:\n",
      "[[0 0 1 0 0]\n",
      " [0 0 0 0 1]\n",
      " [1 1 0 0 0]\n",
      " [0 0 0 0 1]\n",
      " [0 0 0 0 0]]\n"
     ]
    }
   ],
   "source": [
    "p = 5  \n",
    "array_shape = (5, 5)  \n",
    "\n",
    "array = np.zeros(array_shape, dtype=int)\n",
    "indices = np.random.choice(array.size, p, replace=False)\n",
    "array[np.unravel_index(indices, array.shape)] = 1\n",
    "\n",
    "print(\"2D array with randomly placed elements:\")\n",
    "print(array)"
   ]
  },
  {
   "cell_type": "markdown",
   "id": "153f8cfa",
   "metadata": {},
   "source": [
    "#### 58. Subtract the mean of each row of a matrix (★★☆)"
   ]
  },
  {
   "cell_type": "code",
   "execution_count": 59,
   "id": "8301cb12",
   "metadata": {},
   "outputs": [
    {
     "name": "stdout",
     "output_type": "stream",
     "text": [
      "Original matrix:\n",
      " [[0.88679771 0.8508962  0.00730963 0.80735229 0.20027707]\n",
      " [0.04157582 0.45336167 0.36458603 0.34897538 0.65342987]\n",
      " [0.64520437 0.57319361 0.76374257 0.90589084 0.65283418]\n",
      " [0.32091461 0.82253604 0.70117844 0.95073754 0.312959  ]\n",
      " [0.49441287 0.02075526 0.48627943 0.4462424  0.34230628]]\n",
      "Matrix after subtracting row means:\n",
      " [[ 0.33627113  0.30036962 -0.54321695  0.25682571 -0.35024951]\n",
      " [-0.33080993  0.08097591 -0.00779972 -0.02341037  0.28104411]\n",
      " [-0.06296875 -0.1349795   0.05556946  0.19771773 -0.05533894]\n",
      " [-0.30075052  0.20087092  0.07951331  0.32907241 -0.30870612]\n",
      " [ 0.13641362 -0.33724399  0.12828019  0.08824315 -0.01569297]]\n"
     ]
    }
   ],
   "source": [
    "matrix = np.random.rand(5, 5)  \n",
    "row_means = matrix.mean(axis=1, keepdims=True)\n",
    "result = matrix - row_means\n",
    "print(\"Original matrix:\\n\", matrix)\n",
    "print(\"Matrix after subtracting row means:\\n\", result)"
   ]
  },
  {
   "cell_type": "markdown",
   "id": "f4038090",
   "metadata": {},
   "source": [
    "#### 59. How to sort an array by the nth column? (★★☆)"
   ]
  },
  {
   "cell_type": "code",
   "execution_count": 60,
   "id": "eb5745df",
   "metadata": {},
   "outputs": [
    {
     "name": "stdout",
     "output_type": "stream",
     "text": [
      "Original array:\n",
      " [[65 84  1 86  5]\n",
      " [44 79 59 68 23]\n",
      " [72 51 34 84 97]\n",
      " [ 2 74 44 95 66]\n",
      " [70  9 39 16 56]]\n",
      "Array sorted by column 2:\n",
      " [[65 84  1 86  5]\n",
      " [72 51 34 84 97]\n",
      " [70  9 39 16 56]\n",
      " [ 2 74 44 95 66]\n",
      " [44 79 59 68 23]]\n"
     ]
    }
   ],
   "source": [
    "array = np.random.randint(0, 100, (5, 5)) \n",
    "n = 2 \n",
    "\n",
    "sorted_array = array[array[:, n].argsort()]\n",
    "print(\"Original array:\\n\", array)\n",
    "print(f\"Array sorted by column {n}:\\n\", sorted_array)"
   ]
  },
  {
   "cell_type": "markdown",
   "id": "20d2a462",
   "metadata": {},
   "source": [
    "#### 60. How to tell if a given 2D array has null columns? (★★☆)"
   ]
  },
  {
   "cell_type": "code",
   "execution_count": 61,
   "id": "b92b7316",
   "metadata": {},
   "outputs": [
    {
     "name": "stdout",
     "output_type": "stream",
     "text": [
      "Null columns: [False False False False False]\n",
      "Does the array have null columns? False\n"
     ]
    }
   ],
   "source": [
    "null_columns = np.all(array == 0, axis=0)\n",
    "has_null_columns = np.any(null_columns)\n",
    "\n",
    "print(\"Null columns:\", null_columns)\n",
    "print(\"Does the array have null columns?\", has_null_columns)"
   ]
  },
  {
   "cell_type": "markdown",
   "id": "bb2aa49b",
   "metadata": {},
   "source": [
    "#### 61. Find the nearest value from a given value in an array (★★☆)"
   ]
  },
  {
   "cell_type": "code",
   "execution_count": 62,
   "id": "8b62e59c",
   "metadata": {},
   "outputs": [
    {
     "name": "stdout",
     "output_type": "stream",
     "text": [
      "Nearest value to 0.5 in the array: 0.5141411853868224\n"
     ]
    }
   ],
   "source": [
    "nearest_value = vector[np.abs(vector - scalar).argmin()]\n",
    "print(\"Nearest value to\", scalar, \"in the array:\", nearest_value)"
   ]
  },
  {
   "cell_type": "markdown",
   "id": "1a950e1a",
   "metadata": {},
   "source": [
    "#### 62. Considering two arrays with shape (1,3) and (3,1), how to compute their sum using an iterator? (★★☆)"
   ]
  },
  {
   "cell_type": "code",
   "execution_count": 63,
   "id": "cad1d01b",
   "metadata": {},
   "outputs": [
    {
     "name": "stdout",
     "output_type": "stream",
     "text": [
      "Array 1:\n",
      " [[0 1 2]]\n",
      "Array 2:\n",
      " [[0]\n",
      " [1]\n",
      " [2]]\n",
      "Resultant Sum:\n",
      " [[0 1 2]\n",
      " [1 2 3]\n",
      " [2 3 4]]\n"
     ]
    }
   ],
   "source": [
    "array1 = np.arange(3).reshape(1, 3)\n",
    "array2 = np.arange(3).reshape(3, 1)\n",
    "\n",
    "result = np.empty((3, 3), dtype=int)\n",
    "with np.nditer([array1, array2, result], flags=['external_loop'], op_flags=[['readonly'], ['readonly'], ['writeonly']]) as it:\n",
    "    for x, y, z in it:\n",
    "        z[...] = x + y\n",
    "\n",
    "print(\"Array 1:\\n\", array1)\n",
    "print(\"Array 2:\\n\", array2)\n",
    "print(\"Resultant Sum:\\n\", result)"
   ]
  },
  {
   "cell_type": "markdown",
   "id": "165b3a20",
   "metadata": {},
   "source": [
    "#### 63. Create an array class that has a name attribute (★★☆)"
   ]
  },
  {
   "cell_type": "code",
   "execution_count": 65,
   "id": "666bf983",
   "metadata": {},
   "outputs": [
    {
     "name": "stdout",
     "output_type": "stream",
     "text": [
      "Array Name: MyArray\n",
      "Array Data: [0 1 2 3 4 5 6 7 8 9]\n"
     ]
    }
   ],
   "source": [
    "import numpy as np\n",
    "\n",
    "class NamedArray(np.ndarray):\n",
    "    def __new__(cls, input_array, name=\"Unnamed\"):\n",
    "        obj = np.asarray(input_array).view(cls)\n",
    "        obj.name = name\n",
    "        return obj\n",
    "\n",
    "    def __array_finalize__(self, obj):\n",
    "        if obj is None: return\n",
    "        self.name = getattr(obj, 'name', \"Unnamed\")\n",
    "\n",
    "\n",
    "data = np.arange(10)\n",
    "named_array = NamedArray(data, name=\"MyArray\")\n",
    "print(\"Array Name:\", named_array.name)\n",
    "print(\"Array Data:\", named_array)"
   ]
  },
  {
   "cell_type": "markdown",
   "id": "87f85b12",
   "metadata": {},
   "source": [
    "#### 64. Consider a given vector, how to add 1 to each element indexed by a second vector (be careful with repeated indices)? (★★★)"
   ]
  },
  {
   "cell_type": "code",
   "execution_count": 66,
   "id": "03ee4c88",
   "metadata": {},
   "outputs": [
    {
     "name": "stdout",
     "output_type": "stream",
     "text": [
      "Vector: [1 1 3 4 3 1 3 2 2 0]\n",
      "Indices: [7 8 3 2 6 6 3 4 2 5 1 4 4 3 2 3 6 8 0 7]\n"
     ]
    }
   ],
   "source": [
    "vector = np.zeros(10, dtype=int)\n",
    "indices = np.random.randint(0, len(vector), 20)\n",
    "np.add.at(vector, indices, 1)\n",
    "\n",
    "print(\"Vector:\", vector)\n",
    "print(\"Indices:\", indices)"
   ]
  },
  {
   "cell_type": "markdown",
   "id": "1cda27c4",
   "metadata": {},
   "source": [
    "#### 65. How to accumulate elements of a vector (X) to an array (F) based on an index list (I)? (★★★)"
   ]
  },
  {
   "cell_type": "code",
   "execution_count": 67,
   "id": "aee2c782",
   "metadata": {},
   "outputs": [
    {
     "name": "stdout",
     "output_type": "stream",
     "text": [
      "Vector X: [2 9 3 8 2 3 9 8 7 7]\n",
      "Index list I: [1 0 0 1 4 1 1 0 3 3]\n",
      "Accumulated array F: [20 22  0 14  2]\n"
     ]
    }
   ],
   "source": [
    "X = np.random.randint(1, 10, 10)  \n",
    "I = np.random.randint(0, 5, 10)   \n",
    "F = np.zeros(5, dtype=int)        \n",
    "\n",
    "np.add.at(F, I, X)\n",
    "\n",
    "print(\"Vector X:\", X)\n",
    "print(\"Index list I:\", I)\n",
    "print(\"Accumulated array F:\", F)"
   ]
  },
  {
   "cell_type": "markdown",
   "id": "1db205db",
   "metadata": {},
   "source": [
    "#### 66. Considering a (w,h,3) image of (dtype=ubyte), compute the number of unique colors (★★☆)"
   ]
  },
  {
   "cell_type": "code",
   "execution_count": 68,
   "id": "43204f35",
   "metadata": {},
   "outputs": [
    {
     "name": "stdout",
     "output_type": "stream",
     "text": [
      "Number of unique colors: 9997\n"
     ]
    }
   ],
   "source": [
    "image = np.random.randint(0, 256, (100, 100, 3), dtype=np.uint8)  \n",
    "reshaped_image = image.reshape(-1, 3)\n",
    "\n",
    "unique_colors = np.unique(reshaped_image, axis=0)\n",
    "num_unique_colors = unique_colors.shape[0]\n",
    "\n",
    "print(\"Number of unique colors:\", num_unique_colors)"
   ]
  },
  {
   "cell_type": "markdown",
   "id": "ebaf1222",
   "metadata": {},
   "source": [
    "#### 67. Considering a four dimensions array, how to get sum over the last two axis at once? (★★★)"
   ]
  },
  {
   "cell_type": "code",
   "execution_count": 69,
   "id": "aabbbab9",
   "metadata": {},
   "outputs": [
    {
     "name": "stdout",
     "output_type": "stream",
     "text": [
      "Original 4D array shape: (3, 4, 5, 6)\n",
      "Sum over the last two axes shape: (3, 4)\n",
      "Result:\n",
      " [[16.98602847 15.53962086 14.24964945 18.35341889]\n",
      " [14.41663131 14.45338277 15.94149305 14.26212386]\n",
      " [13.29469711 14.27943608  9.59836452 15.64568043]]\n"
     ]
    }
   ],
   "source": [
    "array_4d = np.random.rand(3, 4, 5, 6) \n",
    "sum_over_last_two_axes = array_4d.sum(axis=(-2, -1))\n",
    "\n",
    "print(\"Original 4D array shape:\", array_4d.shape)\n",
    "print(\"Sum over the last two axes shape:\", sum_over_last_two_axes.shape)\n",
    "print(\"Result:\\n\", sum_over_last_two_axes)"
   ]
  },
  {
   "cell_type": "markdown",
   "id": "2dfb4033",
   "metadata": {},
   "source": [
    "#### 68. Considering a one-dimensional vector D, how to compute means of subsets of D using a vector S of same size describing subset  indices? (★★★)"
   ]
  },
  {
   "cell_type": "code",
   "execution_count": 70,
   "id": "7a9c2287",
   "metadata": {},
   "outputs": [
    {
     "name": "stdout",
     "output_type": "stream",
     "text": [
      "Vector D: [0.99992249 0.19278105 0.02643056 0.43598603 0.06984657 0.18015631\n",
      " 0.39582868 0.47133459 0.11314221 0.59279711]\n",
      "Subset indices S: [0 2 1 1 0 1 2 0 0 0]\n",
      "Means of subsets: [0.44940859 0.21419097 0.29430486]\n"
     ]
    }
   ],
   "source": [
    "D = np.random.rand(10)  \n",
    "S = np.random.randint(0, 3, 10)  \n",
    "\n",
    "means = np.zeros(S.max() + 1)\n",
    "np.add.at(means, S, D)\n",
    "counts = np.bincount(S)\n",
    "means /= counts\n",
    "\n",
    "print(\"Vector D:\", D)\n",
    "print(\"Subset indices S:\", S)\n",
    "print(\"Means of subsets:\", means)"
   ]
  },
  {
   "cell_type": "markdown",
   "id": "7035c626",
   "metadata": {},
   "source": [
    "#### 69. How to get the diagonal of a dot product? (★★★)"
   ]
  },
  {
   "cell_type": "code",
   "execution_count": 71,
   "id": "f6af16c1",
   "metadata": {},
   "outputs": [
    {
     "name": "stdout",
     "output_type": "stream",
     "text": [
      "Diagonal of the dot product: [ 0 18 36]\n"
     ]
    }
   ],
   "source": [
    "diagonal = np.einsum('ij,ji->i', x[:, None] * y, z[:, None])\n",
    "print(\"Diagonal of the dot product:\", diagonal)"
   ]
  },
  {
   "cell_type": "markdown",
   "id": "8f73f0e5",
   "metadata": {},
   "source": [
    "#### 70. Consider the vector [1, 2, 3, 4, 5], how to build a new vector with 3 consecutive zeros interleaved between each value? (★★★)"
   ]
  },
  {
   "cell_type": "code",
   "execution_count": 72,
   "id": "b0cabc11",
   "metadata": {},
   "outputs": [
    {
     "name": "stdout",
     "output_type": "stream",
     "text": [
      "New vector with interleaved zeros: [1 0 0 0 2 0 0 0 3 0 0 0 4 0 0 0 5]\n"
     ]
    }
   ],
   "source": [
    "original_vector = np.array([1, 2, 3, 4, 5])\n",
    "new_vector = np.zeros(len(original_vector) + (len(original_vector) - 1) * 3, dtype=int)\n",
    "new_vector[::4] = original_vector\n",
    "print(\"New vector with interleaved zeros:\", new_vector)"
   ]
  },
  {
   "cell_type": "markdown",
   "id": "bafaa79e",
   "metadata": {},
   "source": [
    "#### 71. Consider an array of dimension (5,5,3), how to mulitply it by an array with dimensions (5,5)? (★★★)"
   ]
  },
  {
   "cell_type": "code",
   "execution_count": 74,
   "id": "d441e30b",
   "metadata": {},
   "outputs": [
    {
     "name": "stdout",
     "output_type": "stream",
     "text": [
      "3D Array:\n",
      " [[[0.85981724 0.70572405 0.4317072 ]\n",
      "  [0.11994597 0.52080815 0.69264212]\n",
      "  [0.7267197  0.56472827 0.5357957 ]\n",
      "  [0.72272956 0.0249245  0.0063597 ]\n",
      "  [0.76786546 0.14351561 0.62707158]]\n",
      "\n",
      " [[0.4902142  0.59112195 0.14533556]\n",
      "  [0.31765418 0.76130505 0.61067927]\n",
      "  [0.6858947  0.29239374 0.07281802]\n",
      "  [0.91747279 0.04591438 0.11948672]\n",
      "  [0.10917689 0.65539908 0.55660641]]\n",
      "\n",
      " [[0.31606811 0.21006758 0.53945897]\n",
      "  [0.25057644 0.81805087 0.61749822]\n",
      "  [0.89751384 0.39526872 0.09547108]\n",
      "  [0.53217145 0.86331119 0.23140469]\n",
      "  [0.97731378 0.0960895  0.8369954 ]]\n",
      "\n",
      " [[0.59812419 0.28022015 0.78606168]\n",
      "  [0.83997422 0.41137334 0.7062349 ]\n",
      "  [0.83140136 0.19564168 0.04370263]\n",
      "  [0.57227711 0.38368142 0.78651498]\n",
      "  [0.10631927 0.07117422 0.33411136]]\n",
      "\n",
      " [[0.40046478 0.67466453 0.66463914]\n",
      "  [0.02433485 0.08578706 0.08640332]\n",
      "  [0.37645536 0.4108242  0.47898809]\n",
      "  [0.18082977 0.14502781 0.14790542]\n",
      "  [0.97202487 0.98781816 0.60683182]]]\n",
      "2D Array:\n",
      " [[0.7648651  0.42838697 0.92305664 0.41158138 0.19958745]\n",
      " [0.95942453 0.25566448 0.56090336 0.83648426 0.62718091]\n",
      " [0.62595654 0.26835588 0.75547034 0.2599291  0.37463031]\n",
      " [0.12767568 0.99750776 0.38136506 0.85521424 0.69671432]\n",
      " [0.34180574 0.85169989 0.56897457 0.28561652 0.68622491]]\n",
      "Resultant Array:\n",
      " [[[0.6576442  0.53978369 0.33019777]\n",
      "  [0.05138329 0.22310743 0.29671886]\n",
      "  [0.67080344 0.52127618 0.49456978]\n",
      "  [0.29746203 0.01025846 0.00261753]\n",
      "  [0.15325631 0.02864391 0.12515562]]\n",
      "\n",
      " [[0.47032353 0.5671369  0.1394385 ]\n",
      "  [0.08121289 0.19463866 0.156129  ]\n",
      "  [0.38472064 0.16400463 0.04084387]\n",
      "  [0.76745155 0.03840666 0.09994876]\n",
      "  [0.06847366 0.41105379 0.34909292]]\n",
      "\n",
      " [[0.1978449  0.13149318 0.33767787]\n",
      "  [0.06724366 0.21952876 0.16570928]\n",
      "  [0.67804508 0.29861379 0.07212557]\n",
      "  [0.13832684 0.2243997  0.06014881]\n",
      "  [0.36613136 0.03599804 0.31356384]]\n",
      "\n",
      " [[0.07636591 0.0357773  0.10036096]\n",
      "  [0.8378808  0.4103481  0.7044748 ]\n",
      "  [0.31706743 0.0746109  0.01666666]\n",
      "  [0.48941954 0.32812982 0.67263881]\n",
      "  [0.07407416 0.04958809 0.23278017]]\n",
      "\n",
      " [[0.13688116 0.23060421 0.22717747]\n",
      "  [0.02072599 0.07306483 0.0735897 ]\n",
      "  [0.21419353 0.23374852 0.27253204]\n",
      "  [0.05164797 0.04142234 0.04224423]\n",
      "  [0.66702768 0.67786542 0.41642311]]]\n"
     ]
    }
   ],
   "source": [
    "array_3d = np.random.rand(5, 5, 3)\n",
    "array_2d = np.random.rand(5, 5)\n",
    "\n",
    "result = array_3d * array_2d[:, :, None]\n",
    "\n",
    "print(\"3D Array:\\n\", array_3d)\n",
    "print(\"2D Array:\\n\", array_2d)\n",
    "print(\"Resultant Array:\\n\", result)"
   ]
  },
  {
   "cell_type": "markdown",
   "id": "80a9ac82",
   "metadata": {},
   "source": [
    "#### 72. How to swap two rows of an array? (★★★)"
   ]
  },
  {
   "cell_type": "code",
   "execution_count": 73,
   "id": "1aee2791",
   "metadata": {},
   "outputs": [
    {
     "name": "stdout",
     "output_type": "stream",
     "text": [
      "Array after swapping rows:\n",
      "[[ 0  1  2  3  4]\n",
      " [15 16 17 18 19]\n",
      " [10 11 12 13 14]\n",
      " [ 5  6  7  8  9]\n",
      " [20 21 22 23 24]]\n"
     ]
    }
   ],
   "source": [
    "array = np.arange(25).reshape(5, 5)\n",
    "row1, row2 = 1, 3  \n",
    "\n",
    "array[[row1, row2]] = array[[row2, row1]]\n",
    "\n",
    "print(\"Array after swapping rows:\")\n",
    "print(array)"
   ]
  },
  {
   "cell_type": "markdown",
   "id": "5e53d68c",
   "metadata": {},
   "source": [
    "#### 73. Consider a set of 10 triplets describing 10 triangles (with shared vertices), find the set of unique line segments composing all the  triangles (★★★)"
   ]
  },
  {
   "cell_type": "code",
   "execution_count": 75,
   "id": "2f975322",
   "metadata": {},
   "outputs": [
    {
     "name": "stdout",
     "output_type": "stream",
     "text": [
      "Triangles:\n",
      " [[11  2  8]\n",
      " [ 7 15 17]\n",
      " [ 1  3  4]\n",
      " [16 12 19]\n",
      " [ 0 13  5]\n",
      " [ 7  8  8]\n",
      " [ 9 15  6]\n",
      " [16 14  8]\n",
      " [11 16 18]\n",
      " [ 3 17 12]]\n",
      "Unique line segments:\n",
      " [[ 0  5]\n",
      " [ 0 13]\n",
      " [ 1  3]\n",
      " [ 1  4]\n",
      " [ 2  8]\n",
      " [ 2 11]\n",
      " [ 3  4]\n",
      " [ 3 12]\n",
      " [ 3 17]\n",
      " [ 5 13]\n",
      " [ 6  9]\n",
      " [ 6 15]\n",
      " [ 7  8]\n",
      " [ 7 15]\n",
      " [ 7 17]\n",
      " [ 8  8]\n",
      " [ 8 11]\n",
      " [ 8 14]\n",
      " [ 8 16]\n",
      " [ 9 15]\n",
      " [11 16]\n",
      " [11 18]\n",
      " [12 16]\n",
      " [12 17]\n",
      " [12 19]\n",
      " [14 16]\n",
      " [15 17]\n",
      " [16 18]\n",
      " [16 19]]\n"
     ]
    }
   ],
   "source": [
    "import numpy as np\n",
    "\n",
    "triangles = np.random.randint(0, 20, (10, 3))\n",
    "segments = np.sort(np.array([[triangle[i], triangle[j]] for triangle in triangles for i in range(3) for j in range(i+1, 3)]), axis=1)\n",
    "unique_segments = np.unique(segments, axis=0)\n",
    "\n",
    "print(\"Triangles:\\n\", triangles)\n",
    "print(\"Unique line segments:\\n\", unique_segments)"
   ]
  },
  {
   "cell_type": "markdown",
   "id": "f85da603",
   "metadata": {},
   "source": [
    "#### 74. Given a sorted array C that corresponds to a bincount, how to produce an array A such that np.bincount(A) == C? (★★★)"
   ]
  },
  {
   "cell_type": "code",
   "execution_count": 76,
   "id": "8c476a73",
   "metadata": {},
   "outputs": [
    {
     "name": "stdout",
     "output_type": "stream",
     "text": [
      "Array C (bincount): [4 2 0 3 1]\n",
      "Array A: [0 0 0 0 1 1 3 3 3 4]\n"
     ]
    }
   ],
   "source": [
    "C = np.array([4, 2, 0, 3, 1])  \n",
    "A = np.repeat(np.arange(len(C)), C)\n",
    "print(\"Array C (bincount):\", C)\n",
    "print(\"Array A:\", A)"
   ]
  },
  {
   "cell_type": "markdown",
   "id": "a2330e6c",
   "metadata": {},
   "source": [
    "#### 75. How to compute averages using a sliding window over an array? (★★★)"
   ]
  },
  {
   "cell_type": "code",
   "execution_count": 77,
   "id": "35e5e9f5",
   "metadata": {},
   "outputs": [
    {
     "name": "stdout",
     "output_type": "stream",
     "text": [
      "Original array: [0 1 2 3 4 5 6 7 8 9]\n",
      "Sliding window averages: [1. 2. 3. 4. 5. 6. 7. 8.]\n"
     ]
    }
   ],
   "source": [
    "array = np.arange(10)  \n",
    "window_size = 3 \n",
    "\n",
    "averages = np.convolve(array, np.ones(window_size) / window_size, mode='valid')\n",
    "\n",
    "print(\"Original array:\", array)\n",
    "print(\"Sliding window averages:\", averages)"
   ]
  },
  {
   "cell_type": "markdown",
   "id": "87698de8",
   "metadata": {},
   "source": [
    "#### 76. Consider a one-dimensional array Z, build a two-dimensional array whose first row is (Z[0],Z[1],Z[2]) and each subsequent row is  shifted by 1 (last row should be (Z[-3],Z[-2],Z[-1]) (★★★)"
   ]
  },
  {
   "cell_type": "code",
   "execution_count": 78,
   "id": "753763ed",
   "metadata": {},
   "outputs": [
    {
     "name": "stdout",
     "output_type": "stream",
     "text": [
      "Original array: [0 1 2 3 4 5 6 7 8 9]\n",
      "Resultant 2D array:\n",
      "[[0 1 2]\n",
      " [1 2 3]\n",
      " [2 3 4]\n",
      " [3 4 5]\n",
      " [4 5 6]\n",
      " [5 6 7]\n",
      " [6 7 8]\n",
      " [7 8 9]]\n"
     ]
    }
   ],
   "source": [
    "Z = np.arange(10)  \n",
    "rows = len(Z) - 2  \n",
    "result = np.array([Z[i:i+3] for i in range(rows)])\n",
    "\n",
    "print(\"Original array:\", Z)\n",
    "print(\"Resultant 2D array:\")\n",
    "print(result)"
   ]
  },
  {
   "cell_type": "markdown",
   "id": "b8417b15",
   "metadata": {},
   "source": [
    "#### 77. How to negate a boolean, or to change the sign of a float inplace? (★★★)"
   ]
  },
  {
   "cell_type": "code",
   "execution_count": 79,
   "id": "3cad31b2",
   "metadata": {},
   "outputs": [
    {
     "name": "stdout",
     "output_type": "stream",
     "text": [
      "Negated boolean array: [False  True False  True]\n",
      "Sign-changed float array: [-1.  2. -3.  4.]\n"
     ]
    }
   ],
   "source": [
    "bool_array = np.array([True, False, True, False], dtype=bool)\n",
    "np.logical_not(bool_array, out=bool_array)\n",
    "print(\"Negated boolean array:\", bool_array)\n",
    "float_array = np.array([1.0, -2.0, 3.0, -4.0], dtype=float)\n",
    "float_array *= -1\n",
    "print(\"Sign-changed float array:\", float_array)"
   ]
  },
  {
   "cell_type": "markdown",
   "id": "37a49831",
   "metadata": {},
   "source": [
    "#### 78. Consider 2 sets of points P0,P1 describing lines (2d) and a point p, how to compute distance from p to each line i (P0[i],P1[i])? (★★★)"
   ]
  },
  {
   "cell_type": "code",
   "execution_count": 80,
   "id": "df95dce8",
   "metadata": {},
   "outputs": [
    {
     "name": "stdout",
     "output_type": "stream",
     "text": [
      "Distances from point to each line: [2. 1. 0.]\n"
     ]
    }
   ],
   "source": [
    "P0 = np.array([[0, 0], [1, 1], [2, 2]]) \n",
    "P1 = np.array([[1, 0], [2, 1], [3, 2]]) \n",
    "p = np.array([0, 2]) \n",
    "\n",
    "line_vectors = P1 - P0\n",
    "point_vectors = P0 - p\n",
    "cross_products = np.abs(line_vectors[:, 0] * point_vectors[:, 1] - line_vectors[:, 1] * point_vectors[:, 0])\n",
    "line_lengths = np.linalg.norm(line_vectors, axis=1)\n",
    "distances = cross_products / line_lengths\n",
    "\n",
    "print(\"Distances from point to each line:\", distances)"
   ]
  },
  {
   "cell_type": "markdown",
   "id": "f5ae032f",
   "metadata": {},
   "source": [
    "#### 79. Consider 2 sets of points P0,P1 describing lines (2d) and a set of points P, how to compute distance from each point j (P[j]) to each line i (P0[i],P1[i])? (★★★)"
   ]
  },
  {
   "cell_type": "code",
   "execution_count": 81,
   "id": "f5ae2e9b",
   "metadata": {},
   "outputs": [
    {
     "name": "stdout",
     "output_type": "stream",
     "text": [
      "Distances from each point to each line:\n",
      "[[2. 1. 0.]\n",
      " [0. 1. 2.]\n",
      " [1. 0. 1.]]\n"
     ]
    }
   ],
   "source": [
    "P0 = np.array([[0, 0], [1, 1], [2, 2]]) \n",
    "P1 = np.array([[1, 0], [2, 1], [3, 2]]) \n",
    "P = np.array([[0, 2], [2, 0], [1, 1]])  \n",
    "\n",
    "line_vectors = P1 - P0\n",
    "point_vectors = P[:, None, :] - P0[None, :, :]\n",
    "cross_products = np.abs(line_vectors[:, 0] * point_vectors[:, :, 1] - line_vectors[:, 1] * point_vectors[:, :, 0])\n",
    "line_lengths = np.linalg.norm(line_vectors, axis=1)\n",
    "distances = cross_products / line_lengths\n",
    "\n",
    "print(\"Distances from each point to each line:\")\n",
    "print(distances)"
   ]
  },
  {
   "cell_type": "markdown",
   "id": "6bc35ba2",
   "metadata": {},
   "source": [
    "#### 80. Consider an arbitrary array, write a function that extract a subpart with a fixed shape and centered on a given element (pad with a `fill` value when necessary) (★★★)"
   ]
  },
  {
   "cell_type": "code",
   "execution_count": 82,
   "id": "2ad8db75",
   "metadata": {},
   "outputs": [
    {
     "name": "stdout",
     "output_type": "stream",
     "text": [
      "Original array:\n",
      " [[ 0  1  2  3  4]\n",
      " [ 5  6  7  8  9]\n",
      " [10 11 12 13 14]\n",
      " [15 16 17 18 19]\n",
      " [20 21 22 23 24]]\n",
      "Extracted subarray:\n",
      " [[ 6  7  8]\n",
      " [11 12 13]\n",
      " [16 17 18]]\n"
     ]
    }
   ],
   "source": [
    "def extract_subarray(array, center, shape, fill=0):\n",
    "    slices = []\n",
    "    padding = []\n",
    "    for dim, (c, s) in enumerate(zip(center, shape)):\n",
    "        start = c - s // 2\n",
    "        end = c + s // 2 + 1\n",
    "        pad_before = max(0, -start)\n",
    "        pad_after = max(0, end - array.shape[dim])\n",
    "        slices.append(slice(max(0, start), min(array.shape[dim], end)))\n",
    "        padding.append((pad_before, pad_after))\n",
    "    \n",
    "    subarray = array[tuple(slices)]\n",
    "    if any(pad_before > 0 or pad_after > 0 for pad_before, pad_after in padding):\n",
    "        subarray = np.pad(subarray, padding, mode='constant', constant_values=fill)\n",
    "    \n",
    "    return subarray\n",
    "\n",
    "# Example usage\n",
    "array = np.arange(25).reshape(5, 5)\n",
    "center = (2, 2)\n",
    "shape = (3, 3)\n",
    "fill = -1\n",
    "\n",
    "result = extract_subarray(array, center, shape, fill)\n",
    "print(\"Original array:\\n\", array)\n",
    "print(\"Extracted subarray:\\n\", result)"
   ]
  },
  {
   "cell_type": "markdown",
   "id": "d17818f7",
   "metadata": {},
   "source": [
    "#### 81. Consider an array Z = [1,2,3,4,5,6,7,8,9,10,11,12,13,14], how to generate an array R = [[1,2,3,4], [2,3,4,5], [3,4,5,6], ..., [11,12,13,14]]? (★★★)"
   ]
  },
  {
   "cell_type": "code",
   "execution_count": 83,
   "id": "97deb72f",
   "metadata": {},
   "outputs": [
    {
     "name": "stdout",
     "output_type": "stream",
     "text": [
      "Generated array R:\n",
      "[[ 1  2  3  4]\n",
      " [ 2  3  4  5]\n",
      " [ 3  4  5  6]\n",
      " [ 4  5  6  7]\n",
      " [ 5  6  7  8]\n",
      " [ 6  7  8  9]\n",
      " [ 7  8  9 10]\n",
      " [ 8  9 10 11]\n",
      " [ 9 10 11 12]\n",
      " [10 11 12 13]\n",
      " [11 12 13 14]]\n"
     ]
    }
   ],
   "source": [
    "Z = np.arange(1, 15)  \n",
    "window_size = 4  \n",
    "\n",
    "R = np.lib.stride_tricks.sliding_window_view(Z, window_size)\n",
    "print(\"Generated array R:\")\n",
    "print(R)"
   ]
  },
  {
   "cell_type": "markdown",
   "id": "67f526e6",
   "metadata": {},
   "source": [
    "#### 82. Compute a matrix rank (★★★)"
   ]
  },
  {
   "cell_type": "code",
   "execution_count": 84,
   "id": "d70bed5b",
   "metadata": {},
   "outputs": [
    {
     "name": "stdout",
     "output_type": "stream",
     "text": [
      "Matrix:\n",
      " [[0.64911142 0.04347578 0.57987819 0.47541824 0.41962522]\n",
      " [0.30983467 0.114358   0.7476754  0.02170039 0.81125799]\n",
      " [0.78173836 0.12404806 0.60841259 0.24960018 0.99244568]\n",
      " [0.79002065 0.53694852 0.08051455 0.02695849 0.73990952]\n",
      " [0.0736531  0.66314929 0.25860449 0.70035473 0.33218756]]\n",
      "Rank of the matrix: 5\n"
     ]
    }
   ],
   "source": [
    "matrix = np.random.rand(5, 5)  \n",
    "\n",
    "rank = np.linalg.matrix_rank(matrix)\n",
    "\n",
    "print(\"Matrix:\\n\", matrix)\n",
    "print(\"Rank of the matrix:\", rank)"
   ]
  },
  {
   "cell_type": "markdown",
   "id": "0a3fb55f",
   "metadata": {},
   "source": [
    "#### 83. How to find the most frequent value in an array?"
   ]
  },
  {
   "cell_type": "code",
   "execution_count": 85,
   "id": "b0647d07",
   "metadata": {},
   "outputs": [
    {
     "name": "stdout",
     "output_type": "stream",
     "text": [
      "Most frequent value: 1\n"
     ]
    }
   ],
   "source": [
    "values, counts = np.unique(vector, return_counts=True)\n",
    "most_frequent_value = values[np.argmax(counts)]\n",
    "\n",
    "print(\"Most frequent value:\", most_frequent_value)"
   ]
  },
  {
   "cell_type": "markdown",
   "id": "cb0ac341",
   "metadata": {},
   "source": [
    "#### 84. Extract all the contiguous 3x3 blocks from a random 10x10 matrix (★★★)"
   ]
  },
  {
   "cell_type": "code",
   "execution_count": 86,
   "id": "91798923",
   "metadata": {},
   "outputs": [
    {
     "name": "stdout",
     "output_type": "stream",
     "text": [
      "Original 10x10 matrix:\n",
      " [[0.21656261 0.10008549 0.71481523 0.2542261  0.07077404 0.5087019\n",
      "  0.62826545 0.59822858 0.16480612 0.13096087]\n",
      " [0.39129008 0.00426397 0.19612276 0.93241782 0.07865254 0.6109063\n",
      "  0.53603029 0.1405764  0.73733075 0.5772594 ]\n",
      " [0.48141737 0.68750283 0.47262891 0.81175645 0.76467404 0.66704329\n",
      "  0.79237883 0.12530127 0.56659411 0.06819395]\n",
      " [0.22869742 0.17159851 0.82350218 0.44142416 0.60719868 0.08291204\n",
      "  0.93083072 0.89916485 0.94646508 0.46810042]\n",
      " [0.16456183 0.90088833 0.28301792 0.6093545  0.58812117 0.06337615\n",
      "  0.12371076 0.06174062 0.93966189 0.33661368]\n",
      " [0.03691883 0.38046785 0.07978854 0.26892917 0.02894234 0.80028844\n",
      "  0.5764024  0.55348165 0.07877978 0.10882533]\n",
      " [0.76471477 0.72501836 0.74609244 0.49622596 0.14508012 0.73478431\n",
      "  0.16935848 0.03297491 0.46834918 0.12075446]\n",
      " [0.2664489  0.80310875 0.49379691 0.76487206 0.54728133 0.78408012\n",
      "  0.13878701 0.77642401 0.54321428 0.19806523]\n",
      " [0.46400986 0.40148281 0.76816009 0.26562356 0.2034342  0.62020302\n",
      "  0.28244206 0.52368793 0.98253573 0.8194757 ]\n",
      " [0.69090042 0.28583804 0.40823686 0.97147946 0.59854502 0.60954043\n",
      "  0.07204549 0.16601858 0.56999936 0.81460646]]\n",
      "Contiguous 3x3 blocks:\n",
      " [[[[0.21656261 0.10008549 0.71481523]\n",
      "   [0.39129008 0.00426397 0.19612276]\n",
      "   [0.48141737 0.68750283 0.47262891]]\n",
      "\n",
      "  [[0.10008549 0.71481523 0.2542261 ]\n",
      "   [0.00426397 0.19612276 0.93241782]\n",
      "   [0.68750283 0.47262891 0.81175645]]\n",
      "\n",
      "  [[0.71481523 0.2542261  0.07077404]\n",
      "   [0.19612276 0.93241782 0.07865254]\n",
      "   [0.47262891 0.81175645 0.76467404]]\n",
      "\n",
      "  [[0.2542261  0.07077404 0.5087019 ]\n",
      "   [0.93241782 0.07865254 0.6109063 ]\n",
      "   [0.81175645 0.76467404 0.66704329]]\n",
      "\n",
      "  [[0.07077404 0.5087019  0.62826545]\n",
      "   [0.07865254 0.6109063  0.53603029]\n",
      "   [0.76467404 0.66704329 0.79237883]]\n",
      "\n",
      "  [[0.5087019  0.62826545 0.59822858]\n",
      "   [0.6109063  0.53603029 0.1405764 ]\n",
      "   [0.66704329 0.79237883 0.12530127]]\n",
      "\n",
      "  [[0.62826545 0.59822858 0.16480612]\n",
      "   [0.53603029 0.1405764  0.73733075]\n",
      "   [0.79237883 0.12530127 0.56659411]]\n",
      "\n",
      "  [[0.59822858 0.16480612 0.13096087]\n",
      "   [0.1405764  0.73733075 0.5772594 ]\n",
      "   [0.12530127 0.56659411 0.06819395]]]\n",
      "\n",
      "\n",
      " [[[0.39129008 0.00426397 0.19612276]\n",
      "   [0.48141737 0.68750283 0.47262891]\n",
      "   [0.22869742 0.17159851 0.82350218]]\n",
      "\n",
      "  [[0.00426397 0.19612276 0.93241782]\n",
      "   [0.68750283 0.47262891 0.81175645]\n",
      "   [0.17159851 0.82350218 0.44142416]]\n",
      "\n",
      "  [[0.19612276 0.93241782 0.07865254]\n",
      "   [0.47262891 0.81175645 0.76467404]\n",
      "   [0.82350218 0.44142416 0.60719868]]\n",
      "\n",
      "  [[0.93241782 0.07865254 0.6109063 ]\n",
      "   [0.81175645 0.76467404 0.66704329]\n",
      "   [0.44142416 0.60719868 0.08291204]]\n",
      "\n",
      "  [[0.07865254 0.6109063  0.53603029]\n",
      "   [0.76467404 0.66704329 0.79237883]\n",
      "   [0.60719868 0.08291204 0.93083072]]\n",
      "\n",
      "  [[0.6109063  0.53603029 0.1405764 ]\n",
      "   [0.66704329 0.79237883 0.12530127]\n",
      "   [0.08291204 0.93083072 0.89916485]]\n",
      "\n",
      "  [[0.53603029 0.1405764  0.73733075]\n",
      "   [0.79237883 0.12530127 0.56659411]\n",
      "   [0.93083072 0.89916485 0.94646508]]\n",
      "\n",
      "  [[0.1405764  0.73733075 0.5772594 ]\n",
      "   [0.12530127 0.56659411 0.06819395]\n",
      "   [0.89916485 0.94646508 0.46810042]]]\n",
      "\n",
      "\n",
      " [[[0.48141737 0.68750283 0.47262891]\n",
      "   [0.22869742 0.17159851 0.82350218]\n",
      "   [0.16456183 0.90088833 0.28301792]]\n",
      "\n",
      "  [[0.68750283 0.47262891 0.81175645]\n",
      "   [0.17159851 0.82350218 0.44142416]\n",
      "   [0.90088833 0.28301792 0.6093545 ]]\n",
      "\n",
      "  [[0.47262891 0.81175645 0.76467404]\n",
      "   [0.82350218 0.44142416 0.60719868]\n",
      "   [0.28301792 0.6093545  0.58812117]]\n",
      "\n",
      "  [[0.81175645 0.76467404 0.66704329]\n",
      "   [0.44142416 0.60719868 0.08291204]\n",
      "   [0.6093545  0.58812117 0.06337615]]\n",
      "\n",
      "  [[0.76467404 0.66704329 0.79237883]\n",
      "   [0.60719868 0.08291204 0.93083072]\n",
      "   [0.58812117 0.06337615 0.12371076]]\n",
      "\n",
      "  [[0.66704329 0.79237883 0.12530127]\n",
      "   [0.08291204 0.93083072 0.89916485]\n",
      "   [0.06337615 0.12371076 0.06174062]]\n",
      "\n",
      "  [[0.79237883 0.12530127 0.56659411]\n",
      "   [0.93083072 0.89916485 0.94646508]\n",
      "   [0.12371076 0.06174062 0.93966189]]\n",
      "\n",
      "  [[0.12530127 0.56659411 0.06819395]\n",
      "   [0.89916485 0.94646508 0.46810042]\n",
      "   [0.06174062 0.93966189 0.33661368]]]\n",
      "\n",
      "\n",
      " [[[0.22869742 0.17159851 0.82350218]\n",
      "   [0.16456183 0.90088833 0.28301792]\n",
      "   [0.03691883 0.38046785 0.07978854]]\n",
      "\n",
      "  [[0.17159851 0.82350218 0.44142416]\n",
      "   [0.90088833 0.28301792 0.6093545 ]\n",
      "   [0.38046785 0.07978854 0.26892917]]\n",
      "\n",
      "  [[0.82350218 0.44142416 0.60719868]\n",
      "   [0.28301792 0.6093545  0.58812117]\n",
      "   [0.07978854 0.26892917 0.02894234]]\n",
      "\n",
      "  [[0.44142416 0.60719868 0.08291204]\n",
      "   [0.6093545  0.58812117 0.06337615]\n",
      "   [0.26892917 0.02894234 0.80028844]]\n",
      "\n",
      "  [[0.60719868 0.08291204 0.93083072]\n",
      "   [0.58812117 0.06337615 0.12371076]\n",
      "   [0.02894234 0.80028844 0.5764024 ]]\n",
      "\n",
      "  [[0.08291204 0.93083072 0.89916485]\n",
      "   [0.06337615 0.12371076 0.06174062]\n",
      "   [0.80028844 0.5764024  0.55348165]]\n",
      "\n",
      "  [[0.93083072 0.89916485 0.94646508]\n",
      "   [0.12371076 0.06174062 0.93966189]\n",
      "   [0.5764024  0.55348165 0.07877978]]\n",
      "\n",
      "  [[0.89916485 0.94646508 0.46810042]\n",
      "   [0.06174062 0.93966189 0.33661368]\n",
      "   [0.55348165 0.07877978 0.10882533]]]\n",
      "\n",
      "\n",
      " [[[0.16456183 0.90088833 0.28301792]\n",
      "   [0.03691883 0.38046785 0.07978854]\n",
      "   [0.76471477 0.72501836 0.74609244]]\n",
      "\n",
      "  [[0.90088833 0.28301792 0.6093545 ]\n",
      "   [0.38046785 0.07978854 0.26892917]\n",
      "   [0.72501836 0.74609244 0.49622596]]\n",
      "\n",
      "  [[0.28301792 0.6093545  0.58812117]\n",
      "   [0.07978854 0.26892917 0.02894234]\n",
      "   [0.74609244 0.49622596 0.14508012]]\n",
      "\n",
      "  [[0.6093545  0.58812117 0.06337615]\n",
      "   [0.26892917 0.02894234 0.80028844]\n",
      "   [0.49622596 0.14508012 0.73478431]]\n",
      "\n",
      "  [[0.58812117 0.06337615 0.12371076]\n",
      "   [0.02894234 0.80028844 0.5764024 ]\n",
      "   [0.14508012 0.73478431 0.16935848]]\n",
      "\n",
      "  [[0.06337615 0.12371076 0.06174062]\n",
      "   [0.80028844 0.5764024  0.55348165]\n",
      "   [0.73478431 0.16935848 0.03297491]]\n",
      "\n",
      "  [[0.12371076 0.06174062 0.93966189]\n",
      "   [0.5764024  0.55348165 0.07877978]\n",
      "   [0.16935848 0.03297491 0.46834918]]\n",
      "\n",
      "  [[0.06174062 0.93966189 0.33661368]\n",
      "   [0.55348165 0.07877978 0.10882533]\n",
      "   [0.03297491 0.46834918 0.12075446]]]\n",
      "\n",
      "\n",
      " [[[0.03691883 0.38046785 0.07978854]\n",
      "   [0.76471477 0.72501836 0.74609244]\n",
      "   [0.2664489  0.80310875 0.49379691]]\n",
      "\n",
      "  [[0.38046785 0.07978854 0.26892917]\n",
      "   [0.72501836 0.74609244 0.49622596]\n",
      "   [0.80310875 0.49379691 0.76487206]]\n",
      "\n",
      "  [[0.07978854 0.26892917 0.02894234]\n",
      "   [0.74609244 0.49622596 0.14508012]\n",
      "   [0.49379691 0.76487206 0.54728133]]\n",
      "\n",
      "  [[0.26892917 0.02894234 0.80028844]\n",
      "   [0.49622596 0.14508012 0.73478431]\n",
      "   [0.76487206 0.54728133 0.78408012]]\n",
      "\n",
      "  [[0.02894234 0.80028844 0.5764024 ]\n",
      "   [0.14508012 0.73478431 0.16935848]\n",
      "   [0.54728133 0.78408012 0.13878701]]\n",
      "\n",
      "  [[0.80028844 0.5764024  0.55348165]\n",
      "   [0.73478431 0.16935848 0.03297491]\n",
      "   [0.78408012 0.13878701 0.77642401]]\n",
      "\n",
      "  [[0.5764024  0.55348165 0.07877978]\n",
      "   [0.16935848 0.03297491 0.46834918]\n",
      "   [0.13878701 0.77642401 0.54321428]]\n",
      "\n",
      "  [[0.55348165 0.07877978 0.10882533]\n",
      "   [0.03297491 0.46834918 0.12075446]\n",
      "   [0.77642401 0.54321428 0.19806523]]]\n",
      "\n",
      "\n",
      " [[[0.76471477 0.72501836 0.74609244]\n",
      "   [0.2664489  0.80310875 0.49379691]\n",
      "   [0.46400986 0.40148281 0.76816009]]\n",
      "\n",
      "  [[0.72501836 0.74609244 0.49622596]\n",
      "   [0.80310875 0.49379691 0.76487206]\n",
      "   [0.40148281 0.76816009 0.26562356]]\n",
      "\n",
      "  [[0.74609244 0.49622596 0.14508012]\n",
      "   [0.49379691 0.76487206 0.54728133]\n",
      "   [0.76816009 0.26562356 0.2034342 ]]\n",
      "\n",
      "  [[0.49622596 0.14508012 0.73478431]\n",
      "   [0.76487206 0.54728133 0.78408012]\n",
      "   [0.26562356 0.2034342  0.62020302]]\n",
      "\n",
      "  [[0.14508012 0.73478431 0.16935848]\n",
      "   [0.54728133 0.78408012 0.13878701]\n",
      "   [0.2034342  0.62020302 0.28244206]]\n",
      "\n",
      "  [[0.73478431 0.16935848 0.03297491]\n",
      "   [0.78408012 0.13878701 0.77642401]\n",
      "   [0.62020302 0.28244206 0.52368793]]\n",
      "\n",
      "  [[0.16935848 0.03297491 0.46834918]\n",
      "   [0.13878701 0.77642401 0.54321428]\n",
      "   [0.28244206 0.52368793 0.98253573]]\n",
      "\n",
      "  [[0.03297491 0.46834918 0.12075446]\n",
      "   [0.77642401 0.54321428 0.19806523]\n",
      "   [0.52368793 0.98253573 0.8194757 ]]]\n",
      "\n",
      "\n",
      " [[[0.2664489  0.80310875 0.49379691]\n",
      "   [0.46400986 0.40148281 0.76816009]\n",
      "   [0.69090042 0.28583804 0.40823686]]\n",
      "\n",
      "  [[0.80310875 0.49379691 0.76487206]\n",
      "   [0.40148281 0.76816009 0.26562356]\n",
      "   [0.28583804 0.40823686 0.97147946]]\n",
      "\n",
      "  [[0.49379691 0.76487206 0.54728133]\n",
      "   [0.76816009 0.26562356 0.2034342 ]\n",
      "   [0.40823686 0.97147946 0.59854502]]\n",
      "\n",
      "  [[0.76487206 0.54728133 0.78408012]\n",
      "   [0.26562356 0.2034342  0.62020302]\n",
      "   [0.97147946 0.59854502 0.60954043]]\n",
      "\n",
      "  [[0.54728133 0.78408012 0.13878701]\n",
      "   [0.2034342  0.62020302 0.28244206]\n",
      "   [0.59854502 0.60954043 0.07204549]]\n",
      "\n",
      "  [[0.78408012 0.13878701 0.77642401]\n",
      "   [0.62020302 0.28244206 0.52368793]\n",
      "   [0.60954043 0.07204549 0.16601858]]\n",
      "\n",
      "  [[0.13878701 0.77642401 0.54321428]\n",
      "   [0.28244206 0.52368793 0.98253573]\n",
      "   [0.07204549 0.16601858 0.56999936]]\n",
      "\n",
      "  [[0.77642401 0.54321428 0.19806523]\n",
      "   [0.52368793 0.98253573 0.8194757 ]\n",
      "   [0.16601858 0.56999936 0.81460646]]]]\n"
     ]
    }
   ],
   "source": [
    "matrix = np.random.rand(10, 10)  \n",
    "blocks = np.lib.stride_tricks.sliding_window_view(matrix, (3, 3))\n",
    "\n",
    "print(\"Original 10x10 matrix:\\n\", matrix)\n",
    "print(\"Contiguous 3x3 blocks:\\n\", blocks)"
   ]
  },
  {
   "cell_type": "markdown",
   "id": "c2a9da0d",
   "metadata": {},
   "source": [
    "#### 85. Create a 2D array subclass such that Z[i,j] == Z[j,i] (★★★)"
   ]
  },
  {
   "cell_type": "code",
   "execution_count": 87,
   "id": "f9b027ff",
   "metadata": {},
   "outputs": [
    {
     "name": "stdout",
     "output_type": "stream",
     "text": [
      "Symmetric array:\n",
      "[[ 0.  0.  0.  0.  0.]\n",
      " [ 0.  0.  0.  0.  0.]\n",
      " [ 0.  0.  0. 10.  0.]\n",
      " [ 0.  0. 10.  0.  0.]\n",
      " [ 0.  0.  0.  0.  0.]]\n"
     ]
    }
   ],
   "source": [
    "class SymmetricArray(np.ndarray):\n",
    "    def __setitem__(self, index, value):\n",
    "        i, j = index\n",
    "        super(SymmetricArray, self).__setitem__((i, j), value)\n",
    "        super(SymmetricArray, self).__setitem__((j, i), value)\n",
    "\n",
    "\n",
    "size = 5\n",
    "Z = np.zeros((size, size)).view(SymmetricArray)\n",
    "Z[2, 3] = 10\n",
    "\n",
    "print(\"Symmetric array:\")\n",
    "print(Z)"
   ]
  },
  {
   "cell_type": "markdown",
   "id": "718ac868",
   "metadata": {},
   "source": [
    "#### 86. Consider a set of p matrices with shape (n,n) and a set of p vectors with shape (n,1). How to compute the sum of of the p matrix products at once? (result has shape (n,1)) (★★★)"
   ]
  },
  {
   "cell_type": "code",
   "execution_count": 88,
   "id": "4de05217",
   "metadata": {},
   "outputs": [
    {
     "name": "stdout",
     "output_type": "stream",
     "text": [
      "Set of matrices:\n",
      " [[[0.80547087 0.46977416 0.75007904 0.35727768]\n",
      "  [0.74083052 0.02068152 0.91993248 0.35914404]\n",
      "  [0.18591293 0.10695594 0.37459291 0.77173033]\n",
      "  [0.78591037 0.0481882  0.45830143 0.55827907]]\n",
      "\n",
      " [[0.80094937 0.33506041 0.60057992 0.14578005]\n",
      "  [0.94747992 0.39446808 0.66125905 0.14900556]\n",
      "  [0.73923831 0.21440441 0.56525031 0.26265881]\n",
      "  [0.30511527 0.78942919 0.76221711 0.37819019]]\n",
      "\n",
      " [[0.31779053 0.75697825 0.41868925 0.26703457]\n",
      "  [0.55353205 0.93341076 0.13452853 0.36052875]\n",
      "  [0.64343177 0.25634568 0.78671385 0.10447023]\n",
      "  [0.17197374 0.66735162 0.24035121 0.36981401]]]\n",
      "Set of vectors:\n",
      " [[[0.78617899]\n",
      "  [0.29131723]\n",
      "  [0.16203361]\n",
      "  [0.22530716]]\n",
      "\n",
      " [[0.91356886]\n",
      "  [0.44743912]\n",
      "  [0.11360948]\n",
      "  [0.13630096]]\n",
      "\n",
      " [[0.55884665]\n",
      "  [0.2882314 ]\n",
      "  [0.95688695]\n",
      "  [0.54884774]]]\n",
      "Resultant sum of matrix products:\n",
      " [[2.88485656]\n",
      " [2.86093329]\n",
      " [2.52678946]\n",
      " [2.32347603]]\n"
     ]
    }
   ],
   "source": [
    "p, n = 3, 4 \n",
    "matrices = np.random.rand(p, n, n)  \n",
    "vectors = np.random.rand(p, n, 1)  \n",
    "\n",
    "result = np.einsum('pij,pjk->ik', matrices, vectors)\n",
    "\n",
    "print(\"Set of matrices:\\n\", matrices)\n",
    "print(\"Set of vectors:\\n\", vectors)\n",
    "print(\"Resultant sum of matrix products:\\n\", result)"
   ]
  },
  {
   "cell_type": "markdown",
   "id": "a6eda6f8",
   "metadata": {},
   "source": [
    "#### 87. Consider a 16x16 array, how to get the block-sum (block size is 4x4)? (★★★)"
   ]
  },
  {
   "cell_type": "code",
   "execution_count": 89,
   "id": "286b8db5",
   "metadata": {},
   "outputs": [
    {
     "name": "stdout",
     "output_type": "stream",
     "text": [
      "Original 16x16 array:\n",
      " [[0.22540408 0.25275933 0.67797469 0.64672695 0.98367595 0.40329194\n",
      "  0.77319514 0.11658009 0.26494733 0.47443159 0.47260328 0.66477217\n",
      "  0.76726159 0.21856695 0.93044908 0.52779446]\n",
      " [0.59059271 0.64063922 0.80485307 0.39274237 0.48347666 0.47354807\n",
      "  0.09725617 0.95656304 0.35598913 0.31795287 0.13465136 0.74057832\n",
      "  0.30616285 0.21830545 0.26131867 0.9587276 ]\n",
      " [0.1905292  0.3055669  0.80971675 0.22890103 0.77531944 0.63589178\n",
      "  0.03707196 0.31237649 0.24135082 0.08805449 0.97175372 0.45979016\n",
      "  0.40505389 0.52140601 0.54353125 0.32155173]\n",
      " [0.53948885 0.77576069 0.97654248 0.37096657 0.35133757 0.1902323\n",
      "  0.26015795 0.48996705 0.11868458 0.69413842 0.81664951 0.26763286\n",
      "  0.69119548 0.10524167 0.77712328 0.37722961]\n",
      " [0.04808147 0.15812091 0.72618681 0.7964673  0.51972487 0.35469481\n",
      "  0.76709164 0.43572714 0.42129702 0.45061538 0.51111687 0.0835533\n",
      "  0.07222697 0.35728272 0.14886374 0.29748409]\n",
      " [0.74961958 0.12317147 0.1823959  0.06373937 0.08630074 0.58259476\n",
      "  0.10446344 0.18273657 0.77000353 0.26900128 0.16409896 0.87603192\n",
      "  0.76527874 0.85979197 0.54128143 0.34749765]\n",
      " [0.66158314 0.60370595 0.71776773 0.11588357 0.58373011 0.16617977\n",
      "  0.21638882 0.79167504 0.25135546 0.5595538  0.97503385 0.72430562\n",
      "  0.03706398 0.6036337  0.68136359 0.12049377]\n",
      " [0.74542745 0.72925068 0.82616065 0.62232882 0.18784838 0.32312969\n",
      "  0.09644877 0.68927094 0.75932019 0.49737774 0.1166857  0.19015957\n",
      "  0.12012702 0.38759264 0.38815058 0.42971508]\n",
      " [0.58634926 0.07975208 0.77348968 0.97299388 0.61211504 0.26760635\n",
      "  0.53100366 0.73006833 0.29166381 0.784736   0.73823477 0.94011488\n",
      "  0.8289309  0.1737053  0.87928844 0.39827183]\n",
      " [0.71378736 0.75211122 0.96754439 0.78848433 0.9984193  0.63734537\n",
      "  0.93105139 0.51881706 0.14971104 0.85365971 0.11489214 0.26128523\n",
      "  0.98696711 0.45443976 0.47103885 0.38843035]\n",
      " [0.1437509  0.03424396 0.82191299 0.21004426 0.65399351 0.20493112\n",
      "  0.18895048 0.04501651 0.2549505  0.08620794 0.69367657 0.24014999\n",
      "  0.66205309 0.50755623 0.86221704 0.71328933]\n",
      " [0.6238025  0.20827665 0.25406189 0.63206834 0.67185501 0.03465416\n",
      "  0.39247725 0.42257772 0.75335509 0.52872854 0.9506288  0.11105402\n",
      "  0.33823094 0.25019234 0.79817521 0.57412079]\n",
      " [0.61519205 0.73066342 0.56987707 0.31164205 0.99546847 0.20329401\n",
      "  0.34072247 0.30583555 0.41124957 0.16033298 0.89488993 0.53925405\n",
      "  0.61901306 0.71513276 0.55711562 0.82086708]\n",
      " [0.52334945 0.85561932 0.79426392 0.14632062 0.11318482 0.07112291\n",
      "  0.7096384  0.29209253 0.78432456 0.23994964 0.71473653 0.63923021\n",
      "  0.94512203 0.20774813 0.48466815 0.7542491 ]\n",
      " [0.34571089 0.15688181 0.61730282 0.01752481 0.62765258 0.36362984\n",
      "  0.0964281  0.42012746 0.03292287 0.38066063 0.04727421 0.44636523\n",
      "  0.607752   0.40288887 0.52655949 0.24743034]\n",
      " [0.26158033 0.93649877 0.66075811 0.38900848 0.7375103  0.95535714\n",
      "  0.06722893 0.62123391 0.61306715 0.85012515 0.61157785 0.14110467\n",
      "  0.16003455 0.77470714 0.09177482 0.02752988]]\n",
      "Block-sum (4x4):\n",
      " [[8.42916488 7.33994162 7.08398061 7.93091957]\n",
      " [7.86989079 6.08800549 7.61951017 6.15784767]\n",
      " [8.5626737  7.84088226 7.75304904 9.28690751]\n",
      " [7.93219389 6.92052741 7.50706525 7.94259302]]\n"
     ]
    }
   ],
   "source": [
    "array_16x16 = np.random.rand(16, 16)  \n",
    "block_size = 4\n",
    "\n",
    "block_sum = array_16x16.reshape(16 // block_size, block_size, 16 // block_size, block_size).sum(axis=(1, 3))\n",
    "\n",
    "print(\"Original 16x16 array:\\n\", array_16x16)\n",
    "print(\"Block-sum (4x4):\\n\", block_sum)"
   ]
  },
  {
   "cell_type": "markdown",
   "id": "625aa611",
   "metadata": {},
   "source": [
    "#### 88. How to implement the Game of Life using numpy arrays? (★★★)"
   ]
  },
  {
   "cell_type": "code",
   "execution_count": 90,
   "id": "a01c1ff2",
   "metadata": {},
   "outputs": [
    {
     "name": "stdout",
     "output_type": "stream",
     "text": [
      "Initial Board:\n",
      "[[0 1 1 0 1 1 1 1 1 1]\n",
      " [1 0 0 1 0 0 0 0 0 1]\n",
      " [0 1 1 0 0 1 1 1 1 0]\n",
      " [1 0 1 0 1 1 0 1 1 0]\n",
      " [0 1 0 1 1 1 1 1 0 1]\n",
      " [0 1 1 1 1 0 1 0 0 1]\n",
      " [1 0 1 0 1 0 0 0 0 0]\n",
      " [1 1 0 0 0 1 1 0 1 0]\n",
      " [0 1 0 1 1 1 1 1 1 0]\n",
      " [1 1 0 0 1 0 0 1 1 0]]\n",
      "Next Generation:\n",
      "[[0 0 1 0 1 1 1 0 0 0]\n",
      " [0 0 0 1 0 0 0 0 0 0]\n",
      " [0 0 1 0 0 1 0 0 0 0]\n",
      " [1 0 0 0 0 0 0 0 0 0]\n",
      " [0 0 0 0 0 0 0 0 0 1]\n",
      " [0 0 0 0 0 0 1 1 1 1]\n",
      " [0 0 0 0 1 0 1 1 0 0]\n",
      " [1 0 0 0 0 0 0 0 1 0]\n",
      " [0 0 0 1 0 0 0 0 0 0]\n",
      " [0 0 0 0 0 0 0 0 0 0]]\n"
     ]
    },
    {
     "name": "stderr",
     "output_type": "stream",
     "text": [
      "C:\\Users\\197as\\AppData\\Local\\Temp\\ipykernel_18496\\1125989881.py:5: DeprecationWarning: Calling np.sum(generator) is deprecated, and in the future will give a different result. Use np.sum(np.fromiter(generator)) or the python sum builtin instead.\n",
      "  neighbors = sum(np.roll(np.roll(board, i, 0), j, 1)\n"
     ]
    }
   ],
   "source": [
    "import numpy as np\n",
    "\n",
    "def game_of_life_step(board):\n",
    "   \n",
    "    neighbors = sum(np.roll(np.roll(board, i, 0), j, 1)\n",
    "                    for i in (-1, 0, 1) for j in (-1, 0, 1)\n",
    "                    if (i != 0 or j != 0))\n",
    "    \n",
    "    \n",
    "    new_board = (neighbors == 3) | ((board == 1) & (neighbors == 2))\n",
    "    return new_board.astype(int)\n",
    "\n",
    "\n",
    "np.random.seed(0)\n",
    "board = np.random.randint(2, size=(10, 10))\n",
    "\n",
    "print(\"Initial Board:\")\n",
    "print(board)\n",
    "board = game_of_life_step(board)\n",
    "\n",
    "print(\"Next Generation:\")\n",
    "print(board)"
   ]
  },
  {
   "cell_type": "markdown",
   "id": "ca3dde4a",
   "metadata": {},
   "source": [
    "#### 89. How to get the n largest values of an array (★★★)"
   ]
  },
  {
   "cell_type": "code",
   "execution_count": 91,
   "id": "5d14148c",
   "metadata": {},
   "outputs": [
    {
     "name": "stdout",
     "output_type": "stream",
     "text": [
      "The 3 largest values in the array are: [3 3 4]\n"
     ]
    }
   ],
   "source": [
    "n = 3  \n",
    "largest_values = np.partition(vector, -n)[-n:]\n",
    "largest_values_sorted = np.sort(largest_values)\n",
    "\n",
    "print(f\"The {n} largest values in the array are:\", largest_values_sorted)"
   ]
  },
  {
   "cell_type": "markdown",
   "id": "e233805e",
   "metadata": {},
   "source": [
    "#### 90. Given an arbitrary number of vectors, build the cartesian product (every combinations of every item) (★★★)"
   ]
  },
  {
   "cell_type": "code",
   "execution_count": 92,
   "id": "17638e13",
   "metadata": {},
   "outputs": [
    {
     "name": "stdout",
     "output_type": "stream",
     "text": [
      "Cartesian product of the vectors:\n",
      "[[1 4 6]\n",
      " [1 5 6]\n",
      " [2 4 6]\n",
      " [2 5 6]\n",
      " [3 4 6]\n",
      " [3 5 6]\n",
      " [1 4 7]\n",
      " [1 5 7]\n",
      " [2 4 7]\n",
      " [2 5 7]\n",
      " [3 4 7]\n",
      " [3 5 7]\n",
      " [1 4 8]\n",
      " [1 5 8]\n",
      " [2 4 8]\n",
      " [2 5 8]\n",
      " [3 4 8]\n",
      " [3 5 8]]\n"
     ]
    }
   ],
   "source": [
    "import numpy as np\n",
    "\n",
    "vectors = [np.array([1, 2, 3]), np.array([4, 5]), np.array([6, 7, 8])]\n",
    "\n",
    "cartesian_product = np.array(np.meshgrid(*vectors)).T.reshape(-1, len(vectors))\n",
    "\n",
    "print(\"Cartesian product of the vectors:\")\n",
    "print(cartesian_product)"
   ]
  },
  {
   "cell_type": "markdown",
   "id": "c163f115",
   "metadata": {},
   "source": [
    "#### 91. How to create a record array from a regular array? (★★★)"
   ]
  },
  {
   "cell_type": "code",
   "execution_count": 93,
   "id": "da402514",
   "metadata": {},
   "outputs": [
    {
     "name": "stdout",
     "output_type": "stream",
     "text": [
      "Record array:\n",
      "[(1, 2, 3) (4, 5, 6) (7, 8, 9)]\n"
     ]
    }
   ],
   "source": [
    "import numpy as np\n",
    "regular_array = np.array([[1, 2, 3], [4, 5, 6], [7, 8, 9]])\n",
    "record_array = np.core.records.fromarrays(regular_array.T, names='col1, col2, col3', formats='i4, i4, i4')\n",
    "\n",
    "print(\"Record array:\")\n",
    "print(record_array)"
   ]
  },
  {
   "cell_type": "markdown",
   "id": "049c006e",
   "metadata": {},
   "source": [
    "#### 92. Consider a large vector Z, compute Z to the power of 3 using 3 different methods (★★★)"
   ]
  },
  {
   "cell_type": "code",
   "execution_count": 94,
   "id": "96ce278a",
   "metadata": {},
   "outputs": [
    {
     "name": "stdout",
     "output_type": "stream",
     "text": [
      "Method 1 result:\n",
      " [[   0.    0.    0.    0.    0.]\n",
      " [   0.    0.    0.    0.    0.]\n",
      " [   0.    0.    0. 1000.    0.]\n",
      " [   0.    0. 1000.    0.    0.]\n",
      " [   0.    0.    0.    0.    0.]]\n",
      "Method 2 result:\n",
      " [[   0.    0.    0.    0.    0.]\n",
      " [   0.    0.    0.    0.    0.]\n",
      " [   0.    0.    0. 1000.    0.]\n",
      " [   0.    0. 1000.    0.    0.]\n",
      " [   0.    0.    0.    0.    0.]]\n",
      "Method 3 result:\n",
      " [[   0.    0.    0.    0.    0.]\n",
      " [   0.    0.    0.    0.    0.]\n",
      " [   0.    0.    0. 1000.    0.]\n",
      " [   0.    0. 1000.    0.    0.]\n",
      " [   0.    0.    0.    0.    0.]]\n"
     ]
    }
   ],
   "source": [
    "method1 = Z ** 3\n",
    "method2 = np.power(Z, 3)\n",
    "method3 = Z * Z * Z\n",
    "\n",
    "print(\"Method 1 result:\\n\", method1)\n",
    "print(\"Method 2 result:\\n\", method2)\n",
    "print(\"Method 3 result:\\n\", method3)"
   ]
  },
  {
   "cell_type": "markdown",
   "id": "6e652635",
   "metadata": {},
   "source": [
    "#### 93. Consider two arrays A and B of shape (8,3) and (2,2). How to find rows of A that contain elements of each row of B regardless of the order of the elements in B? (★★★)"
   ]
  },
  {
   "cell_type": "code",
   "execution_count": 95,
   "id": "f429d6d4",
   "metadata": {},
   "outputs": [
    {
     "name": "stdout",
     "output_type": "stream",
     "text": [
      "Array A:\n",
      " [[9 4 4]\n",
      " [6 4 4]\n",
      " [3 4 4]\n",
      " [8 4 3]\n",
      " [7 5 5]\n",
      " [0 1 5]\n",
      " [9 3 0]\n",
      " [5 0 1]]\n",
      "Array B:\n",
      " [[2 4]\n",
      " [2 0]]\n",
      "Rows of A containing elements of each row of B:\n",
      " [[9 4 4]\n",
      " [6 4 4]\n",
      " [3 4 4]\n",
      " [8 4 3]\n",
      " [7 5 5]\n",
      " [0 1 5]\n",
      " [9 3 0]\n",
      " [5 0 1]]\n"
     ]
    }
   ],
   "source": [
    "A = np.random.randint(0, 10, (8, 3))\n",
    "B = np.random.randint(0, 10, (2, 2))\n",
    "\n",
    "result = []\n",
    "for row in A:\n",
    "    if all(any(row == b for b in B_row) for B_row in B):\n",
    "        result.append(row)\n",
    "\n",
    "result = np.array(result)\n",
    "\n",
    "print(\"Array A:\\n\", A)\n",
    "print(\"Array B:\\n\", B)\n",
    "print(\"Rows of A containing elements of each row of B:\\n\", result)"
   ]
  },
  {
   "cell_type": "markdown",
   "id": "33c4755d",
   "metadata": {},
   "source": [
    "#### 94. Considering a 10x3 matrix, extract rows with unequal values (e.g. [2,2,3]) (★★★)"
   ]
  },
  {
   "cell_type": "code",
   "execution_count": 96,
   "id": "29507586",
   "metadata": {},
   "outputs": [
    {
     "name": "stdout",
     "output_type": "stream",
     "text": [
      "Original matrix:\n",
      " [[3 2 0]\n",
      " [7 5 9]\n",
      " [0 2 7]\n",
      " [2 9 2]\n",
      " [3 3 2]\n",
      " [3 4 1]\n",
      " [2 9 1]\n",
      " [4 6 8]\n",
      " [2 3 0]\n",
      " [0 6 0]]\n",
      "Rows with unequal values:\n",
      " [[3 2 0]\n",
      " [7 5 9]\n",
      " [0 2 7]\n",
      " [2 9 2]\n",
      " [3 4 1]\n",
      " [2 9 1]\n",
      " [4 6 8]\n",
      " [2 3 0]\n",
      " [0 6 0]]\n"
     ]
    }
   ],
   "source": [
    "matrix = np.random.randint(0, 10, (10, 3))  \n",
    "unequal_rows = matrix[np.all(matrix[:, 1:] != matrix[:, :-1], axis=1)]\n",
    "\n",
    "print(\"Original matrix:\\n\", matrix)\n",
    "print(\"Rows with unequal values:\\n\", unequal_rows)"
   ]
  },
  {
   "cell_type": "markdown",
   "id": "c9fe158d",
   "metadata": {},
   "source": [
    "#### 95. Convert a vector of ints into a matrix binary representation (★★★)"
   ]
  },
  {
   "cell_type": "code",
   "execution_count": 97,
   "id": "1ce1935e",
   "metadata": {},
   "outputs": [
    {
     "name": "stdout",
     "output_type": "stream",
     "text": [
      "Vector of integers: [1 2 3 4 5]\n",
      "Binary representation matrix:\n",
      " [[1 0 0 0 0 0 0 0]\n",
      " [0 1 0 0 0 0 0 0]\n",
      " [1 1 0 0 0 0 0 0]\n",
      " [0 0 1 0 0 0 0 0]\n",
      " [1 0 1 0 0 0 0 0]]\n"
     ]
    }
   ],
   "source": [
    "vector = np.array([1, 2, 3, 4, 5])  \n",
    "binary_matrix = ((vector[:, None] & (1 << np.arange(8))) > 0).astype(int)\n",
    "\n",
    "print(\"Vector of integers:\", vector)\n",
    "print(\"Binary representation matrix:\\n\", binary_matrix)"
   ]
  },
  {
   "cell_type": "markdown",
   "id": "f60086c9",
   "metadata": {},
   "source": [
    "#### 96. Given a two dimensional array, how to extract unique rows? (★★★)"
   ]
  },
  {
   "cell_type": "code",
   "execution_count": 98,
   "id": "c103d77b",
   "metadata": {},
   "outputs": [
    {
     "name": "stdout",
     "output_type": "stream",
     "text": [
      "Vector of integers: [1 2 3 4 5]\n",
      "Binary representation matrix:\n",
      " [[1 0 0 0 0 0 0 0]\n",
      " [0 1 0 0 0 0 0 0]\n",
      " [1 1 0 0 0 0 0 0]\n",
      " [0 0 1 0 0 0 0 0]\n",
      " [1 0 1 0 0 0 0 0]]\n"
     ]
    }
   ],
   "source": [
    "binary_matrix = ((vector[:, None] & (1 << np.arange(8))) > 0).astype(int)\n",
    "\n",
    "print(\"Vector of integers:\", vector)\n",
    "print(\"Binary representation matrix:\\n\", binary_matrix)"
   ]
  },
  {
   "cell_type": "markdown",
   "id": "0f5e1299",
   "metadata": {},
   "source": [
    "#### 97. Considering 2 vectors A & B, write the einsum equivalent of inner, outer, sum, and mul function (★★★)"
   ]
  },
  {
   "cell_type": "code",
   "execution_count": 100,
   "id": "cd2a8214",
   "metadata": {},
   "outputs": [
    {
     "name": "stdout",
     "output_type": "stream",
     "text": [
      "Inner product: 32\n",
      "Outer product:\n",
      " [[ 4  5  6]\n",
      " [ 8 10 12]\n",
      " [12 15 18]]\n",
      "Sum of elements in A: 6\n",
      "Element-wise multiplication: [ 4 10 18]\n"
     ]
    }
   ],
   "source": [
    "A = np.array([1, 2, 3])\n",
    "B = np.array([4, 5, 6])\n",
    "\n",
    "inner_product = np.einsum('i,i->', A, B)\n",
    "print(\"Inner product:\", inner_product)\n",
    "\n",
    "outer_product = np.einsum('i,j->ij', A, B)\n",
    "print(\"Outer product:\\n\", outer_product)\n",
    "\n",
    "sum_elements = np.einsum('i->', A)\n",
    "print(\"Sum of elements in A:\", sum_elements)\n",
    "\n",
    "elementwise_mul = np.einsum('i,i->i', A, B)\n",
    "print(\"Element-wise multiplication:\", elementwise_mul)"
   ]
  },
  {
   "cell_type": "markdown",
   "id": "a04dd898",
   "metadata": {},
   "source": [
    "#### 98. Considering a path described by two vectors (X,Y), how to sample it using equidistant samples (★★★)?"
   ]
  },
  {
   "cell_type": "code",
   "execution_count": 102,
   "id": "12d9c30f",
   "metadata": {},
   "outputs": [
    {
     "name": "stdout",
     "output_type": "stream",
     "text": [
      "Sampled X coordinates: [0.         0.44444444 0.88888889 1.33333333 1.77777778 2.22222222\n",
      " 2.66666667 3.11111111 3.55555556 4.        ]\n",
      "Sampled Y coordinates: [0.         0.44444444 0.88888889 0.66666667 0.22222222 0.22222222\n",
      " 0.66666667 0.88888889 0.44444444 0.        ]\n"
     ]
    }
   ],
   "source": [
    "import numpy as np\n",
    "\n",
    "X = np.array([0, 1, 2, 3, 4])\n",
    "Y = np.array([0, 1, 0, 1, 0])\n",
    "\n",
    "num_samples = 10\n",
    "\n",
    "distances = np.sqrt(np.diff(X)**2 + np.diff(Y)**2)\n",
    "cumulative_distances = np.insert(np.cumsum(distances), 0, 0)\n",
    "\n",
    "equidistant_points = np.linspace(0, cumulative_distances[-1], num_samples)\n",
    "X_sampled = np.interp(equidistant_points, cumulative_distances, X)\n",
    "Y_sampled = np.interp(equidistant_points, cumulative_distances, Y)\n",
    "\n",
    "print(\"Sampled X coordinates:\", X_sampled)\n",
    "print(\"Sampled Y coordinates:\", Y_sampled)"
   ]
  },
  {
   "cell_type": "markdown",
   "id": "b45bf2ae",
   "metadata": {},
   "source": [
    "#### 99. Given an integer n and a 2D array X, select from X the rows which can be interpreted as draws from a multinomial distribution with n degrees, i.e., the rows which only contain integers and which sum to n. (★★★)"
   ]
  },
  {
   "cell_type": "code",
   "execution_count": 103,
   "id": "f4179f4a",
   "metadata": {},
   "outputs": [
    {
     "name": "stdout",
     "output_type": "stream",
     "text": [
      "Original array X:\n",
      " [[6 3 3 8 8]\n",
      " [8 2 3 2 0]\n",
      " [8 8 3 8 2]\n",
      " [8 4 3 0 4]\n",
      " [3 6 9 8 0]\n",
      " [8 5 9 0 9]\n",
      " [6 5 3 1 8]\n",
      " [0 4 9 6 5]\n",
      " [7 8 8 9 2]\n",
      " [8 6 6 9 1]]\n",
      "Rows that can be interpreted as draws from a multinomial distribution with n=10:\n",
      " []\n"
     ]
    }
   ],
   "source": [
    "n = 10\n",
    "X = np.random.randint(0, 10, (10, 5))  \n",
    "\n",
    "valid_rows = X[np.all(X >= 0, axis=1) & (X.sum(axis=1) == n)]\n",
    "\n",
    "print(\"Original array X:\\n\", X)\n",
    "print(f\"Rows that can be interpreted as draws from a multinomial distribution with n={n}:\\n\", valid_rows)"
   ]
  },
  {
   "cell_type": "markdown",
   "id": "d92b6592",
   "metadata": {},
   "source": [
    "#### 100. Compute bootstrapped 95% confidence intervals for the mean of a 1D array X (i.e., resample the elements of an array with replacement N times, compute the mean of each sample, and then compute percentiles over the means). (★★★)"
   ]
  },
  {
   "cell_type": "code",
   "execution_count": 104,
   "id": "256ebe30",
   "metadata": {},
   "outputs": [
    {
     "name": "stdout",
     "output_type": "stream",
     "text": [
      "Bootstrap 95% confidence interval for the mean: [0.44311344 0.55539226]\n"
     ]
    }
   ],
   "source": [
    "import numpy as np\n",
    "\n",
    "X = np.random.rand(100) \n",
    "N = 1000  \n",
    "\n",
    "bootstrap_means = np.array([np.mean(np.random.choice(X, size=len(X), replace=True)) for _ in range(N)])\n",
    "confidence_interval = np.percentile(bootstrap_means, [2.5, 97.5])\n",
    "\n",
    "print(\"Bootstrap 95% confidence interval for the mean:\", confidence_interval)"
   ]
  }
 ],
 "metadata": {
  "kernelspec": {
   "display_name": "Python 3",
   "language": "python",
   "name": "python3"
  },
  "language_info": {
   "codemirror_mode": {
    "name": "ipython",
    "version": 3
   },
   "file_extension": ".py",
   "mimetype": "text/x-python",
   "name": "python",
   "nbconvert_exporter": "python",
   "pygments_lexer": "ipython3",
   "version": "3.12.5"
  }
 },
 "nbformat": 4,
 "nbformat_minor": 5
}
